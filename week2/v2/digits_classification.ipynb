{
 "cells": [
  {
   "cell_type": "markdown",
   "metadata": {
    "slideshow": {
     "slide_type": "slide"
    }
   },
   "source": [
    "# MNIST digits classification with TensorFlow"
   ]
  },
  {
   "cell_type": "markdown",
   "metadata": {},
   "source": [
    "<img src=\"images/mnist_sample.png\" style=\"width:30%\">"
   ]
  },
  {
   "cell_type": "code",
   "execution_count": 1,
   "metadata": {},
   "outputs": [
    {
     "name": "stdout",
     "output_type": "stream",
     "text": [
      "We're using TF 1.11.0\n"
     ]
    },
    {
     "name": "stderr",
     "output_type": "stream",
     "text": [
      "Using TensorFlow backend.\n"
     ]
    }
   ],
   "source": [
    "import numpy as np\n",
    "from sklearn.metrics import accuracy_score\n",
    "from matplotlib import pyplot as plt\n",
    "%matplotlib inline\n",
    "import tensorflow as tf\n",
    "print(\"We're using TF\", tf.__version__)\n",
    "\n",
    "import sys\n",
    "sys.path.append(\"../..\")\n",
    "import grading\n",
    "\n",
    "import matplotlib_utils\n",
    "from importlib import reload\n",
    "reload(matplotlib_utils)\n",
    "\n",
    "import grading_utils\n",
    "reload(grading_utils)\n",
    "\n",
    "import keras_utils\n",
    "from keras_utils import reset_tf_session"
   ]
  },
  {
   "cell_type": "markdown",
   "metadata": {},
   "source": [
    "# Fill in your Coursera token and email\n",
    "To successfully submit your answers to our grader, please fill in your Coursera submission token and email"
   ]
  },
  {
   "cell_type": "code",
   "execution_count": 2,
   "metadata": {},
   "outputs": [],
   "source": [
    "grader = grading.Grader(assignment_key=\"XtD7ho3TEeiHQBLWejjYAA\", \n",
    "                        all_parts=[\"9XaAS\", \"vmogZ\", \"RMv95\", \"i8bgs\", \"rE763\"])"
   ]
  },
  {
   "cell_type": "code",
   "execution_count": 40,
   "metadata": {},
   "outputs": [],
   "source": [
    "# token expires every 30 min\n",
    "COURSERA_TOKEN = \"FyLeOhKdu5YuqRgG\"\n",
    "COURSERA_EMAIL = \"belitre@gmail.com\""
   ]
  },
  {
   "cell_type": "markdown",
   "metadata": {},
   "source": [
    "# Look at the data\n",
    "\n",
    "In this task we have 50000 28x28 images of digits from 0 to 9.\n",
    "We will train a classifier on this data."
   ]
  },
  {
   "cell_type": "code",
   "execution_count": 4,
   "metadata": {},
   "outputs": [
    {
     "name": "stdout",
     "output_type": "stream",
     "text": [
      "Downloading data from https://s3.amazonaws.com/img-datasets/mnist.npz\n",
      "11493376/11490434 [==============================] - ETA: 4: - ETA: 1: - ETA: 1: - ETA: 56s - ETA: 41 - ETA: 44 - ETA: 38 - ETA: 40 - ETA: 38 - ETA: 35 - ETA: 32 - ETA: 30 - ETA: 27 - ETA: 26 - ETA: 25 - ETA: 24 - ETA: 23 - ETA: 23 - ETA: 28 - ETA: 19 - ETA: 18 - ETA: 18 - ETA: 18 - ETA: 17 - ETA: 17 - ETA: 17 - ETA: 17 - ETA: 17 - ETA: 16 - ETA: 16 - ETA: 16 - ETA: 16 - ETA: 16 - ETA: 16 - ETA: 15 - ETA: 15 - ETA: 15 - ETA: 15 - ETA: 15 - ETA: 15 - ETA: 15 - ETA: 14 - ETA: 14 - ETA: 14 - ETA: 14 - ETA: 14 - ETA: 14 - ETA: 14 - ETA: 14 - ETA: 14 - ETA: 13 - ETA: 13 - ETA: 13 - ETA: 13 - ETA: 13 - ETA: 13 - ETA: 13 - ETA: 13 - ETA: 12 - ETA: 12 - ETA: 12 - ETA: 12 - ETA: 12 - ETA: 12 - ETA: 12 - ETA: 12 - ETA: 12 - ETA: 12 - ETA: 12 - ETA: 11 - ETA: 11 - ETA: 11 - ETA: 11 - ETA: 11 - ETA: 11 - ETA: 11 - ETA: 11 - ETA: 11 - ETA: 11 - ETA: 11 - ETA: 11 - ETA: 10 - ETA: 10 - ETA: 10 - ETA: 10 - ETA: 10 - ETA: 10 - ETA: 10 - ETA: 10 - ETA: 10 - ETA: 10 - ETA: 10 - ETA: 10 - ETA: 10 - ETA: 9 - ETA:  - ETA:  - ETA:  - ETA:  - ETA:  - ETA:  - ETA:  - ETA:  - ETA:  - ETA:  - ETA:  - ETA:  - ETA:  - ETA:  - ETA:  - ETA:  - ETA:  - ETA:  - ETA:  - ETA:  - ETA:  - ETA:  - ETA:  - ETA:  - ETA:  - ETA:  - ETA:  - ETA:  - ETA:  - ETA:  - ETA:  - ETA:  - ETA:  - ETA:  - ETA:  - ETA:  - ETA:  - ETA:  - ETA:  - ETA:  - ETA:  - ETA:  - ETA:  - ETA:  - ETA:  - ETA:  - ETA:  - ETA:  - ETA:  - ETA:  - ETA:  - ETA:  - ETA:  - ETA:  - ETA:  - ETA:  - ETA:  - ETA:  - ETA:  - ETA:  - ETA:  - ETA:  - ETA:  - ETA:  - ETA:  - ETA:  - ETA:  - ETA:  - ETA:  - ETA:  - ETA:  - ETA:  - ETA:  - ETA:  - ETA:  - ETA:  - ETA:  - ETA:  - ETA:  - ETA:  - ETA:  - ETA:  - ETA:  - ETA:  - ETA:  - ETA:  - ETA:  - ETA:  - ETA:  - ETA:  - ETA:  - ETA:  - ETA:  - ETA:  - ETA:  - ETA:  - ETA:  - ETA:  - ETA:  - ETA:  - ETA:  - ETA:  - ETA:  - ETA:  - ETA:  - ETA:  - ETA:  - ETA:  - ETA:  - ETA:  - ETA:  - ETA:  - ETA:  - ETA:  - ETA:  - ETA:  - ETA:  - ETA:  - ETA:  - ETA:  - ETA:  - ETA:  - ETA:  - ETA:  - ETA:  - ETA:  - ETA:  - ETA:  - ETA:  - ETA:  - ETA:  - ETA:  - ETA:  - ETA:  - ETA:  - ETA:  - ETA:  - ETA:  - ETA:  - ETA:  - 18s 2us/step\n"
     ]
    }
   ],
   "source": [
    "import preprocessed_mnist\n",
    "X_train, y_train, X_val, y_val, X_test, y_test = preprocessed_mnist.load_dataset()"
   ]
  },
  {
   "cell_type": "code",
   "execution_count": 5,
   "metadata": {},
   "outputs": [
    {
     "name": "stdout",
     "output_type": "stream",
     "text": [
      "X_train [shape (50000, 28, 28)] sample patch:\n",
      " [[0.         0.29803922 0.96470588 0.98823529 0.43921569]\n",
      " [0.         0.33333333 0.98823529 0.90196078 0.09803922]\n",
      " [0.         0.33333333 0.98823529 0.8745098  0.        ]\n",
      " [0.         0.33333333 0.98823529 0.56862745 0.        ]\n",
      " [0.         0.3372549  0.99215686 0.88235294 0.        ]]\n",
      "A closeup of a sample patch:\n"
     ]
    },
    {
     "data": {
      "image/png": "[encoded data removed]",
      "text/plain": [
       "<Figure size 432x288 with 1 Axes>"
      ]
     },
     "metadata": {
      "needs_background": "light"
     },
     "output_type": "display_data"
    },
    {
     "name": "stdout",
     "output_type": "stream",
     "text": [
      "And the whole sample:\n"
     ]
    },
    {
     "data": {
      "image/png": "[encoded data removed]",
      "text/plain": [
       "<Figure size 432x288 with 1 Axes>"
      ]
     },
     "metadata": {
      "needs_background": "light"
     },
     "output_type": "display_data"
    },
    {
     "name": "stdout",
     "output_type": "stream",
     "text": [
      "y_train [shape (50000,)] 10 samples:\n",
      " [5 0 4 1 9 2 1 3 1 4]\n"
     ]
    }
   ],
   "source": [
    "# X contains rgb values divided by 255\n",
    "print(\"X_train [shape %s] sample patch:\\n\" % (str(X_train.shape)), X_train[1, 15:20, 5:10])\n",
    "print(\"A closeup of a sample patch:\")\n",
    "plt.imshow(X_train[1, 15:20, 5:10], cmap=\"Greys\")\n",
    "plt.show()\n",
    "print(\"And the whole sample:\")\n",
    "plt.imshow(X_train[1], cmap=\"Greys\")\n",
    "plt.show()\n",
    "print(\"y_train [shape %s] 10 samples:\\n\" % (str(y_train.shape)), y_train[:10])"
   ]
  },
  {
   "cell_type": "markdown",
   "metadata": {},
   "source": [
    "# Linear model\n",
    "\n",
    "Your task is to train a linear classifier $\\vec{x} \\rightarrow y$ with SGD using TensorFlow.\n",
    "\n",
    "You will need to calculate a logit (a linear transformation) $z_k$ for each class: \n",
    "$$z_k = \\vec{x} \\cdot \\vec{w_k} + b_k \\quad k = 0..9$$\n",
    "\n",
    "And transform logits $z_k$ to valid probabilities $p_k$ with softmax: \n",
    "$$p_k = \\frac{e^{z_k}}{\\sum_{i=0}^{9}{e^{z_i}}} \\quad k = 0..9$$\n",
    "\n",
    "We will use a cross-entropy loss to train our multi-class classifier:\n",
    "$$\\text{cross-entropy}(y, p) = -\\sum_{k=0}^{9}{\\log(p_k)[y = k]}$$ \n",
    "\n",
    "where \n",
    "$$\n",
    "[x]=\\begin{cases}\n",
    "       1, \\quad \\text{if $x$ is true} \\\\\n",
    "       0, \\quad \\text{otherwise}\n",
    "    \\end{cases}\n",
    "$$\n",
    "\n",
    "Cross-entropy minimization pushes $p_k$ close to 1 when $y = k$, which is what we want.\n",
    "\n",
    "Here's the plan:\n",
    "* Flatten the images (28x28 -> 784) with `X_train.reshape((X_train.shape[0], -1))` to simplify our linear model implementation\n",
    "* Use a matrix placeholder for flattened `X_train`\n",
    "* Convert `y_train` to one-hot encoded vectors that are needed for cross-entropy\n",
    "* Use a shared variable `W` for all weights (a column $\\vec{w_k}$ per class) and `b` for all biases.\n",
    "* Aim for ~0.93 validation accuracy"
   ]
  },
  {
   "cell_type": "code",
   "execution_count": 6,
   "metadata": {},
   "outputs": [
    {
     "name": "stdout",
     "output_type": "stream",
     "text": [
      "(50000, 784)\n",
      "(10000, 784)\n"
     ]
    }
   ],
   "source": [
    "X_train_flat = X_train.reshape((X_train.shape[0], -1))\n",
    "print(X_train_flat.shape)\n",
    "\n",
    "X_val_flat = X_val.reshape((X_val.shape[0], -1))\n",
    "print(X_val_flat.shape)"
   ]
  },
  {
   "cell_type": "code",
   "execution_count": 7,
   "metadata": {},
   "outputs": [
    {
     "name": "stdout",
     "output_type": "stream",
     "text": [
      "(50000, 10)\n",
      "[[0. 0. 0. 0. 0. 1. 0. 0. 0. 0.]\n",
      " [1. 0. 0. 0. 0. 0. 0. 0. 0. 0.]\n",
      " [0. 0. 0. 0. 1. 0. 0. 0. 0. 0.]] [5 0 4]\n"
     ]
    }
   ],
   "source": [
    "import keras\n",
    "\n",
    "y_train_oh = keras.utils.to_categorical(y_train, 10)\n",
    "y_val_oh = keras.utils.to_categorical(y_val, 10)\n",
    "\n",
    "print(y_train_oh.shape)\n",
    "print(y_train_oh[:3], y_train[:3])"
   ]
  },
  {
   "cell_type": "code",
   "execution_count": 58,
   "metadata": {},
   "outputs": [],
   "source": [
    "# run this again if you remake your graph\n",
    "s = reset_tf_session()"
   ]
  },
  {
   "cell_type": "code",
   "execution_count": 59,
   "metadata": {},
   "outputs": [],
   "source": [
    "# Model parameters: W and b\n",
    "W = tf.get_variable(\"W\", shape=(784, 10), dtype=tf.float32)\n",
    "b = tf.get_variable(\"b\", shape=(10, ), dtype=tf.float32)"
   ]
  },
  {
   "cell_type": "code",
   "execution_count": 60,
   "metadata": {},
   "outputs": [],
   "source": [
    "# Placeholders for the input data\n",
    "input_X = tf.placeholder(tf.float32, shape=(None, 784)) ### for flat X with shape[0] = None for any batch size\n",
    "input_y = tf.placeholder(tf.float32, shape=(None, 10)) ### tf.placeholder(...) for one-hot encoded true labels"
   ]
  },
  {
   "cell_type": "code",
   "execution_count": 61,
   "metadata": {},
   "outputs": [],
   "source": [
    "# Compute predictions\n",
    "logits = input_X @ W + b ### logits for input_X, resulting shape should be [input_X.shape[0], 10]\n",
    "probas = tf.nn.softmax(logits) ### apply tf.nn.softmax to logits\n",
    "classes = tf.argmax(probas, axis=1) ### apply tf.argmax to find a class index with highest probability\n",
    "\n",
    "# Loss should be a scalar number: average loss over all the objects with tf.reduce_mean().\n",
    "# Use tf.nn.softmax_cross_entropy_with_logits on top of one-hot encoded input_y and logits.\n",
    "# It is identical to calculating cross-entropy on top of probas, but is more numerically friendly (read the docs).\n",
    "loss = tf.reduce_mean(\n",
    "    tf.nn.softmax_cross_entropy_with_logits_v2(\n",
    "        logits=logits, labels=input_y\n",
    "    )\n",
    ")\n",
    "# Use a default tf.train.AdamOptimizer to get an SGD step\n",
    "step = tf.train.AdamOptimizer().minimize(loss) ### optimizer step that minimizes the loss"
   ]
  },
  {
   "cell_type": "code",
   "execution_count": 62,
   "metadata": {
    "scrolled": false
   },
   "outputs": [
    {
     "data": {
      "text/html": [
       "<img src=\"data:image/jpeg;base64,/9j/4AAQSkZJRgABAQEASABIAAD/2wBDAAIBAQEBAQIBAQECAgICAgQDAgICAgUEBAMEBgUGBgYFBgYGBwkIBgcJBwYGCAsICQoKCgoKBggLDAsKDAkKCgr/2wBDAQICAgICAgUDAwUKBwYHCgoKCgoKCgoKCgoKCgoKCgoKCgoKCgoKCgoKCgoKCgoKCgoKCgoKCgoKCgoKCgoKCgr/wAARCAEgA2ADASIAAhEBAxEB/8QAHwAAAQUBAQEBAQEAAAAAAAAAAAECAwQFBgcICQoL/8QAtRAAAgEDAwIEAwUFBAQAAAF9AQIDAAQRBRIhMUEGE1FhByJxFDKBkaEII0KxwRVS0fAkM2JyggkKFhcYGRolJicoKSo0NTY3ODk6Q0RFRkdISUpTVFVWV1hZWmNkZWZnaGlqc3R1dnd4eXqDhIWGh4iJipKTlJWWl5iZmqKjpKWmp6ipqrKztLW2t7i5usLDxMXGx8jJytLT1NXW19jZ2uHi4%2BTl5ufo6erx8vP09fb3%2BPn6/8QAHwEAAwEBAQEBAQEBAQAAAAAAAAECAwQFBgcICQoL/8QAtREAAgECBAQDBAcFBAQAAQJ3AAECAxEEBSExBhJBUQdhcRMiMoEIFEKRobHBCSMzUvAVYnLRChYkNOEl8RcYGRomJygpKjU2Nzg5OkNERUZHSElKU1RVVldYWVpjZGVmZ2hpanN0dXZ3eHl6goOEhYaHiImKkpOUlZaXmJmaoqOkpaanqKmqsrO0tba3uLm6wsPExcbHyMnK0tPU1dbX2Nna4uPk5ebn6Onq8vP09fb3%2BPn6/9oADAMBAAIRAxEAPwD9/KKKKACiiigAooooAKKKKACiiigAooooAKKKKACiiigAooooAKKKKACiiigAooooAKKKKACiiigAooooAKKKKACiiigAooooAKKKKACiiigAooooAKKKKACiiigAooooAKKKKACiiigAooooAKKKKACiiigAooooAKKKKACiiigAooooAKKKKACiiigAooooAKKKKACiiigAooooAKKKKACiiigAooooAKKKKACiiigAooooAKKKKACiiigAooooAKKKKACiiigAooooAKKKKACiiigAooooAKKKKACiiigAooooAKKKKACiiigAooooAKKKKACiiigAooooAKKKKACiiigAooooAKKKKACvPfjt%2B1J8FP2b5NGsfil4g1Maj4ilnTQNB8OeF9R1zVNR8lVed4bHTbee5kjiVkMkixlI96biu5c%2BhV4N%2B0P8D/j5/wANJ%2BDv2tv2bLLwfrWueH/B2seFNX8KeOdcutLtLywv7mwuxcQXtraXj288U2noCpt3WVJSCUKK1ABpf/BTL9izWLvxNb2nxXv0h8FWsk/jLUrvwXrEFjoIS0iu9l5dy2iwWsrQzRskMjrJIWKorMrKL2n/APBQ/wDZK1HwBrXxFTx/q9vB4f1ay0vVdE1DwNrNrrkV5ebfscC6PNaLqEr3AYGER27eaAxTcFYjy2b9gH4y%2BMf2a/jn8NfGHinwppHin4o/FS38daHc6U1xeWFpeW0OiywQ3IkihkkiN3pRRwoyYHGDuJVaPi79i/8AaV%2BLmr/Ef45fG34S/CjWvFnjWx8KaPp/gKy%2BI2s2Wm6fY6Hcaldw3qa7b6al5DqDXOqTOksVoPJSKNFZiWcgHsviH9vv9mzwv4a8OeI9XvvG3meK0v5NE8P2vwm8SXGuSRWUscV3NJpMWntf28MLzQq8s0CIpmiy37xM%2Bmaz8RPBHhv4e3XxX8T%2BJbbSvDljo76rf6vqrfZYbSySIzPPMZdvlKsYLNvxtAOcYNfGHin9hH9s/WPgV4X8Nay3hfxV470a58RHRfGd/wDHbxNpGr%2BCLW%2BuUktLO11q1sJLzXIYkjhWZb1YftJtovMBCjHqPxo/4J0Wvx6/Zu8T/Dj4hfHPxrd%2BO/GHwvj8M694pbxtrQ0ea%2BW0hibUE0Jb5bC3Z5oFlbyIopCHkAkVpGcgHRwf8FKP2Mv%2BFc%2BK/itrHxWvdE0bwRZWV94ofxP4O1fSbmysryYw2t79lvLWK4ktJZFZUuY42hby3IfCMRyHxu/4Kyfs7/DP4Iap8Y/Aei%2BKvFU2g/EHwv4X13wx/wAILrtjqdgdZ1K1tY7p7OTTmuvK8i4eeBvJ8u8eNLeGQyTxg%2BV6p/wTE%2BMnjv4VePtI8ReBvDejeMfEeh6Po9h4h1X9ovxn43W7tLXWLfUJo5P7dgP2CM%2BSxSKJZjvfDSYyT3/7UP7Bnxp%2BMHxB%2BL/xB8C%2BIfC8cni%2BD4W3nhKz1a%2BuYle/8J%2BI7nWpYbxo7eTyIbgNbwrLGJnXLsY/kVXAPULD/goJ%2By3qPxNsvgzD4n8TR%2BK7zRdP1iXQLv4b69Bc6dp9606QXd%2Bklkp06Hdbyq8l15SxEKJChdN1Hw1/wUw/Yp8W%2BDPFnxC0j4wXCaP4L8EXXjLWL3UPCWq2guPD1ujPNq1is9qjapZqqHE9mJ42LIFYl0DYOh/sh/FD4h/Ez43fEH44L4e0GL40fB3w74QurHwnrtxqMul3Fomupdss89na%2BZGBqsRifYrMUk3Rx4G75u/bG/ZU/ah0f9hj4pfE39pi78AWkPwh/Yp%2BIPgjwvH4C1C8uG15r3SLYz6jdLc20AsVCaRbhLONrgK00hM7bUFAH1n4e/4KS/sZeJtD1jxHp/xauoLPQ00qa%2Bk1TwlqtkzWmpXa2djqEK3FqjXNhLOwUX0Ie1UBnaVUVmHp%2BifF34eeI/ilr/wX0PxD9p8SeFtL0/UNfsI7SbbZwXzXAtd0xTyi7/ZZj5SuZFUIzKqyRlvknUP2Z/EHivQPFPxt/wCCkXi/4Z%2BE/Alv%2Bz3c/DqS48P%2BIJltZtNvZIZLzVbya9gt0sHJgthDbIZxATJ/pEhZcdh/wR88B/F2y/ZHtfj/APtIagb74k/F68j8T%2BK9Qeze3aSEWkFlpq%2BVJ88P/EutLSRomwUlmmyAxbIB9VUUUUAFFFFABRRRQAUUUUAFFFFABRRRQAUUUUAFFFFABRRRQAUUUUAFFFFABRRRQAUUUUAFFFFABRRRQAUUUUAFFFFABRRRQAV4jpH/AAUY/Y91K716z1P4pXnh5vDnhy58QahJ418I6roMc2k27pHPf2smpWsC31ujyRK0tsZUBljGcuufab2K5ms5YbO6EEzxMsUxj3%2BWxHDbT1wecd6/MTV/%2BCOX7cvxf1bwvrnxu%2BOOhvrfhrwfqFnqHijUPit4m8TjxDrf2zSr611E6XfRQ2Wk20lzpi%2BfYWQCiOTassgVAoB9sv8At/8A7MNr8NG%2BLGseIPFWlaW2uQaNY2eufDLX7DVNTv5kMkMFlptxYpe37SIGdfs8MgZUdgSEYjovAf7VnwP%2BI%2Bv2XhPw54h1SHV7/wAKT%2BJIdI1rwrqWmXaabDd/ZJZZYby3ikgdZ/kMMirL32bea8m%2BJ3wc/bd%2BMTfD342654N%2BFWh/EP4UeOptY8P%2BGbXxxqV/ouuWdxpN3plzHcXz6VDNYzFL2SSN0tbgRmIKfMEjYq/En4Dftwa/8ZfDv7TXgfRvhXaeLL74Yar4L8Y6FqXivUpLDSFuL%2BG6tb%2ByuE04SagYhG6yW8sVoJS4xLFjkA7jSf8Ago3%2ByB4j17wL4W8K/EbVdZ1P4k%2BDdK8W%2BDdO0TwPrN7PeaHqL7LXUZEgtGa1t92PMknEa24ZTN5QYE7Hw1/bc/Zu%2BK/xGufhP4Z8X6tZ6/b6Xc6nDZeJ/BmraIt/Y28iRz3dlLqNrBHfwRvLEHltmkRfMQkgMpPlH7Cn7CXxY/Zh1/4caz488QeGrs%2BDv2UvCPwxv30i5nlZtW0t5muZovMgj3Wrb02MxV22/NGmBXjXw0/4JV/tjeJ/ij4X8TftTfGGz1SLT/AHivwv408TQfF/xJrV54il1exS2/tO10y%2Bhj0/QjlSxtLRSi5UCZxGq0AfUvhP/gov%2ByP410WPxVoPjvXP7DuNV0vT9P8AEt78P9btdK1GXUr2OyspLS%2Bns0tryCW5mijFxBI8IMqFnCsCfS/C3xd%2BHnjX4geKfhd4X8Q/a9c8FyWcfie0S0mC2Ml1B9ogjMrII3doSshRGZkWSMsFEibvmHxx4E%2BIvhX/AIJ7eNPgR/wUM8T/AAq8EeAtB%2BGkWgW3xM8O%2BLbsM06RpbWupPaXVnAmmzLMLeSGCO4umM5REcnaG7X/AIJX/D74seG/2RNK%2BKv7RVglv8TvixfS%2BOviJClu0X2e/v1jMNpsb5k%2By2MdlZ7TkgWuDQB9G0UUUAFFFFABRRRQAUUUUAFFFFABRRRQAUUUUAFFFFABRRRQAUUUUAFFFFABRRRQAUUUUAFFFFABRRRQAUUUUAFFFFABRRRQAUUUUAFeL/Hrx/8AtF/8NF%2BBfgR8BfGfgrw%2Bmv8AgrxLr2r6n4v8F3etEnTrvQ7eGGGO31Kx8sN/akrMzM%2BfLQALyT7RXhXxF1pLL/gpV8IdFkUYvfgn8Q2Rs87o9W8GnH5Mx/Ck2luXCEqjtHs392rL/wDwg/8AwUL/AOjoPgz/AOGH1b/5qKP%2BEH/4KF/9HQfBn/ww%2Brf/ADUV7NRTIPGf%2BEH/AOChf/R0HwZ/8MPq3/zUUf8ACD/8FC/%2BjoPgz/4YfVv/AJqK9mooA8Z/4Qf/AIKF/wDR0HwZ/wDDD6t/81FH/CD/APBQv/o6D4M/%2BGH1b/5qK9mooA8Z/wCEH/4KF/8AR0HwZ/8ADD6t/wDNRR/wg/8AwUL/AOjoPgz/AOGH1b/5qK9mooA8Z/4Qf/goX/0dB8Gf/DD6t/8ANRR/wg//AAUL/wCjoPgz/wCGH1b/AOaivZqKAPGf%2BEH/AOChf/R0HwZ/8MPq3/zUUf8ACD/8FC/%2BjoPgz/4YfVv/AJqK9mooA8Z/4Qf/AIKF/wDR0HwZ/wDDD6t/81FH/CD/APBQv/o6D4M/%2BGH1b/5qK9mooA8Z/wCEH/4KF/8AR0HwZ/8ADD6t/wDNRR/wg/8AwUL/AOjoPgz/AOGH1b/5qKta/wDG/wDZE%2BFNppGk/HT4w/Dnw5rmoaLBqBtvF3iGwtLu4jkyPP23Dq7IzpIA3TKMM8EDN/4a/wD%2BCcH/AEdF8Ef/AAttH/8Ajtc08Zg6cnGdWKa6OUU/uckz2sPw3xJi6Ea1DA15wkrqUaNaUWu6lGjKLWj1Ta03LH/CD/8ABQv/AKOg%2BDP/AIYfVv8A5qKP%2BEH/AOChf/R0HwZ/8MPq3/zUVX/4a/8A%2BCcH/R0XwR/8LbR//jtenaBovws8V6FZeKfC2k%2BH9S0zUrSO607UdPggmguoJFDxyxyICroykMrKSCCCDg1dLE4eu2qc4yt2kn%2BTZz47Js5yuEZ43C1aSk7J1KdSmm97JzpwTdtbJt21tbU85/4Qf/goX/0dB8Gf/DD6t/8ANRR/wg//AAUL/wCjoPgz/wCGH1b/AOaivPvh3/wUX/Yw8Z%2BCLPxf4g%2BH3ibQZ9U8ca14W0TRrr4Qa3Nd6te6dcX8ci2kUWnl7omHTp52WJXMODHJtkVlHYfEL9qj9lrwLZePbS80SLT9Y8BeENa8Q3lt4s8CatpNnd2emL/pc9vdSac4vbeJmiEktkl0VE0bBH3or7Hmmj/wg/8AwUL/AOjoPgz/AOGH1b/5qKP%2BEH/4KF/9HQfBn/ww%2Brf/ADUVVsP2rP2MNQ%2BM8n7P0N5b/wDCUW/iCPQbqP8A4Qa/FhDqr6dHqUdi2oNaC0Wd7SVJkjMoZwcKCwKjZ%2BNfxV%2BCvwk/Z5139ofR/COjeKNO0uwaTTbfQ1tpBqt00oggtYpgCgaS4ZIdxO1WYluhoAof8IP/AMFC/wDo6D4M/wDhh9W/%2Baij/hB/%2BChf/R0HwZ/8MPq3/wA1FP8A2cPiBbfFy88ZeB/ij8CvDfhXxh4D8QQ6Zr%2BlaPqK6rYyLPY217b3NtdSWls8sbxXKqd8EbLLFKuGUK7%2BSfEz9tHxD8BvDPxPl%2BOX7IfgjTvEHgD4WDx3ZaboXjoX1ndWRnngEF5dSaXA1hNvgblYbiNlWQo7%2BUwoA9Y/4Qf/AIKF/wDR0HwZ/wDDD6t/81FH/CD/APBQv/o6D4M/%2BGH1b/5qK808aftt/Dr4ffs%2BeFvi74h8L/A271Dxv4rk0Tw1d6J8WYJ/Cn7u2uLqW5utdk02IW8aQ2lwG220h83yol3NIMbXxj%2BP/jP4O/CbRvj5d/sxfDXW/Bv9k6bd%2BKdT0H4hCeVXu7pIBHpCf2UE1UYkjeNpJLQzeYiIu44oA7H/AIQf/goX/wBHQfBn/wAMPq3/AM1FH/CD/wDBQv8A6Og%2BDP8A4YfVv/mornfE37UPw00f9s/RP2TdH%2BCmm39jcaVfy%2BJvGjSQxW%2Bj38FpHeJp4i8lvPlNrIk8uXj8lLi2OJPOITznwZ/wUT8AeN/2aPGP7Vug/Bj4Z6j4b0HStP1HS9N0X4hwXuq2lvezKsUuv28dht0JEhkW5m/eXTQwxzllzCVYA9o/4Qf/AIKF/wDR0HwZ/wDDD6t/81FH/CD/APBQv/o6D4M/%2BGH1b/5qK8f%2BHn7dcnxn8LaFY/BP9l34f%2BKfF/iHxPrenaSumeP0k8L6jY6VBDLdanZ60mmM11B5lzBaLi0H%2BkmRCVSJpad8PP8AgoH8OvjD8f8AwL8IPh98KPhhp9h41%2BFvhXxvbSeO/H8eka3cW%2Bs3GqRvZ2Glpp04v7i1TTGaUC4iG6dFyo%2BcgHr3/CD/APBQv/o6D4M/%2BGH1b/5qKP8AhB/%2BChf/AEdB8Gf/AAw%2Brf8AzUVzcv7RVp4S%2BL3xl8AfFb9mrRNN0n4WfDyw8aabq2hamuo3WuaZcSaxGVa1NpCLWcHR5SsayzBhMmWUgisH4ZftTeJPiVpXi3wnYfsufDwfEXQfA2g%2BMNI8MWfxAW502/0jVnukt3m1BdMDW8qfYboyIltMuBEY5JBLlQD0L/hB/wDgoX/0dB8Gf/DD6t/81FH/AAg//BQv/o6D4M/%2BGH1b/wCaivPo/wBrK/8AGvwq%2BDXiD4IfsleHvEHjP4vfDF/Hdv4S1TxGmn22naZBaafNdL9tWxmM0yzapY28a%2BSiyNNuZolUmmaj%2B3d8E9X8T/AvR/hN8ELXxHY/Ga10nUrvU5fJtR4a0vVLG4utOnmTypDLNcG3mVIAUG23uHMg8tFlAPRP%2BEH/AOChf/R0HwZ/8MPq3/zUUf8ACD/8FC/%2BjoPgz/4YfVv/AJqK8fuv%2BChvgLwtpOs/Ez4i/sw6bp/gKTw34u1jwLrum6nFd3%2BvJ4em8u4ims2tYls5LlQ01qFnnDxofNMD4jPV6V%2B1PZ%2BHvDnjvR/jh%2BzHoGh/EHwbNpMNl4N8N63Hq0OvS6sm3S4rW7ks7Y75rlZrZ98KrC0EkhZoh5lAHa/8IP8A8FC/%2BjoPgz/4YfVv/moqh4H8cftWeDv2rPDnwR%2BN3xH%2BHvibRvE3w98Q65DN4V%2BHl9ot1aXWm32iW6Kz3Gr3ySxumqSkqERg0SENjIOj%2Bz98RPDn7Q/7HXg79p20%2BGWn%2BGbzxl8PLHxLFplpIk7aZLc2SXIiW4EURl8svt8zYm7bnaucU3xx/wApC/hf/wBkZ8ef%2BnbwhQB7NRRRQAUUUUAFFFFABXzj8JvFX7d/x10fXvHfhf43/CTQNLt/iF4q0PS9Kv8A4P6pf3EVrpevX%2BmQtLcJ4igWWR47NXZlijXc5AUACvo6vGf2D/8AkiGuf9lm%2BI//AKmut0AH/CD/APBQv/o6D4M/%2BGH1b/5qKP8AhB/%2BChf/AEdB8Gf/AAw%2Brf8AzUV7NRQB4z/wg/8AwUL/AOjoPgz/AOGH1b/5qKP%2BEH/4KF/9HQfBn/ww%2Brf/ADUV7NRQB4z/AMIP/wAFC/8Ao6D4M/8Ahh9W/wDmoo/4Qf8A4KF/9HQfBn/ww%2Brf/NRXs1FAHjP/AAg//BQv/o6D4M/%2BGH1b/wCaij/hB/8AgoX/ANHQfBn/AMMPq3/zUV7NRQB4z/wg/wDwUL/6Og%2BDP/hh9W/%2Baij/AIQf/goX/wBHQfBn/wAMPq3/AM1FezUUAeM/8IP/AMFC/wDo6D4M/wDhh9W/%2Baij/hB/%2BChf/R0HwZ/8MPq3/wA1FezUUAeM/wDCD/8ABQv/AKOg%2BDP/AIYfVv8A5qKP%2BEH/AOChf/R0HwZ/8MPq3/zUV7NRQB4z/wAIP/wUL/6Og%2BDP/hh9W/8Amoo/4Qf/AIKF/wDR0HwZ/wDDD6t/81FezUUAeM/8IP8A8FC/%2BjoPgz/4YfVv/moo/wCEH/4KF/8AR0HwZ/8ADD6t/wDNRXs1FAHjP/CD/wDBQv8A6Og%2BDP8A4YfVv/moo/4Qf/goX/0dB8Gf/DD6t/8ANRXs1FAHjP8Awg//AAUL/wCjoPgz/wCGH1b/AOaij/hB/wDgoX/0dB8Gf/DD6t/81FezUUAeM/8ACD/8FC/%2BjoPgz/4YfVv/AJqKP%2BEH/wCChf8A0dB8Gf8Aww%2Brf/NRXs1FAHjP/CD/APBQv/o6D4M/%2BGH1b/5qKP8AhB/%2BChf/AEdB8Gf/AAw%2Brf8AzUV7NRQB4z/wg/8AwUL/AOjoPgz/AOGH1b/5qKP%2BEH/4KF/9HQfBn/ww%2Brf/ADUV7NVTUNe0PSDt1XWrS1OM4uLlU4/Eik2ktRNpK7PJP%2BEH/wCChf8A0dB8Gf8Aww%2Brf/NRR/wg/wDwUL/6Og%2BDP/hh9W/%2BaivRbv4t/Cqwz9v%2BJvh6DHXztagX%2Bb1i61%2B1L%2BzH4bj87xF%2B0Z4DsE/vXvi%2ByiH5tKKzliMPD4pperX%2BZk8Rh47zj96/zOU/4Qf/AIKF/wDR0HwZ/wDDD6t/81FH/CD/APBQv/o6D4M/%2BGH1b/5qKXXf%2BCif7BPhy2N1qX7ZfwyZV6pZ%2BNbK5f8A74ikZv0rhda/4LOf8EydAcpfftXaVIV6/YtG1G5H5w27ZrlqZrldL468F/2/H/5IxlmOXQi5SrwSW/vw0/8AJ/0O5/4Qf/goX/0dB8Gf/DD6t/8ANRR/wg//AAUL/wCjoPgz/wCGH1b/AOaivF9d/wCC%2Bf8AwTZ012i0L4l%2BINdkBwkWk%2BD70NJ9BPHH%2BuKg0j/guL8DfFEgTwR%2ByR%2B0Jr4Y/u30b4cxTB/p/pYJrlfEOR81liIt%2BTcv/SYyMlm2WSpe0jVTj3XM18rQd/lc9v8A%2BEH/AOChf/R0HwZ/8MPq3/zUUf8ACD/8FC/%2BjoPgz/4YfVv/AJqK8e1H/grZ4xVidD/4JcftQXCfwNdfDKSHI/4C74/WsHUP%2BCtH7VF5L5Pgn/gj58bbsnodasZ9PH5m0kAolxBlUftt%2BkKj/wDcZVHNcqr/AA14r151%2BdI9/wD%2BEH/4KF/9HQfBn/ww%2Brf/ADUVb/ZW%2BI3xp8Yax8UPAnx01/wvq2qeAfiFFodnqvhPw1c6Tb3VrLoOj6mrPb3F7eMsiyajKhYS7SsaHapzn5mvf%2BCjP/BVPVhu8L/8EgNXtA33P7T8XhyPr%2B4i/pXp3/BLrx38aviZb/HHxv8AtD/CyPwT4xvvjNH/AGv4YiuPNWyCeFPDscPz7mzvhWKTr1fHHSt8HmuFx1V06SndK95QnFffJLXyO2FbCVV%2B6rRk%2By57%2ButKEf8AyZvy6r6mooor0igooooAKKKKACiiigAooooAKKKKACiiigAooooAKKKKACiiigDA%2BKXxN8JfBvwFqPxL8dPqS6VpUaPdnSNCu9TuSGdY1EdrZxSzzMWZRtjjY85xgE1mWfx9%2BFuqfAvTv2ktF1m%2B1Hwhq%2BgWmtaVfaZoN7dXF5ZXUcclu8VnFC1y7usseIhEZMtjbnIq/wDFzWvEHh/4aa1qvhX4eav4r1FLFltPD2g3FlFd3jPhNsb31xb26kBix8yVBhTgk4U%2BB/sx%2BIv2o/gZ/wAE4/BvgeH9ivxVP8RvAHwh0zSrbwdqXijw/DHqmrWVpDaC3W7h1GaKON3QyiViMRA5AkxEQD3H4NfHL4Z/H3w3d%2BKPhjrN3cQ6dqcmm6paapot3pt7p95GqO1vc2l7FFcW0mySNwksakpKjgFXUnwv9oXWf7L/AOCs/wCzNY78f2j8MfiZb49cSeGJcf8AkL9K7T9gzwL438HfCbVtX%2BLngDxPovjnxP4pn1nxzeeKm0sS6xqUlvbxm5gj0y%2BvYYLSOGKCzgiaUypDZIH3n97J8/8A7UeieJPA/wDwW1/ZL8Qaz8W/EGuWHiLRfiVDZ6JqtvpyWuiAafpR8u1a2tIZ3V22bvtMs7Dy12lfm3cuMn7OhzecfxlFfqe7w5hvreaey706z/8AAaFaX/tp93UUUV1HhBRRRQAUUUUAFFFFABRRRQAUUUUAFFFFAHmepfsyfs2/GjR9B8U/GL9nvwP4s1O38P2trBqPiXwnZ388cCqXWJZJ42YIGd2Cg4BdjjJNUv8Ahgf9hX/oyz4S/wDhudM/%2BMVyfxe/4KQfsX/sfS%2BHPhp%2B0X8Zf%2BEd1u%2B8KWep2tl/wjuo3e%2B1ffEsm%2B1t5EGXhlG0sG%2BXOMEE8h/w/N/4JZf9HRf%2BWTrn/wAhV4uIxfDtOvKNedJTT15vZ3v53V7%2BpovEPEZUvqkc4nSVPTkWJqQUetlFV4qO%2Byit9tT1v/hgf9hX/oyz4S/%2BG50z/wCMV6doGgaF4U0Ky8LeFtFtNN0zTbSO107TtPtlhgtYI1CRxRxoAqIqgKqqAAAABgV8rf8AD83/AIJZf9HRf%2BWTrn/yFX094B8deFfih4E0X4l%2BBdU%2B3aJ4i0i21PR73yHi%2B0WtxEssUmyRVdNyOp2soYZwQDxXRgcRk9aclg5U20teTlvbz5UtL9xS4uq8Sfup5jLE8mtnXnV5b6XtKrUtfa6SvtfoeE/DD9hfxX4A8eeFNa1P4z6bqGg%2BB/ih4q8X%2BGtLh8ISQXYXXf7Wee0uLk3rpKYpdVYpKkMX7uEIyFmMg8k1r/gjE%2BveKPHniS7%2BOvh6K48ZeAvH/hc63a/DBE1u5j8TSK4uNV1E3xfU3sgojhQLAhjG0KmAw91sP2/PhHq%2BnWM2k%2BFPEc19daL4t1K70mUWFvLpaeHL1bHUY7uSe7SCBhdukCM0vlsSWLrGruvCeDf%2BCn3gf47TfDjUfgJBZy2Ou/GfUfA3jeC/vrHUpdPNv4N1fxChtrnSr64s5XY2lgd6TzIEmmjYJKp8r0iDrpP2GA/iHVdfHxQwdT%2BOuk/EcxDRP9X9i0jT9N%2BwZ8/5t/2DzPOwNvm7fLbbubvPjX8Db/8AaA/Z5134JeP/ABjFb3%2BtWDRp4g0PSzALK6SUTWt1FBLLLloZUhfazsHaM5wGwPnjxZ/wVUkk%2BB/hXxt8I/hXr3iO91OD4eyeI/FE3h%2BC30bRm8S3enKkFxANSa5juGtb3zVSA3UUDTQebMyklvpD4w/Hjw/8JPgF48%2BPt1o2o3Fj4C8P6xql/ZXGnzWctwNOhlllWMTopZW8lgkqho3BDIzKQSAc78Bf2f8A4ofCnV/EXjvxr8WtD8Q%2BKvHHi2LVvGmo2Xg%2BawtJLWDTIrC3srG3a%2Bma02fZ4JTJLLclma4G1RKnk8X%2Bzj%2ByX%2B1P8D9F8cX/AIs/aY%2BH/izxj41uzqN34zufhFewTzXwcCEXMZ12RZbOCAC3htITbiNQGDl2kZ9v9lr42fH/AMQ/FTxP8Bv2lR4RufEWjeCvDviu21LwVpVzZWgtdWk1KA2TR3NzcO8tvPpc2Zw6LKk0ZEUZDLXNeMv2if2qPhl8eNf%2BEd9c%2BBvGkknwv8ReLtH0rwv4Uv7e98PG0mhj0yG/Zr6cXovDJNGhjS1dnspvLRwrmIArp/wTz8Xhx8UZvjN4bl%2BKcXxhf4i2viGT4eP/AGFBqL6APD7wrpQ1ATCI2A3Fvtvmm5PnGQj91WZa/wDBOn40%2BF5vhVo/gn9pnwtL4Y%2BGUVxqC%2BFfFfwvuL61vvEVxeTXL6sq2ur2iwiETOlpbMssdru3gySJE8WHp/7b/wC01f8A7Id/8Q9B17RNe%2BJmn%2BKPC1l4j8N2n7PHim0u/ClnqN5Zx3ktxoEl%2B%2BpX3k28t1PHLE0SSCAlQwRqn%2BKn/BRnVfC/hz4X%2BF/Bfxo8JXur%2BNtE8Sazq3j2H4PeINRsrS30W6tbW8gHh%2B0vDf286TXqJL59yq2v2S5M21gsdAHe6r/wTM%2BBr/tO%2BHf2l/DPiHxdpk%2Bl61rura34ePj3XZ9O1W81OMLNILV9Q%2By2y7tzPGkHlyAhSoCrjg/D/wDwSe1fRvh7ZfD9/wBoOwjh8HeCND8KfDKXS/AYtlsdO0nV7PVLVdWQ3jjV2aSwtopgn2SOSJ7oKkZuGYdh8Yv2qvi/8NPix8KU8MeLvCvibwp8R9X0ewhtrH4daqsMsN3hZb5PEYvW0234bzYLOWIzXACxRM7yKw5LxN/wUB/aD8QeMfjQvwN%2BGWi6zoHhX4J6x4l%2BEg/s27u77xVq9hLcW%2B8pDKvm2U11F5MMUSiSZYvOSUpcRhQDotP/AGAfi74d12T42eEP2kdBsPiveeNtV1/UfELfDmSTQnj1DS7HTZ7OLShqSyxJ5el2E4c3jsbmF5H3rK0dX9X/AGCPF8/wl8A/sv6D8adGtfhd4JtfDCS2V14He48RX0ui3MF1FIuqfblhgMsttEWIs3dd8pR1ZlaPB1/9rL4/y/sKfFH43fDL4w/D7W/H3w4stQ1HUbbXPg5rugRadHa6at79gu9HvdTF8k8i4ZJmmiRo542WNguXk/au/b28RfCLxn4N%2BF3h7xl4d8J3mr/D678YeJfE%2Bv8Aw91jxLa6fZQvbRY%2Bx6XPDJDDvnkeW9mmWC2SFQ%2B4zKUAO/0H9nH9oDSf2y/F37TN38dfB0/h/wAUeDdO8Nx%2BE4/hvdJeWlvYTancWkhvzqzRyyedqkxk/wBFVXSONVEZ3O3M/BH9gnxL8B9O%2BIPi/wAA%2BK/hhonj7xzpNjpkV94V%2BDzaV4c0%2B2tZLmRSdJg1PzZ55HvbppJmvFZyYRgLCFaTxt%2B2l40f9tP4b/Af4UaPoWpeCNW8R3Wg%2BOvE1wJZJP7Tbw7qGtW1rYPHIE3RQ2cEk7OsilNQgVMMJCjPhx8S/wBtfxN%2B058RP2fb74r/AAt1Gy8JeBNOvY/EWn/CzUrYWGt6hcTm3tZon12X7UsdpatNKivA3%2BmWxDgEggGV4K/YH/aB%2BHvwb%2BEnhvwj%2B1V4bsvHvwj8B3fgjS/GUXwwmayvdAuLewieN9PfVmZbsPpdhMJxcmPzIDmAo5QRXX/BIH9m7S7z4bah8OfE3jbw9N8Pta8PXc62fxB11LbV4NG0gaVaRvaQX8VrDL9nit1adIdzLE6sGEr55EftmftxxfByfx3DP4P1mGT9oHUPBtn4t8KfA7xDq8MegafZ3cV3qT6PYapPdSN/a9lcWyyJP5fleXIV%2BfiD9qb/AIKXfFj4QaD4W8QfCPxF4K8U6ZffCtfFbeI7XwHqt3p/iO5FzHA0DSW16V8K2hzuOoak80EXmMrsTbS7gDsrr/glzD4p0jWfhn8Rvje2oeAo/Dfi7RvAmhaZ4b%2ByX%2Bgp4hm8yeWa8a5lW8ktVLQ2pWCAJGx80TviQdBpP/BO3RviBrWpfEb9rj4m3/jHxre61YX9n4h8AXur%2BCl0xbKwubG3S3Gn6m1wp8u%2B1BpC1wyu17IAiKFVV1r9s34g6h%2B3N4e%2BAXw88MaLdeAmt9a0/wAQeILsSfarvXrK0iumtbNxIsSRW6SRpNIyyBppmiBja1lDeWfsmf8ABUr4j/EHwx4h8X/HTw7pkyWnw90LX9K0TQvBuo6Jeyatqd1Paw6HZ/2jcSLryPcLBBDq1p5dlM8o2nDZUA%2Bgv2a/2atN/Y8/Yh8NfsxaX4w1DxBF4J8CLpTa1qdzcSSXrxW5V5QLied4Y2bJSASMkKFY48IigR%2BOP%2BUhfwv/AOyM%2BPP/AE7eEKz/ANkr40/Fz4%2Bfsgar47%2BPGleHrLxbZ%2BI/Gvh7Wbfwok66eH0jX9U0lWh893kIZLJGLMfmZmIVAQi6Hjj/AJSF/C//ALIz48/9O3hCgD2aiiigAoornfiv8V/APwR8BXvxM%2BJuuNp%2Bj2DwRzTRWc1zLJLNMkEEEUECPLPNLNLHFHFGjSSSSIiKzMAQDoqK87sv2rfgJffAu6/aRTx00PhCxknhvr280i7t7m2uYbk2klpJZSxLdJdC5UwfZWiExlxGELkKcqX9tv8AZ/TwDF8RrW78YXtlJq82lzadpnww1%2B71Wyu4kEkkV1psNi17aFYyjkzwoNkkbZxIhYA9Zrxn9g//AJIhrn/ZZviP/wCprrdeo%2BBfHHhH4m%2BCtI%2BI/wAP/ENrq%2Bha/pkGo6NqtjKHhvLWaNZIpkYdVZGVgfQ15d%2Bwf/yRDXP%2ByzfEf/1NdboA9mooooAKKKKACiiigAooooAKKrazrWjeHdMm1rxBq1tY2dum64u7ydYool9WZiAo9ya8W%2BIn/BTD9gL4WJKfF/7W/gffCD5tvpWtJqEy47GO08x8%2B2M1hXxWFwyvWqRj6tL82jmxONweDjzYirGC/vSjH82j3KivkNP%2BCpPjT4wOIf2Jv2EviX8S4XP7nxDrEMfhvRZ1/vR3d4Du45wUU9PWp/8Ahob/AIK8av8A8g7/AIJ2%2BCdHz0/tb4t29xt%2BvkRjP4Vwf21gZfw%2Bea7xhOS%2BT5Un8m/U81cQ5dPWip1F3hTqSXykopP5N%2Bp9a0V8kv4v/wCC2mvqYNM%2BD/7PmgGTgT6t4g1W68rP8REA%2BbHpVTU/2Ov26PH9lJr37U3/AAVD1bw7pqDdPpfwr0O20KG1HfF/JulYf768UPNKk1%2B6w9R%2BqUF985foOObYivJQw2DrTk%2B8VBffOTf3Rb8j6/mmhtoXuLiVY441LO7tgKBySSegrwf4x/8ABT79gj4E3TaZ4%2B/ac8Nvfq%2Bw6ZoMz6rch%2ByNFZLKyMT2YCvlT4kfA3/gi74Cdm/af/bw8Q/EeWFt11Z%2BKPjDdazK5BziSHTiHznttFdd8Gv2zv2GfhhAtp%2BwB/wTt%2BIHiolNsWueBPhObaGUdAZb658uUg/3nzXnVc7rc3Jz0qb7c7qy/wDAaa/Nn2eB8PfF7OKHtqGUyoUv%2BflVSUf/AAKp9Vpf%2BVH5Jnf/APD14%2BOT5X7Of7Cnxy8dK3%2Bp1T/hD/7M02T0xc3LjH4pSn4%2B/wDBXv4kfJ4A/YQ8AeAI5P8AU3nxE%2BI41AAdmeLTlDr/ALvWl/4as/4KjfED5fhp/wAE0dO8N27/AOq1Px/8TbQf99Wtuvmr%2BdKPA/8AwWm8fnd4g%2BOXwN%2BH8T/dXwt4ZvtVmjH%2B19tIQt9OKz%2BsYqv/AMvK8/8ABSjTX3z1Oz/iFOeQ1zbPsLh%2B6WIoN/8AgOHp4uf/AJOmNX9nT/grl4/P27xv/wAFEPB3gZjydN8B/CuDUIc%2Bnm6g4kwKLj9h79vOaBpPFP8AwV38VfZ1GZnsfhxpVkQPXerHb9acf2Bf21vGg2fGT/grD4/uopP9dF4H8J6f4fYD0WSHeR9cZp1v/wAEXf2NNbmW9%2BNd98QvibdKd32vx98Q7%2B5ct/ePkPCpP4Yo%2BpYmr8NCp61MRJfhBy/Cwf8AEPfDXCa4/P6tZ9qFLF1L/wDb1arhYf8AkqPO/GH7Pfwl8IuzfGX/AILs/ErTLpPvInxd0zShn08rBz9K8x8XeLf2CfAytJqH/Bev48zunQaX4/l1LJ9hbWUma%2B0/B3/BM3/gn74EVV0H9j/wDIU%2B6%2BqeH4r9x77rkSHPvmvTvCXwb%2BEPgBlfwJ8KvDeiFPuHSNDt7bb9PLQYo/sPFT3jTj/29Xk/xqxQf2B4I4b/AJcY%2Bu/OtRop/dOvJfiflyfizZa18nwB/bI/bo%2BILN/qH8N%2BDjdRv6EtcRxYX3IpU8L/APBZ/wASt5vwj079oaezb7snjTxr4e0iYD1Mc0bN%2BFfrTRR/qxKfx4mS/wAF4/8ApVSbD2nhlhdMJw/zedfHY6p/5LSqYeP3M/Kiz/Zl/wCC/fi0fZJ/i14j8Pq//LXVPinpz7PqbOzZvyrRsP8AglX/AMFn/E6%2BZ47/AOCoN9pwc5aHSvHWty4HodqQA/hxX6jUVa4TwL/iVq0vWrJf%2BktHNUzDh7ajkmEiv7yxNX8a2Ol%2BR%2BZP/Dh39qXxsBH8Xf8AgqH4tvYD/rbeO2v7vzPUbp9QwPrtNa2g/wDBtH%2ByuD53jr9oD4iapOzbppbKSxtt5/7aW8x/Wv0gorWPCXD97zo8z/vSnL85HK8fh0v3WBwkPTCYZv76lOvL/wAmPhTw/wD8G7n/AATu0YqdRtfG%2BrY6/wBoeJwufr5EUdd34a/4Igf8ExPDTLNH%2BzRHeyr/AMtNS8TanOD9Ua52f%2BO19YUV10%2BHsipfDhof%2BAp/nc4atSNZ%2B9Tpr/DRoR/9JoRPGtA/4J1/sE%2BG7JbDTf2NPhkyJ9173wVZXMn/AH8mjZz%2BJrptD/ZP/ZZ8MOJPDX7NXgDTmX7rWPg2xhI/74iFd/RXdDA4Kn8NKK9Ix/8AkTno0qWHlzUoqL/upR/9JUSlo3hvw74djaLw/oFlYI33ls7VIgfqFAq7RRXSkkrI2nOdSXNNtvu22/vbbCiiimSFeM/sv/8AJb/2jv8Ass1j/wCoV4Xr2avGf2X/APkt/wC0d/2Wax/9QrwvQB7NRRRQAUUUUAFFFFABRRRQAUUUUAFFFFABRRRQAUUUUAFFFFABRRRQAUUUUAFfBn/BSzVP7C/4KsfsQapu27tT8Y2uf%2Bu40SLH/j1fedfnX/wWNvpdH/4KEfsSa8nCWnj3UftDf3Yn1Tw5Gx/8frzM4lyZbOXblf8A5PTPuPDegsVxphqD%2B2q8fvwuL/yR%2BilFFFemfDhRRRQAUUUUAFFFFABRRRQAUUUUAFFFFAGV4G/5EnR/%2BwXb/wDota1ayh4M0NMrA19CmSRFb6tcxovsqrIFUewAFL/wh%2Bk/8/eq/wDg8u//AI7QBqUVl/8ACH6T/wA/eq/%2BDy7/APjtH/CH6T/z96r/AODy7/8AjtAHh/iD/gmn%2Bz54k8R/GbxLqGr%2BJhL8bdOtrTXLePUYfI0QRKS0mmoYSIGmnIuZhL5qyzKpZSvyGTwX/wAE7/hx4X8Xp8Q/EHxg8e%2BKPEB%2BJ0nju81fX73T/MutTbwrP4X8tktrOGJLcWE5ZY4kTEyI2dm6NvbP%2BEP0n/n71X/weXf/AMdo/wCEP0n/AJ%2B9V/8AB5d//HaAPnRf%2BCU3wXsvCug%2BAPDvxj%2BI%2Bk%2BHdJsfB8Op6Fp%2BqaeINfn8NNaHTLu8Z7JpBNtsraOX7O8EcqRKGT5VI9/1j4daR4t8D678OviFfXPiPSfEUN9bala6pHCoayug6vZjyI4wYljcxqWzIVA3u7ZY3P8AhD9J/wCfvVf/AAeXf/x2j/hD9J/5%2B9V/8Hl3/wDHaAPM/gd%2Bx7pfwLk1LWdO%2BOfjvxBr%2BqQ6LY3XijxNPps98dI0qSV7TSR5dlHF9mH2i7DOYzcsbyZzP5hWRc74S/sTXHwe8d%2BP/H%2Bg/tV/Eu%2BuviLqF7f6zHq0Hh%2BU291MvlwSQzrpK3G20iCRW0MsskMaIA0b859d/wCEP0n/AJ%2B9V/8AB5d//HaP%2BEP0n/n71X/weXf/AMdoA8q8Ofsc6h4YXxP4i0/9qr4lP428Wtp0eq/EWeLQW1MWdj532ayjg/sr%2Bz0gU3Ny2Psm8tcOxfO0rky/8E8vh9ZeFND0vwX8ZvH3hzxFoz%2BIDP490m8059Y1Nddu0vdXS4NzZS24W5uooJj5UEXlNbxCExKgWva/%2BEP0n/n71X/weXf/AMdo/wCEP0n/AJ%2B9V/8AB5d//HaAPJLj9hbwZcDwj4SX4veNovh94Hn0Cfw98LIZtOGjQy6KbeTTmaX7F/aDiKe0tp9hu9jSQqWUrlTS8O/8E0/2Rfhv8XtQ%2BPHwF%2BFGg/DTxZe%2BDpvD1vrHgLwjo9i9gsspla9hBsnU3WSF3SB42VQrRsM59o/4Q/Sf%2BfvVf/B5d/8Ax2j/AIQ/Sf8An71X/wAHl3/8doA8V8QfsA6F4n%2BDPxI%2BFWsftIfEeXVPiynkeOPHxOi/2xeWn2QWX2RE/sz7Dbw/ZwYx5Vqrje77vMYvT/HX7A2hfEPwdoXh/X/2jPiNHq%2Bk%2BEtQ8K6n4vsW0aDUte0S9eJp7C7CaaLdV/cxBJbaGCePYSkqtJIz%2Bz/8IfpP/P3qv/g8u/8A47R/wh%2Bk/wDP3qv/AIPLv/47QB45rX/BM/8AYe1T4veBvjrY/s3eDtL8U%2BAdfXV9M1nTfCmnpdX06WE1lCLu4aBp5xEsqzRnzA6zW0D7v3eD6D8M/gV4Y%2BFN9441rw3reqy6n8QPFU3iDXdVvpYZJ1untbe0iSPEYURQ21pbxRqythYhuLksT0X/AAh%2Bk/8AP3qv/g8u/wD47R/wh%2Bk/8/eq/wDg8u//AI7QB55oH7KkPw9/Z38Ifs5fBT46%2BNvA1l4Osra1tvEOiLpV1qWoRxQtG5um1GwuYJHldjPJIsKO0vzAqCyngPEf/BLX4H6v4Oj8AeHviZ4%2B8PaPe%2BAj4M8Z2ej6taOfF%2BjNPc3EkF/Jc2s0iu8t9fs01q1tL/pswDqNmz6C/wCEP0n/AJ%2B9V/8AB5d//HaP%2BEP0n/n71X/weXf/AMdoA8e8U/8ABNP9iHxV8ddG/aNl/Zv8G2PivSZ9TuLjUtL8J6fby6rPfReVNPdzLb%2BdLKAWZZBIrBnYknNZvw9/4Jm/s7eHdNGgfF6bUvi9pVp4WsfDWhaN8WNP0vU7PSNItJRLBaRQx2USTYdYmM9yJrhjBGTKSvPuf/CH6T/z96r/AODy7/8AjtH/AAh%2Bk/8AP3qv/g8u/wD47QB5p8Dv2Svgb%2Bxj8AfFHwp/Z/8ABdloejalrXiHxFc21lp1tbKbrUbqe7dNttFEnlwrIlrCCpaO2tbeIs3lgmDxx/ykL%2BF//ZGfHn/p28IV6ifBmhvhZ2vpkyCYrjVrmRG9mVpCrD2IIry7xx/ykL%2BF/wD2Rnx5/wCnbwhQB7NRRRQAV5B%2B2x8N/H3xD%2BE%2BkX3wy8MtruseE/H/AId8Tw%2BHUu4YH1aLT9Tt7ie2jkndIlmMKSGLzHSMyrGHdFJdfX6KAPk/wr8CfHfif9nb4oeHvjH%2Bz94ztrvx343vPHGn6B4c1/Rl1LS7hL%2BCTTreGdr37MupRGwtb0lnNoJX2edKA2eF8PfDf9vj4E/BLx9rHwz%2BGXxA8QeMvjd8XhqmsajqWv8AhibxB4O0ZdE07TGvpEN1aaXPfsulgwwWzG3hNzDvEq27pL91UUAed/C34VWXhv8AZg8N/Bn4a2viX4ZWul%2BE7LS9GtxLp93qugxQwpHHGzyfbbSaZFQKznz0Y5OWzurj/wDgnTpN/oP7N19omq%2BJ77W7mz%2BLfxDhuNY1OOBLm%2BdfGetAzSrbxRQh3I3ERxomSdqqMAe6V4z%2Bwf8A8kQ1z/ss3xH/APU11ugD2aiiigAooooAKK5L4y/Hf4N/s8%2BD5fH3xu%2BJWkeGNJiyPterXix%2BawGdka/elf0RAzHsK%2BYn/bT/AGw/20mOj/8ABPX4IHw34SnO1vjP8UbN7e1kj/56adYEeZc8ZKyONmRtdV61w4rMcLhZqm25Te0Irmk/ktl5ycV5nm4zNsHgqipNuVR7Qguab/7dWy/vScY%2BZ9M/G39oH4K/s3%2BDJfiB8c/iZpPhjSY8hbnU7oI0zAZ2RRjLzPj%2BBFZj6V8yL%2B1V%2B3F%2B3M40/wDYa%2BF5%2BGngO4OD8Y/iVpmbi7i/56aZpjf6wHqskuUYEg7GFdl8Ev8Agl38HPB/jOL41/tHeKdW%2BNHxHGGPivx6RNBZsDnbZ2OTDaoDyow7IfusOleu/Hf9qH9nn9mDw8PEvx7%2BL2h%2BF7VkLW8eo3YE9wB1EMC5lmI9I1Y1xVVjcRTdTFVFQpLdKS5rf3qm0fSGv94WByjibibFww1KE4ubtGlRTnWn5OUYyt5qnFvvUW54Rov/AASG%2BDPjDVYfFn7YPxg8ffG3WInEiL408QyxaZbyesFjbsiRL1%2BQs68nivbvh5%2ByB%2Byl8JTHJ8NP2bfA2hyxYK3OneFrSObI6EyCPex9ySa8I/4eY/Fr46f6H%2Bwl%2Bw7448cW83EHjLxeq%2BHtDKn/AJaxy3Hz3CjqUCo3pQf2Uv8AgpH%2B0V%2B%2B/ah/bct/h/o8/wDrvCHwN0020oU9jqlzmdWA4ICspOcVy0J5VB3wGGdWX8yjp6urU39U5eR%2Bh4bwiwuRS9pndbDYB9VVkq2Jf/cGl7etzeVSpR8%2BXp798cP2qP2cf2a9M/tT47fGrw74YUx74rfU9SRbiYf9MoATLL9EUmvAv%2BHofjT42P8AYv2EP2K/H3xLikOIfFetwjw9oLA/xpdXY3S46lNisRjHWu%2B%2BB/8AwTC/Yl%2BAupjxR4e%2BCtlrniJpPNn8UeMpW1fUJZf%2BevmXJYRv7xqle%2BqqqoVVAAGAAOld3ss4xP8AEqRpLtBc8v8AwKVor5QZ6f1/w3yTTCYSrj6i%2B3iJewo38qFByqyXlUxEb9Uj5G/4U/8A8Fdfjv8AP8Tv2n/AXwe0qb72lfDbw22q35j/ALj3V6Qsb/7cWR6DtVnSf%2BCOf7L%2Bu6hF4h/aQ8Y/EL4xarG29bv4i%2BNrq4jjfv5cMLRIq9gpDACvrGimslwEneunVf8A08k5f%2BStqP8A5KRLxN4soRcMrnTwMNrYWlToO3nUjGVd/Ovr17HnHw0/Y%2B/ZS%2BDZjk%2BFv7OPgnQposbbvT/DVslwSOhMuzex9yxr0eiivSpUaNCPLTiorskl%2BSR8ZjsyzHNK/tsbXnVn/NOc5v75yk/xCiiitDiCiiigAooooAKKKKACiiigAooooAKKKKACiiigAooooAKKKKACvGf2X/8Akt/7R3/ZZrH/ANQrwvXs1eM/sv8A/Jb/ANo7/ss1j/6hXhegD2aiiigAooooAKKKKACiiigAooooAKKKKACiiigAooooAKKKKACiiigAornviv49vvhh8PNT8eab8PNe8Vz6bCsieHvDItTfXmXVSsX2ueCEEBixMkqKFVjnjB5CP9rf4W/8Mh6X%2B2ld2er2/hXWPBdh4ksbB7NH1GSK9giltrUQxuytcyNNFEI1cqZHChiPmoA9Qr85f%2BC5R/s/46fALxf0/wCEfj1XUd393b4i8Hpn/wAiV9u/AP4/6N8etN14R%2BBtf8K654U186N4p8K%2BKFtPt2l3n2a3u0R2s7i4t5Fktrq2mV4ppFKzAEhgyr8Tf8F8rab/AIR/TNatUzPpPwl8RX0I908W%2BBMn/vktXlZ7/wAibEPtBv7rP9D7/wAKWv8AiJeTwf28RTh/4Mcqf/uQ/Raio7W5hvbWO8t23Ryxh0b1BGRUleqfAtNOzCiiigQUUUUAFFFFABRRRQAUUUUAFFFFABRRRQAUUUUAFFFFABRRRQAUUUUAFFFFABRRRQAUUUUAFFFFABRRRQAUUUUAFeM%2BOP8AlIX8L/8AsjPjz/07eEK9mrxnxx/ykL%2BF/wD2Rnx5/wCnbwhQB7NRRRQAUUUUAFFFFABXjP7B/wDyRDXP%2ByzfEf8A9TXW69mrxn9g/wD5Ihrn/ZZviP8A%2BprrdAHs1FFFABXyV8dP27viR8XPiTffsnf8E4dFsfFHjO0byfFvxCvRv8P%2BDFJIJkkAK3N0MHbCu4Bgch9joMv9qP43/E39s74w6j/wT7/Y88TTaZYafhPjX8T7E5TQbRiQ2l2jjhr2UBlbB/djcOokMf0v8BPgB8JP2Zfhjp3wg%2BCvg610XQ9NjAjggQb55MANNM/WWVsAs7ZJ%2BgArxp1q%2BZVZUcNLlpxdpTW7fWMOittKetnpG8k3H5%2BpiMTnFaVDCT5KMXadRbya3hTeyttKprZ%2B7C8k3HxT4Mf8Es/gn4W8XQ/GT9pHxHq/xp%2BIgAZ/FHxBl%2B0wWr5zttLI5ht4weVGHZCPlYdK97%2BKfxV%2BG3wM%2BH2o/E74r%2BL7HQPD2j2/m32o30m2OJegUAcsxOFVFBZiQFBJArnP2nv2qPg1%2ByJ8Mp/ij8Z/En2S1D%2BTpunWyeZeardEfJbW0IOZZWPbgAfMxVQSPnj4UfsufGb9un4gaZ%2B1J/wUH8OnSvDem3Au/hx8C5HL22nD%2BC91UEAXF0Qc%2BUwwgJDKMtGIlKhl8vqmApp1Xq%2By/v1Jav0TblJ6Kyu1%2Bl8I8C5XQy2Wb5k/quXxk05JJ1sRUWrpUFJ3qVNuerNulRT5qknLkpTiHx3/AG2/%2BCiD/wBnfsmaJefBz4UTnE3xW8U6fnWtah7nS7Jv9UjDpPIRkEMrKylK9M%2BA3/BML9kz4G%2BIf%2BFiXvhG88deNZHEl145%2BI182r6nLKP%2BWgaYbIm9GjRWxxk19CKqooRFAAGAAOAKWt6OVUfaKtiX7Wp3ktF/hj8Mfucu8j0sx4/zH6pLL8jgsBg2rOnRk%2Beou9evpWrN9U5QpLaNFLcooor1T4IKKKKACiiigAooooAKKKKACiiigAooooAKKKKACiiigAooooAKKKKACiiigAooooAKKKKACvGf2X/%2BS3/tHf8AZZrH/wBQrwvXs1eM/sv/APJb/wBo7/ss1j/6hXhegD2aiiigAooooAKKKKACiiigAooooAKKKKACiiigAooooAKKKKACiiigDnviuPiC3w51iL4V%2BHdG1bxBLZtHpun%2BINcl02zldiFPm3MNtdPEApYgrDJkgDAB3D5z8Ffso/tOap/wTk8Mfsb/ABH03wJoniTwf4F0Gw0nW9D8WXuqWU%2BraJJZyWUkiS6dautvLJZRvIBl0DsiiTAc/VtFAHkf7LPwi%2BKXgbWPiJ8VfjbBoFn4n%2BJHjCHV7vRfC%2Bqz39jpVvb6XY6bBbpdT29tJcMVsjMzmCLDTlApCBm%2BSP8Agr78GPDemat4o8TaTqHiGe8179nbxzeX8Gq%2BLtRv7SE22ueDZV%2BzWtzPJBZDgkrbpGGwNwO1cfonXx1/wU80b%2B3/ABBqelhNzN%2ByX8WHjX1dLjws6/qorhzSHtMsrx7wn/6TI%2Bq4FxP1PjjKq/8ALicO/wDyvS/zPp34H6z/AMJH8FfB/iHfu%2B3%2BF9PuN3rvto2z%2BtdRXlX7Cus/8JD%2BxN8INaL7mufhjoLyH/b/ALPg3frmvVa2wk/aYWnPvGL%2B%2BMX%2Bp5ef4b6ln%2BMw/wDJWqx/8Bq1Y/8AtoUUUV0HkhRRRQAUUUUAFFFFABRRRQAUUUUAFFFFABRRRQAUUUUAFFFFABRRRQAUUUUAFFFFABRRRQAUUUUAFFFFABRRRQAV4z44/wCUhfwv/wCyM%2BPP/Tt4Qr2avGfHH/KQv4X/APZGfHn/AKdvCFAHs1FFFABRRXz9/wAFLjpg/Zrtf%2BEz8v8A4Qr/AIWF4X/4WR9o/wCPf/hHv7ZtPtv2rPH2PZ/x87v3f2bz/M/d76APoGivgvwRafC/x9%2BwF8Wvhh8P/jL4K8L%2BBI/Hepat4CbV9ajtdEPhGHWIpHidkb9zod1PBqFmJowYRazHyg0YRT5N8Opfhhd6Xpmq/tO6B8LdJ/ZhvP2htYk0XTdLvY7nwBb2w8H2qWwjnuIILefTzq6auySvDFA9%2BytGu425IB%2BpteM/sH/8kQ1z/ss3xH/9TXW6zP2Ibv4xWX/BPb4eXlroI1TxOngq2Oj6f4z1a4sGnt8f6It5cfZ7ieKT7N5O9mhkk353ru3VL/wTpuPEt3%2BzdfXXjLSbGw1eT4t/ENtTsdM1F7u2t5z4z1rzI4p3hhaZA2QHaKMsACUXOAAe6V81f8FGf2k/Hvw%2B8NaF%2BzH%2BzhKJvi78Wbp9K8KCNudHtcf6Xq0uOUSCPcVb%2B98wDCNhX0F428YaD8PfBmr%2BPvFV6LbS9D0y41DUrg9IreGNpJG/BVJ/Cvlb/gmn8O/FHxs1nW/%2BCmnxzsgPFXxOt/J8FaXId6%2BG/C6Ofs1tGem%2BbAmdhw2VbALOD5WY1atSUcHRdpVL3a%2BzBaSfq78sfNt/ZPEzatWrThl%2BHbU6t3KS3hTVlKS/vO/JD%2B9Jv7J7n%2Byd%2By78N/2QPglpPwW%2BG1mDFZx%2BbquqSp/pGrXzAedeTtyWkkYZ5J2qFUYVQBk/tmftheCf2PfhtD4j1XS7jXvE%2Bu3Y07wP4L0zLXuv6i%2BAkESgEhAWUvJghQRwWZFbpv2k/wBoHwD%2By18EPEXx4%2BJd4YtK8PWDTvEjASXUpIWK3jzwZJJCqL2ywzgAmvCP2Jf2ZPiT4/8AHx/4KC/tn2sc3xI8Q2AHg/wuwLW3gXSJASlrCrDi5dG/eyEBgWZeCX3RiKkqHJgMCkpW3tpThtzNdX0jH7Urt6KTf6hwfw3kuCyp51m8bYCg1ThSi%2BWWJqqKkqEGtYwirTxFXV04PljetVhax%2By9%2BxB48174lW/7Zn7eut2vir4qSx7vD%2BgQjdo/geBvmFtZRklWnHG%2Bc5O4fKScyP8AVFFFd2EwdDBUuSmt9W3q5Pq5Pdt/8BJJJHkcRcSZpxPjlicY0lFKNOEFy06VNfDTpQWkIR7K7bvKcpzlKbKKKK6jwQooooAKKKKACiiigAooooAKKKKACiiigAooooAKKKKACiiigAooooAKKKKACiiigAooooAKKKKACvGf2X/%2BS3/tHf8AZZrH/wBQrwvXs1eM/sv/APJb/wBo7/ss1j/6hXhegD2aiiigAooooAKKKKACiiigAooooAKKKKACiiigAooooAKKKKACiiigAooooAK%2BZ/2xNF/4SP8AaH0rw9s3fb/2ZvihbbfXfd%2BFFx%2BtfTFeIfFHTYtZ/bz%2BHWkT/cu/gh8QIX%2Bjap4RU/zrOrD2lKUO6a%2B9NfqdeAxDwePo4hfYnCX/AIDKMv8A20zf%2BCVOs/29/wAE6vhDfb92zwbb2%2Bf%2BuJaLH/jlfQNfKn/BEvUptQ/4JkfDSK64ms11a0mUn7pi1a8QD/vkCvquuHJp%2B0yjDy704f8ApK/yPqvErDrCeIuc0V9nFYhf%2BVqj/UKKKK9I%2BKCiiigAooooAKKKKACiiigAooooAKKKKACiiigAooooAKKKKACiiigAooooAKKKKACiiigAooooAKKKKACiiigArxnxx/ykL%2BF//ZGfHn/p28IV7NXjPjj/AJSF/C//ALIz48/9O3hCgD2aiiigAooooAKKKKACvGf2D/8AkiGuf9lm%2BI//AKmut17NXjP7B/8AyRDXP%2ByzfEf/ANTXW6APOv8Agr34u166/Zr0v9mfwLemLxJ8avGOneDdOaPlobeeUPdzEf8APMQoyOewlr6Y8F%2BENB%2BH3g7SfAXhWyFtpeiaZBYabbr0ighjWONPwVQPwr5Uu/8AjJX/AILCW9oP3%2Bgfs7%2BATNJ3VPEOsjCgjocWS7h3Vkr0z/goz%2B0bqn7Mf7JfiTxv4QEknivVlj0HwRaQcyz6venybcRj%2BJky0uO4hNeFSxFOFXFZhU%2BGPuL/AA0171vWba82kc/COT43iril0MIr1K9WGHp32tF2k2%2BkVOU5SfSNOTex494mP/DyD9u9PAcP%2BlfBr9n7V1udfYfNb%2BI/FwH7u1PaSK0BJcf3yysCsimvtOvKv2Kf2adE/ZI/Zn8LfBHTEje90/T1m8QX6HLX%2BpygPdXDMeW3SlsE5IQKvRRXqtdeWYarSpOrW/i1HzS8tNIrygrRXnzPqfe8b51gswzCnl%2BWP/YcHF0qHTnSk3UryX8%2BIqc1WXaLpQ2phRRRXpHxQUUUUAFFFFABRRRQAUUUUAFFFFABRRRQAUUUUAFFFFABRRRQAUUUUAFFFFABRRRQAUUUUAFFFFABRRRQAV4z%2By//AMlv/aO/7LNY/wDqFeF69mrxn9l//kt/7R3/AGWax/8AUK8L0AezUUUUAFFFFABRRRQAUUUUAFFFFABRRRQAUUUUAFFFFABRRRQAUUUUAcd%2B0H8ZtC/Z3%2BB3iz45%2BJNMur6z8KaBc6lJp9jt8%2B8aKMslvFuIXzJGCxruIG5xkgZNcN8Mf2qPHGsaH8StM%2BL3wSGj%2BNPhhax3mq%2BFvCGvPrianbTWP2y2eyne2tXleTbNB5bQoRNA4BZCjt3P7QnwZ0P9on4G%2BLPgZ4k1O6sLPxXoFzpsmoWO3z7NpYyqXEe4FfMjYrIu4EbkGQRkV5b4e/Y0%2BJmo%2BH/iZa/GP4/WGr6z8XNGn0rxdrfhbwjNo72toNNFjZppytf3BtWi33M7PI05kluCV8pUVAAR/sFft42/7bcXiR7Lw14VSHw/Z6Vc/wBs%2BBPHg8R6VI99FNIbB7r7JbeVqFsIlNxa7G8pbm3O9vMIXofHH/KQv4X/APZGfHn/AKdvCFRfsvfsseN/gr488Q/FP4o/FPRPEuva54U0Hw1EvhfwWdBsLbTtJN81uTbm7ui9wzahPvk8xU2JCiRRhDuw7/4R/CjwN/wU28F%2BPfBPwx8PaPrvif4PeOJfEutaVosFvd6s8ereEvLa5mjQPOV3vguWI3HHU0Acl/wRh/0D9kPU/CHT/hHvid4l07Z/d237vj/yJX1pXyX/AMEmD/Z2kfH/AMINx/Y37TfiyCJfSItbup/Hca%2BtK8nItMoorsrfdKa/Q/QPFX3vEXMqn89RT/8ABlLD1P8A3IFFFFesfn4UUUUAFFFFABRRRQAUUUUAFFFFABRRRQAUUUUAFFFFABRRRQAUUUUAFFFFABRRRQAUUUUAFFFFABRRRQAUUUUAFeM%2BOP8AlIX8L/8AsjPjz/07eEK9mrxnxx/ykL%2BF/wD2Rnx5/wCnbwhQB7NRRRQAUUUUAFFFFABXin7Dl5bad8BPEWoXswjhg%2BMPxJklkboqr401sk/kK9rr5O8PeNP%2BFdf8E1Pjb46WXZJpXiX4v3MBzjMq%2BKfEBjA9y%2B0fjWVeqqNGVR7RTf3Jv9DHEVo4fDzqvaMW/uTf6EX/AARz0y88Y/s7%2BIv2tvEkRGt/Grx9q3iW7D8vb2q3L2ttbZ/uRpCxX0ElUviP/wAZe/8ABU/w18Kov9I8Hfs8aSnibxGo5im8S3q40%2BFv9qGEG4U9m3g13v7FVxo37N3/AATD%2BH/ijxKvk2Xhv4SW2u6qpO0ov2L7bMD6EFn/ABrB/wCCRvw81vTv2Wv%2BGhfiABJ4w%2BM%2BuXXjTxHclT0unJtYkJ5ES24jZV6L5jY4r5yhSdTDYPAvrFVJ%2BaVpa/4qslf/AAs%2B18M6T4b4ExWfz/iqlHDUX19vi4SlWqetPDus79JV12R9SUUUV9QfIBRRRQAUUUUAFFFFABRRRQAUUUUAFFFFABRRRQAUUUUAFFFFABRRRQAUUUUAFFFFABRRRQAUUUUAFFFFABRRRQAV4z%2By/wD8lv8A2jv%2ByzWP/qFeF69mrxn9l/8A5Lf%2B0d/2Wax/9QrwvQB7NRRRQAUUUUAFFFFABRRRQAUUUUAFFFFABRRRQAUUUUAFFFFABRRRQAUUUUAFeM%2BOP%2BUhfwv/AOyM%2BPP/AE7eEK9mr52%2BMXj2z8Lf8FQ/gN4UvWA/4Sf4R/EaztQepmivfCdyP/IcMvH%2BFTKcYK7/AKvoROcacby20X3uy/FnKf8ABOP/AIlH7R37VPhDp5HxnOo7f%2Bvu0jfP47K%2BtK%2BS/wBjT/iT/wDBS39rjwueEe%2B8GajAP73naTJvP/fQAr60ry8l0wHL2nUX3VJ/5n6H4m%2B/xX7b/n5h8HP/AMCwWGf/ALaFFFFesfn4UUUUAFFFFABRRRQAUUUUAFFFFABRRRQAUUUUAFFFFABRRRQAUUUUAFFFFABRRRQAUUUUAFFFFABRRRQAUUUUAFeM%2BOP%2BUhfwv/7Iz48/9O3hCvZq8Z8cf8pC/hf/ANkZ8ef%2BnbwhQB7NRRRQAV4h%2B394k8RaF8E9G0jRPFepaBaeJPiX4V8P6/rmj6hJZ3Vnp19rVpbXAiuYmV7Z5lk%2BzCZGWSP7RuRkcKw9vrN8Y%2BDPB/xE8LX/AIH%2BIHhTTdd0TVLZrfU9H1ixjurW8hYYaOWKQFJEI6qwINAHxn4j%2BJnxG8K/8E%2BfjNo3hr4u6%2BZfDHxVvvB3gLxVqGvXE99cQyaza2kNpLqUkhnQJcXMunNfs7TW6RGZmeSEk%2BVW%2BvftNa1fR/sr2HizVrjxTp/x31uyuvANx8ffEFrZLYQ%2BErHUUtI/GUUR1e4jje%2BgvPLkgEjS3Mtu0awWqzV%2BgWm/s7fs/aN4RbwBpHwL8HWmgvoR0R9EtvDFpHaNphd3NiYVjCG3LSSN5ONmXY4yTWXefsg/smaj8MLb4I6h%2By98Op/BdlfG9s/CE3gmwbS4Lk7szpamLylkO9/nChvmbnk0Acr%2Bxx8WPFfiX/gn38NPi5LF4k%2BImuXPw40q5uiiWNvqeu3X2aMSyfv7mO1EjuGfcbjy2zkSMCCflj9oXx7rNv8A8ESfitrD%2BF7/AEbVfEXxS8aaemhajJA11bS3nxD1GJ7aRreWWFpFV3DGOR0JU7WYYJ/Q/S9L0zQ9MttE0TToLOys4EgtLS1hWOKCJFCoiIoAVVAAAAwAABX51ftBf8VJ%2By/8M/g8nzf8Jp%2B3T4hsLqL1tU8c%2BIJpWPqF8tCa8vO5NZRXS3cXFesrRX/pR4vEUnHIsSo7yg4r1naC/wDSz2L/AIKoXGofDX/gnpbfs6%2BBLgJrHjvUNC%2BHvh0L/G9zLHG646kG3imXHvX1N4H8IaN8PfBWj%2BAfDkHladoel2%2Bn2EX9yGGNY0H4Kor5Z/ajP/C7P%2BCoPwD%2BAUZ82w8CaRqvxD8Q2/UblAs9Pc%2BhW43H/gXavrqs8DFVMxxFVbR5aa/7dXNL/wAmkl8j9a4iisp4HyXKo6OoquLmv%2Bvs1Qo39KOHk15T03YUUUV7B%2BfhRRRQAUUUUAFFFFABRRRQAUUUUAFFFFABRRRQAUUUUAFFFFABRRRQAUUUUAFFFFABRRRQAUUUUAFFFFABRRRQAV4z%2By//AMlv/aO/7LNY/wDqFeF69mrxn9l//kt/7R3/AGWax/8AUK8L0AezUUUUAFFFFABRRRQAUUUUAFFFFABRRRQAUUUUAFFFFABRRRQAUUUUAFFef/tV/Gq5/Zz/AGbvG3xy0/QU1W88MeHLm%2B0/TJZjFHd3SoRBC7gEojSlFZwCVUk4OMV554A/ak%2BJXw%2B0b4zaT%2B1HJ4f1XVfg3o8OvX2seB9FuNPtdT0uXTXvF2WtzdXLwzI9vdxEGd1cJHJ8m8xoAfQdfAP/AAVP8b3Hws/4Ka/sU/EuNmSG01jxTpt9MOkNvqE2gWMjt6KBOMn3r3v9gn9qPxV%2B0t4f1HU/HvxH8K3%2BrDStL1UeGdA8B6vokuj216kzxky6nOx1a2cxukOoQRQQTm3mKL1VPl3/AILNeJvhz8aPFdx4X%2BFfxO8P6t4x%2BF3wc8V69qOmaTrMFzeaFcWviHwZODcwxuXt2aGK4wHCk4bHQ15ucc6yurKG8VzL/t1qX/trPIz91I5NXnT%2BKMeZf9uOM/x5Gvme4/BD/iSf8FhvjjpfT%2B3Php4Z1HH97yd9vn9cV9aV8V3fjuy8L/8ABTv4NftG2rAeHf2gPg3LoMMhOUhvbfZqduS3YyRyLGo7nP4falY5PKLhWgulSb%2BUuWcX81K5%2BrcfOOK/snMKbvTr4HC2fd0ozoTXrGVNJ%2Bq7oKKKK9g%2BACiiigAooooAKKKKACiiigAooooAKKKKACiiigAooooAKKKKACiiigAooooAKKKKACiiigAooooAKKKKACiiigArxnxx/wApC/hf/wBkZ8ef%2BnbwhXs1eM%2BOP%2BUhfwv/AOyM%2BPP/AE7eEKAPZqKKKACiiigAooooAK/OPRP%2BKy/an/Zt%2BF6/PDb/AB%2B%2BNniO%2BX/nn9j8Sax5DEe8jMBX6OV%2Bav7Juu2uof8ABSLVdYvvnsPhr4T%2BKmrTMTxHc3PxH1tCvsTAuc%2BleTnLTw9OD%2B1Upr5KXM/wgeNnUJ16VDDwV3UrUYpd/wB4pW%2BfJ%2BJ7j%2BxD/wAXm/by/aS/acl/fWWla9Y/D3w5L1ESabCGvkB7hrh434r65r5X/wCCL3h6503/AIJ5%2BDvF2sZfV/GF9qviDW7lhzc3NzfzkSH3MSxD8K%2BqKeSJvLKdR71LzfrNuX4JxXyP1jxQqQjxzi8FTd6eE5MLDty4aEKF1/ilCpP/ALf73CiiivVPgAooooAKKKKACiiigAooooAKKKKACiiigAooooAKKKKACiiigAooooAKKKKACiiigAooooAKKKKACiiigAooooAK8Z/Zf/5Lf%2B0d/wBlmsf/AFCvC9ezV4z%2By/8A8lv/AGjv%2ByzWP/qFeF6APZqKKKACiiigAooooAKKKKACiiigAooooAKKKKACiiigAooooAKKKKAOd%2BLnws8G/HD4WeIvg38Q7CS60LxTotzpWrQQzNFI1vPE0b7HXDRuAxKupBVgCCCBXBfDP9jrw14DtvEkfiv4seLvHM/jYSp45vPGA0x5NfhNnFZRQTC0soEiihgjIRLdYQzTTPJ5ryFq9fooA8m/Z1/ZF8L/ALO%2Bvah4si%2BJ/i/xhq154e03w/bal4wubN5LDR9Pa4a0sYhaW1upRGup2MsqyTyFx5kr7V28f%2B0z8P7P4sftYeGPhZqO37P4l/Z3%2BJOlT7xxsuL/AMJwnP4PX0TXjPjj/lIX8L/%2ByM%2BPP/Tt4QqZwjUg4y2aafz0/UipCNWm4SV000/Rpp/g2fE7ah4p%2BIn/AAQ9%2BF/7QHh%2B1dvGX7P2t2WrW1uTiSJtFv5LOaFyOi/ZBvYdCEGa/SrwR4w0L4heC9I8f%2BF7sT6Zrml2%2BoadOP8AlpBNGskbfirA18jf8E/PBuhPrf7VX7FPiy183TLL4p6lcGxPGzSddtBLHEB/d2CXHruNdN/wSA8Za7cfsmv8B/G915niP4PeLNT8E6zu4J%2BxzEwMAf4PIkiVT0PlnFfL5LOVGtSUv%2BXlPlf%2BOg3B/Nwt9x9bw/OWeeC9BTd6uWV%2BR9/ZYi8H8o4nDfJ1fM%2Bp6KKK%2BqPlQooooAKKKKACiiigAooooAKKKKACiiigAooooAKKKKACiiigAooooAKKKKACiiigAooooAKKKKACiiigAooooAK8Z8cf8pC/hf8A9kZ8ef8Ap28IV7NXjPjj/lIX8L/%2ByM%2BPP/Tt4QoA9mooooAKKK8w/a2%2BMnjL4MfDCwvvhrZ6ZL4m8S%2BMNF8NaBJrcEktla3GoX8NsbqeOKSN5Y4Y3km8pZIzKYhGHj371APT6K%2BYNV/bI%2BM3hT9jX4ofFPXPD/hy/wDHvwt8Tah4f1J7Cyni0y9lhuIRHfRWrXDzsDa3MM/2JZ3leUNbxyuzI58xtv8Agp/8Wj4H07w3e3Whw%2BKta%2BLepeFNK8Qt8IfERf7DY6PFqc1zL4TWdtXiut0ogWzklR2hxfZEDKjAH3bX5J/sva9c6TqX/BRH4v3R2HwpP4w0PRpSery6z4iuWX2/fPH%2Bdfpl4H%2BN3gGb9njRfjz4z%2BMfhSfQJ/DdtqOo%2BN7dxpujzI8alrpBczObaFmOQksrsgIVnZgSfyz8Na1pCf8ABLr9t340%2BDNZtNVt/H/7UHiix8P6jpl0k8GpWUniOKKKWGVCVkjdbiVlZSQy8gkGvn%2BIm4YWNT%2BT2kvupVLfjJHrcJZW868RuH8G9pYyjf0Uo7/j%2BJ%2BlH/BP/wAJf8IP%2Bw58IvDLRbJIPhzo73CY6SyWkckg/wC%2B3avXqzPBPhuDwd4M0jwja48rStMt7OPb02xRqg/Ra069nC0vYYanS/ljFfckv0JzzHvNc7xWOf8Ay9q1an/gdSpP/wBuQUUUVueWFFFFABRRRQAUUUUAFFFFABRRRQAUUUUAFFFFABRRRQAUUUUAFFFFABRRRQAUUUUAFFFFABRRRQAUUUUAFFFFABXjP7L/APyW/wDaO/7LNY/%2BoV4Xr2avGf2X/wDkt/7R3/ZZrH/1CvC9AHs1FFFABRRRQAUUUUAFFFFABRRRQAUUUUAFFFFABRRRQAUUUUAFFFFABRRRQAV4z44/5SF/C/8A7Iz48/8ATt4Qr2avGfHH/KQv4X/9kZ8ef%2BnbwhQB5HrGpD9l3/grwPEniaH7P4Y/aG8GWul2Wpg4jHiLS8rHBL2Be2YLGScs7BQDg4rzaz/ww9/wU61XVvFlv9l%2BHv7SUdhFp%2BrhsQad4qs4jELeQdE%2B1RnIbPzyEDGFYr7F%2B33%2By6/7Wn7Ner/D3Qb37D4q0yaLWvAmsI%2ByTT9atSZLaRX/AINxzGzdllYjkCvPPh3d%2BAv%2BCuP/AATzfwz8UrFtM125ifS/E8KRbbnw54msiFaVF4MbpKFlVcgmOUI3DMK%2BXr4etSxUqNL41J1qV9m9qkH63%2BSmn9lnp%2BHud4DhziTFZTmt/qOPhKM2leUYzlCUpxXWeHrxp14x%2B3B1Ifauvquivmz/AIJ2ftO%2BNfiV4a1r9mr9oyaO2%2BMPwruV0rxfbvJ82rW4A%2BzatFnBeOeMqxYD7xyQokQV9J17%2BExVLG4eNans%2Bj3TWjTXRp3TXdehvxDkOO4Zzirl2Ls5QatKLvGcJJShUg/tQqQcZwkt4y6NSSKKKK6TxQooooAKKKKACiiigAooooAKKKKACiiigAooooAKKKKACiiigAooooAKKKKACiiigAooooAKKKKACiiigArxnxx/ykL%2BF/8A2Rnx5/6dvCFezV4z44/5SF/C/wD7Iz48/wDTt4QoA9mooooAK4348fBLw1%2B0D8Opfh34m1jU9L26lY6npetaJNHHe6XqFldRXdpdwNLHJHvjnhjbbIjxuAUdHRmU9lRQB4dH%2Bwd4Bk%2BC2sfBHV/ir41v7TXtT/trU9aubmwTUZdfGprqaa0JYrRFW6S5jgKRhBaoltFGtuEUqacP/BPzwhbWL61a/Hf4gR%2BPJPHEniyX4pB9IOsvqD6UmkMDE2nnTxCdPiit/JFoExEkmPOHm177RQBy/wAFfhD4P%2BAfwo0H4OeAUuv7J8PaelpaSX1yZribGS0sshxvkdyzs2BlmJAHSvz1%2BMvg6x039jfQ/hrZymV/ih%2B3z4itrxNmNxl8da0xBHcBbVBn2r9Mq/OXU/8AiqPir%2BzX8LM7vtf7WHxY17y/X%2BzPE2tzbvw8yvIzyKlls49ZOMf/AAKcIv8AC5994XRjHjvCYp/8uI163p7LDYmpf5NRfyP0aooor1z4EKKKKACiiigAooooAKKKKACiiigAooooAKKKKACiiigAooooAKKKKACiiigAooooAKKKKACiiigAooooAKKKKACiiigArxn9l/8A5Lf%2B0d/2Wax/9QrwvXs1eM/sv/8AJb/2jv8Ass1j/wCoV4XoA9mooooAKKKKACiiigAooooAKKKKACiiigAooooAKKKKACiiigAooooA8w/bT%2BL/AIp%2BAf7JnxD%2BMfgaO1Ot%2BH/Cl5daO99EXt4boRkRSyqCC0SOVd1yMqrDI6jz74U/HnxH8A7r45eGv2mPjbqHizQPg9pll4im8c6zpNlb3q6ZNpj3VxDPHp1vBA7wvbTupjhVjHNErB2Uu/vvjTwb4V%2BIvg7Vvh9460C11XRNd02fT9Y0u9iDw3lrNG0csMinhkdGZSO4JrkPg5%2By38G/gLvf4aafr0E1xey3l/d6r401XU7jUZ3ght/Mu5r25lkuykNvBFF5zP5KRhY9gyCAeDf8EuP21db/AGt/FHxjtfFf7QPgzxfcaN4u0%2B60PQ/B%2Bs6bexeHNLvdIsrlLHzrIt9q8md7iF7l2cSTwzhCqKsadpf/ABO8N%2BMf%2BCm3gvwZpOm%2BIYbzw98HvHEd/NqvhHUbG0lL6t4Swba6uYI4L0DactbvIFyNxG5c%2B0%2BFvhj4H8FeK/E3jfwzof2bVPGOpQX/AIkuvtMr/bLiG0hs432uxWPEFvCmECg7NxBYknzfxx/ykL%2BF/wD2Rnx5/wCnbwhQB7NXxX8etE%2BJP/BOD9ovxL%2B218MPCc/iL4R%2BPZoJ/jJ4V0yEteaFdxgqdctUBxIhBJnXgk5YnGGj%2B1KZPBBdQPa3UKSRSIVkjkUFWUjBBB6gjtXFjcGsXTXLLlnF3jJdHtt1TWkl1T6OzXn5jgFjqUeWXJUg%2BaElvGVrbdU02pReji7aOzXzN%2B0L%2By/8Pv22vDnhn9r79kv4s23hz4j6bYLdeAviXojbor2A5P2K9UD9/bMSyMjqWjJYbT88bSfso/8ABQjTfH/ixv2Z/wBqzQ7f4b/GrSmEF94Y1CbZa63/AHbvTJmO24ikwWEYYuOQN4XdXFeIf2Uf2nv2D/GGsfFX/gndDp/iXwJq982oeJPgNrM/2eOKY/62bR7k5Fs7dfJYbOOA%2BI0XTs/i7/wT0/4KreFn%2BCvxk8NRad4z02VorjwP4yi/svxLoN4ACxtiSsmQcHdCWUjAcdVrw1UrUsVeNqVeXxQlf2dW3WMukvP4ktJwkkpH2vD/AB/leYZfS4c4ypyShpQqws6tHVtqjKbUa%2BHk3zPDTnGcG3Kk6cnJVPrqivja08D/APBTX9h6M2Pwv1iz/aK%2BHVmf9F0TxPqIsPFmnwDpGl2R5N4FGeXHmNwqqowK7L4S/wDBWL9kHx/ro%2BH/AMSfFF/8LPGURCXnhD4o6e2j3MLngASS/uXBOQuJNx4%2BUZxXqU83wykqeJToz7T0T/wz%2BCXykn/dPZxnh1nc6EsXkso5hhlq54e85xX/AE9w9vrFF9%2BalOCe1V6N/S9FRWF/Y6pZRalpl7Fc288YeC4gkDpIp5DKw4IPqKlr1dz4JpxbTVmgooooEFFFFABRRRQAUUUUAFFFFABRRRQAUUUUAFFFFABRRRQAUUUUAFFFFABRRRQAUUUUAFFFFABXjPjj/lIX8L/%2ByM%2BPP/Tt4Qr2avGfHH/KQv4X/wDZGfHn/p28IUAezUUUUAFFFFABRRRQAV%2Bb/wABb%2B01z/gon8NdLvpwsXgrUvjTrzEgny/tfjnWLEEAc5JAUY5J4r9IK/ND/gn8P%2BEw/wCCkPxZ8Q/fHg6bxHoef7hu/ifq97j6kDNeTm3vKhT/AJqsPw5pf%2B2o/QPD/wDczzXF/wDPrAYq3rUVKgvv9tJH6Nf8JhpP/Ppqn/gju/8A41S/8JhpP/Ppqv8A4I7v/wCNV87ePv8Agsj/AME3vhf471r4aeOf2jfsOt%2BHdWudM1iy/wCEQ1iX7PdW8rRSx747Rkfa6MNykqcZBI5rJ/4fl/8ABLT/AKOh/wDLJ1v/AOQqqWeZLCTjLE001/fj/mZ0fC3xMxFGNWlkmLlGSTTWHqtNNJppqFmmmmn1TT6n0/8A8JhpP/Ppqv8A4I7v/wCNUf8ACYaT/wA%2Bmq/%2BCO7/APjVfO3gH/gsj/wTe%2BKHjvRfhp4G/aN%2B3a34i1a20zR7L/hENYi%2B0XVxKsUUe%2BS0VE3O6jcxCjOSQOa779v74wfEz9n39ib4p/HH4N2mmzeJ/CXgfUNV0ddXmZLdZYIWk3vtjk3bVDME24dlCFkDF168LjcHjYuWHqRmlvytO3rY%2BfzzhniThitClnGCq4aU03FVac6bkk7NpTSbSeja66Hpf/CYaT/z6ar/AOCO7/8AjVH/AAmGk/8APpqv/gju/wD41Xz7qX7bfxq8K/EDxz4L%2BIfwM8C6FY/DL4e2fibxx4muvindNYQPdxao1vbWx/scSzgPp8YlleOIolwWSOZ4xFJy/wANv%2BClWr/FXVPDOh6t8J9X8L63F8aJfB3iHSFlvLaGRD4P1DX4Z9usaPaXrwukMSbfs9pIJUDLLJCpW46Twz6q/wCEw0n/AJ9NV/8ABHd//GqP%2BEw0n/n01X/wR3f/AMar55/ZK/b5%2BJP7Q%2Bn6JceOf2YP%2BEfu/Fnwm0X4g%2BE9L8PeNYdVnutOvmCPBObiCyit7iEvExUPIjo%2BQ4ZTHXU/tV%2BLfirqXxa%2BF/7PHwt%2BK%2Bo%2BBG8bXWsXWreK9G02xur2K3sLISLbQLf29xbq0k00LMzxOfKglVdrMJEAPXf%2BEw0n/n01X/wR3f8A8ao/4TDSf%2BfTVf8AwR3f/wAar5yg/aD/AGkfif8A8EyPCHx/%2BH1pc/8ACc67pHh2bxDd%2BFdDW9uLe1lv7SLWNQ06ykWQTypZm8ubeArLuZY12Tn92/GeAvjh%2B0r8aP2aviDqHgXxd8bdQ134Z/Eq/wBD0q58O%2BFPC%2BmeJPFFmLG0vLeW8s9es4bSDYL0KyRxW0zCEfu1ctFQB9gf8JhpP/Ppqv8A4I7v/wCNUf8ACYaT/wA%2Bmq/%2BCO7/APjVct%2Byt8Rda%2BMH7MPw5%2BLHiXXtI1TUvE3gTSNV1LUvD8UqWF1cXFnFLLLbrMFkWFndiiuA4UgMAQRXe0AUtN8Q6Xqtw1nbNOkypvMVzaSwsVzjcBIqkjPGR61drKu/%2BR20/wD7BV5/6Mtq1aACiiigAooooAKKKKACiiigAooooAKKKKACiiigAooooAKKKKACiiigAooooAK8Z/Zf/wCS3/tHf9lmsf8A1CvC9ezV4z%2By/wD8lv8A2jv%2ByzWP/qFeF6APZqKKKACiiigAooooAKKKKACiiigAooooAKKKKACiiigAooooAKKKKACiiigArxnxx/ykL%2BF//ZGfHn/p28IV7NXjPjj/AJSF/C//ALIz48/9O3hCgD2aiiigAryn9pL9iH9lv9rWxWH46fCDTNVvokC2euwqbbUrTHK%2BXdRFZVAPO3cVyOVNerUVlWoUMTTdOrFSi%2BjSa/ExxGGw%2BLpOlXgpxe6aTX3O/wDXU%2BP4f2Q/%2BCin7NS%2BX%2ByP%2B2ta%2BNNAtzmz8E/HDTmvGiQfwLqdti4IxwqlVVcCub%2BKX7T/AMSNS8PnwX/wUZ/4JF%2BIdc0uHKyax4LsbTxbYAd51QbZbVe%2BSS64z1r7kory55OowcaFWUYv7LtUh/4DUvp5KRwYXL8blVeNfKsZVw84u8eWTkov%2B7zPmj/27UR%2BW3gk/wDBJu51aV/2Rv8Agob47/Z61rziZ/D0viG80/T4ZiclZ7XVE8p%2Bedol2ivdvBOo/wDBVHRLEX/wU/at%2BBHx%2B0eJc%2Bfqto2m300fbY%2BnO9uG93OK%2BrviD8Gfg/8AFq0Nh8VPhT4b8SwFdvk6/odveLj0xMjV4R4z/wCCOP8AwTj8Z3p1cfs32WiXwbdDe%2BF9WvNMaFvVVt5kjH/fOK8z%2Bxcfh/4HKv8ABKpS/wDJf3tP/wAlR92vE3xKmuXNVhMzj/1FUU6n/g3lVX5%2B2l%2BRiD9vr9tD4cjy/j//AMEsfH6JFxLffDXXrPxGJR/fSGMo65/uk5qaz/4LSfsRadcpp/xbvvG3w6vHbb9j8c%2BAdQtXVv7pMUcqg/Vse9Rf8OnLXwt8/wAGf29P2hfCSp/qbCH4hG7sU9P3E0Rz%2BLVHefsXf8FJNCtns/B3/BU99VsmXadL8Z/CTTLxZB6PMHDn8qfNxLQ2UpeqpT/GMqUvwD/XPhfE/wDIx4WnTfWWExzS%2BVPERqx%2BXN5Hqvgn/goj%2Bwn8Qwg8K/tc/D6WSTHl2914ot7WZvpHOyP%2BleqeHfF/hPxfa/bvCfijTtUgIyJtOvY50x9UJFfBXjb/AIJ9/t5a6XfxF8K/2NvHrEnfdeJvhtd2V0474ktUyrH64ryzxD/wS/8AjdFdf2jqP/BK34Q3t4hyl34A%2BMmr6MwPqiyzbF/FaP7Yzul/Ew1/%2B3ai/L2iF/avhRiPijmmGf8Aew2GxEV86NelJr/t2/kfqzRX5K/8Mq/toeCuNC/ZB/aX8HJH9x/AH7WdhdJj2ikgZsf7JNL/AG7/AMFIPBHGl337Zmn7On2vwxpHijH5vHv/AK0f6zVYfxMLNel/1poPZ%2BGVb%2BFn7p%2BVfL8fT%2B9wjXj9yZ%2BtNFfksP21/wDgp54PGL74ifHeUJ0HjL9kC1tV/F7S7Yke%2BOaUf8FeP%2BCgvhTjUtY8CTKv3j4u%2BDfiiybHv9kDgGj/AFvy6P8AEp1I/wDbqf6oP7K4RqfwOJcvf%2BOpiaP/AKewMbfM/Wiivya/4iBPjt4aITxdpnwcu3zgpZ2niizJPt59kwH41p6d/wAHH3iiIqt5%2BzF4Q1Ud3sPioLP8cXVmDVLjPh9uzqNesX%2BjY48OYOt/u%2Bc5bU9Mxwsf/TkqL/BH6pUV%2Bamlf8HGPhaRQ2v/ALLUdt/e%2Bx/FfSJ8f99bM1sQf8HHv7MlqN3iL4G%2BMIcfe/s7V9Iu/wAsXi5rePFnDsv%2BYhL1Ul/7aaR4PzSq7Ua%2BFqf4MdgJfljIn6J0V8A6L/wcd/sKau2x/h/8UbY5wfM8O2Tgf9%2Br1q6jTP8Agvp%2BwJfgG5m8dWYPU3Pg2Y4/79s1bQ4m4fn8OJh9/wDmi5cC8VRf%2B7p/4a2Fl/6RjJn2tRXyFa/8F0v%2BCa8oB1H4y6vYDubvwTqnH/fFu1aun/8ABbD/AIJg6nj7N%2B1RZrnp9o8M6rF/6Hait1nuSS2xNP8A8Dj/AJoS4E41avHLq0v8MOb8YymfVFFfOVh/wVy/4Ju6jj7P%2B1t4ZXP/AD3FxF/6HEK2bH/gpv8A8E%2BNQx5H7YngBc/89/EMUX/oZFbRzbK5bYiH/gcf/kiHwNxtHfK8T/4IrP8AKmz3SivIrL/goB%2BwnqGPs37ZvwsJPRX8f6chP4NMDWtZ/tjfsiajj%2Bz/ANqj4bz56eT44sGz%2BU1axx2BltVg/wDt6P8A8kcdThbiij/Ey/ER9aFdfnRR6PRXGWn7Rv7PWoY%2BwfHfwZPnp5Pii0b%2BUlalp8Vvhdf4%2Bw/EnQJs9PK1iBv5NWqr0JbTT%2Ba/zOGpleaUf4mHqR9ac1%2BcEb9FU7TxF4fv8fYdds5s9PKukb%2BRq4CCMg5FaJp7HFKE4O0k16pr87BRRRTJCiiigArxnxx/ykL%2BF/8A2Rnx5/6dvCFezV4z44/5SF/C/wD7Iz48/wDTt4QoA9mooooAK4748fGzw1%2Bz98OpfiJ4m0jU9U3alY6Zpmi6JDHJe6pqF7dRWlpaQLLJHH5kk80a7pHSNAS7uiKzDsa8v/a3%2BDfjP4z/AAwsLH4a3mmReJvDXjDRfEugR63PJFZXVxp9/Dcm1nkijkeJJo0kh81Y5DEZBIEk2bGAMz/htz4XWv7NmvftK694X8R6XbeGNTuNJ1/wre2tv/a1lqsN4LM2DLHO1uZGnaNUkE5gZZUl83y231jat/wUN%2BE/hX9n/wAefHjx38PvGGhTfDnXn0LxD4JvLWyn1h9V%2Bz21xFZW/wBlupbW4klivLZlZLgxqJD5rxeVL5fH6j%2ByD%2B0Z4n/Zf%2BJXwp16XwVbeIvib4ln8Ta3FBrl3PpkskuoQtJoMhazSR7KXTbWKzlvAokY3E7rbJhVPEQf8EpfHXiH4OeJfD9p8RLf4P3kviDX9V8BfD34S3FjdeF/Dv8AaOh22ltbj%2B0tHbh3ivbhpLa1tmjOr3ioCXZ3APs3wH4x0z4h%2BBtF8f6LBPFZ67pNtqFpFdKqypFNEsihwpIDAMMgEjOcE9a/Pj/gkPoEk37R37YnjuYFln/aQudLt2PRBb%2BJNTkdR9TOpNfa/wAKPgXfeGv2XfDX7PfxK8da1rFzpnhOz0nVtd07WZNNvJ3iiRGeK505bR4cFcK8QibaBnknPy3/AMEevhvZ/D34U/HpbN72WK4/bE8Yw2lxqWoz3lzJbW3iBbePzbi4d5p3zG5aWR2dySzMxJJ8/F0/aYrDv%2BWUn/5JJfqfXcPY1YPIM5jfWrRpU/vxVKT/AApn3VRXzF4//wCCmv8AwgXjvW/Av/Dvn9p7Wv7F1e5sP7Y0D4T/AGmwv/JlaPz7aX7SPNhfbvR8DcrKcDNZH/D2H/rGp%2B1p/wCGb/8Auqs5Z1lkZOLqar%2B7P/5WfnEuIcmhJxlV1Wnw1Omn/Po%2BtKxfiP8ADzwZ8XPh9rnwq%2BI2gxar4f8AEukXOl65pk7MqXVpcRNFNEShDAMjMMqQRnIIPNfPngH/AIKa/wDCe%2BO9F8C/8O%2Bf2ntF/trV7aw/tjX/AIT/AGawsPOlWPz7mX7SfKhTdvd8HaqscHFezftJ%2BMPid8PPgF4v%2BIPwZ8OWms%2BJ9B0C51LR9FvYXdNSkgQym0AR0IeVUaNG3YV3ViGAKnrw2Mw2Mi5UZXS30kv/AEqMf1O3B4/B5hFyw8uZLR6SXn9qMfwuY0H7Gv7PC%2BFfFPg7U/CGpavZ%2BNfDdvoPiqXxF4r1PU7rUrCD7T5Mclzd3Mk%2B9Ptc%2BJQ4lG5fn%2BRNuf4J/YM/Zb%2BH%2Bprr2geAtSm1IeLh4ol1XWfGGq6leXGrjSJtGF3NcXd1JLO39nzy2%2BJGZdpVsbkRl8M8R/8ABR/4m/Ejwtc%2BMf2XG0PVbDxH47m0j4USxeEl1RvEGnWGkLdareyNc63pVtDHFd%2BfAHa4XaLNwElaQeXxPg39ur4jfFzxHonx4svtNrp3jz4Zfs76rH4UbX737DpU/iLxdrttfyQfZp4tzmLyUZjlJ1tYVmSWJfKPSdh9h%2BGP2TvgR4JsdEsPB3hO90pfDnga08HaJNp3iPUIZrTRbV43gtVlScOdpijzIWMjAEM7BmB0fjf%2Bz18Kf2idE0/Q/ilo%2BozDSNRN9pF/oniK%2B0i%2BsbgwywM8N5YTQ3EW6GaaJwkgDpIysCpIr5N%2BCn7VP7T3xu/aj%2BD/AIw1LxT4SGi%2BO/hb4/1vw78PdKur3T2tZLO/0aC2g1aUzXCXUsfmlGuEtozbyPcIsUmcn279t/VvEk%2BmfCj4by%2BKdW8O6R47%2BK9hofjPUvDeu3Gn3UNmdPv7pIIr23aKe38%2B9tbO18yNo5GW4KqVLigD0KT9nf4WJ4DHww0ax1jRdAi8OWGhWWmeGfFeo6VHp9jZkm3S0%2Bx3ERs3UHaZYCkroiIzssaKvO3f7Ev7P0/w8074W2Nh4t0vSNNury5B0D4l69pt3ez3bmS5lvbu1vY7i/eVyXdrmSUsx3Ek815f8ItR/aF%2BKf8AwTb8b6J8J/iTdz%2BNLPUvHfhzwD4s1fVS1xcW2n69qmn6ZcSXkoctKbW2gH2tw5dsTtv3HPmPw2%2BI2i2HhX42eFP2jX%2BMfhPwF4C8Z6EPDOiT/GDUb7xVNql3pcW7QxqOmalNc3MstxNbyxWaXsrE3sIJVWEMYB9y%2BDfB3hX4d%2BENK%2BH/AIF8P2mk6JoWmwafo%2BlWEIjgs7WGNY4oY0HCoiKqhRwAAK0q/Of9p7RP27/gt%2ByRpvxS%2BI%2BueOtRvPBvwP1m8STwz8Uk06Xw34mSQ3Flday/2mD%2B3IYbcQ2zjbeCaWCUm1m%2B0hh7L8QvBupeN/25/gtY6H4w8f6H4hudMu/HXxO0uw%2BJ2uppKafZ2UdhBpzaZ9s%2Bwos%2BoXsEuBB%2B8Gm3OclnYgH0/d/8jtp//YKvP/RltWpWXd/8jtp//YKvP/RltWpQAUUUUAFFFFABRRRQAUUUUAFFFFABRRRQAUUUUAFFFFABRRRQAUUUUAFFFFABXjP7L/8AyW/9o7/ss1j/AOoV4Xr2avGf2X/%2BS3/tHf8AZZrH/wBQrwvQB7NRRRQAUUUUAFFFFABRRRQAUUUUAFFFFABRRRQAUUUUAFFFFABRRRQAUUUUAFeM%2BOP%2BUhfwv/7Iz48/9O3hCvZq%2BcP2j9X%2BNej/ALeHwnn%2BB3w/8LeItSb4R%2BO1u7TxX4wudFgjg/tTwkS6S2%2Bn3rO%2B7aNhjUYJO/ICkA%2Bj6K8Z/wCE4/4KF/8ARr/wZ/8AD8at/wDMvR/wnH/BQv8A6Nf%2BDP8A4fjVv/mXoA9morxn/hOP%2BChf/Rr/AMGf/D8at/8AMvR/wnH/AAUL/wCjX/gz/wCH41b/AOZegD2aivnHSf2jv27dY%2BM%2Bv/A63/ZQ%2BEi6p4d8L6Rrt5cv8ddU8iSDUbnUreFEI8Mbi6tpc5YFQAHjwWJYL1H/AAnH/BQv/o1/4M/%2BH41b/wCZegD2aivGf%2BE4/wCChf8A0a/8Gf8Aw/Grf/MvR/wnH/BQv/o1/wCDP/h%2BNW/%2BZegD2aivGf8AhOP%2BChf/AEa/8Gf/AA/Grf8AzL1y/gH9o79u34ieK/G/hDR/2UPhJDceA/FEWharJc/HXVAk88mlafqYeLb4YJKeTqMKksFO9HGMAMwB9HUV4z/wnH/BQv8A6Nf%2BDP8A4fjVv/mXo/4Tj/goX/0a/wDBn/w/Grf/ADL0AezUV4z/AMJx/wAFC/8Ao1/4M/8Ah%2BNW/wDmXo/4Tj/goX/0a/8ABn/w/Grf/MvQB7NRXzj8Iv2jv27fjL4Uu/F/hz9lD4SW1vZ%2BKNb0KSO9%2BOuqK5n0vVbrTJ3G3www2NNaSMhzkoykhTlR1H/Ccf8ABQv/AKNf%2BDP/AIfjVv8A5l6APZXRJFKSKGBHIIyDWVqHgLwLq%2Bf7V8F6TdZ6/aNOifP5qa8v/wCE4/4KF/8ARr/wZ/8AD8at/wDMvR/wnH/BQv8A6Nf%2BDP8A4fjVv/mXpOMZbq5MoxkveVztb79nf9n/AFTP9p/AzwdcZ6%2Bf4ZtHz%2BcdY97%2Bxr%2ByBqWf7R/ZT%2BG1xnr5/gbT3z%2BcNYX/AAnH/BQv/o1/4M/%2BH41b/wCZeuX%2BCP7R37dvx4%2BDHhD44%2BFf2UPhJa6X4z8L6frum22ofHXVFnhgu7aO4jSQJ4YZQ4WQBgrMMg4JHNYywuFl8VOL/wC3Y/8AyJhLBYKfxUov1jF/%2B2nX3n/BPr9g%2B%2Bz9o/Yw%2BFeT1MfgHT0P5rCKy7v/AIJl/wDBPm9/137HPw%2BXP/PHw3DH/wCgqKu/8Jx/wUL/AOjX/gz/AOH41b/5l6P%2BE4/4KF/9Gv8AwZ/8Pxq3/wAy9ZPLsulvRh/4BH/5EwllOVS3w9P/AMAh/wDIGBdf8EoP%2BCct5nzv2Q/CAz/zytHj/wDQXFZ1z/wR5/4Jp3f%2Bt/ZM0Ef9c7y8T/0GYV2H/Ccf8FC/%2BjX/AIM/%2BH41b/5l65f43ftHft2/Af4MeL/jj4q/ZQ%2BEl1pfgzwvqGu6lbaf8ddUaeaC0tpLiRIw/hhVLlYyFDMoyRkgc1k8oyl74eH/AIBH/IyeRZHLfC0//BcP/kTIuf8Agir/AMEwrr/W/sq2Az/zz8Raon/oN0Koz/8ABDX/AIJbTnJ/ZfCn1j8Z60P/AG8xXpv/AAnH/BQv/o1/4M/%2BH41b/wCZej/hOP8AgoX/ANGv/Bn/AMPxq3/zL1DyPJXvhqf/AIBH/IyfDnDz3wdL/wAFx/yPJrj/AIIQf8Ev5vufs%2B3kX%2B54z1Y/%2BhXJqnP/AMEDf%2BCZcv8Aq/g7q8X%2B54wv/wCspr2X/hOP%2BChf/Rr/AMGf/D8at/8AMvR/wnH/AAUL/wCjX/gz/wCH41b/AOZeofD%2BRP8A5haf/gKNY5Hk1P4MPFeit%2BTR4fN/wb%2Bf8E15fufDzxFH/ueLbr%2BrGqs3/BvZ/wAE45P9X4Y8Wx/7niqT%2BqmvUvi7%2B0d%2B3b8GvClp4v8AEf7KHwkube88UaJoUcdl8ddUZxPqmq2umQOd3hhRsWa7jZznIRWIDHCnqP8AhOP%2BChf/AEa/8Gf/AA/Grf8AzL1D4cyB/wDMLD/wFHRHLsHD4Ytekqi/Kqj58l/4N3/%2BCdkn3LHxqn%2B74o/xiNQH/g3Z/YCQ5s9Y%2BIlt/wBcPFEQ/nbmvor/AITj/goX/wBGv/Bn/wAPxq3/AMy9H/Ccf8FC/wDo1/4M/wDh%2BNW/%2BZep/wBWeH/%2BgWH3f8E2WHjHac1/3Frf/Lz54T/g3s/Yxt/%2BPH4rfFy29PI8X24x/wCSlTw/8EC/2YrX/jw/aQ%2BOdv6eR45t1/8AbOvoD/hOP%2BChf/Rr/wAGf/D8at/8y9cv4%2B/aO/bt%2BHfivwR4Q1j9lD4STXHjzxRLoWlSW3x11QpBPHpWoamXl3eGAQnk6dMoKhjvdBjBLKLhrIVtho/j/wDJClhoS3lP/wAG1/8A5eeZ2/8AwQy%2BCdmc2P7Y37RMGOnk/EWBf/bOtC2/4Iw%2BB7EYsP2%2BP2noPTyvilEv8rOvZP8AhOP%2BChf/AEa/8Gf/AA/Grf8AzL0f8Jx/wUL/AOjX/gz/AOH41b/5l6tcP5LHaivvn/8AJnPPK8FU%2BJSf/cSt/wDLzyWL/gkTFa/8eP8AwUj/AGqIfTZ8WcfythUPwK/ZL1H9lz/gob4ON9%2B0/wDFT4kLrvwZ8ZeWPiZ4rOqHTvJ1bwtn7MSi%2BX5nmjf/AHvKj/u17B/wnH/BQv8A6Nf%2BDP8A4fjVv/mXqh4H8D/tWeMf2rPDnxu%2BN3w4%2BHvhnRvDPw98Q6HDD4V%2BId9rV1d3WpX2iXCMyXGkWKRRomlygsHdi0qALjJHRQynL8NVVSlCzX96b/Bza/AVDKcvw1ZVacGpLrzVH/6VUkvwZ7rRRRXonohRRRQAUUUUAFfOX7EPhjTfC37PHiy9sRIRe/tDeP8AU752GcH/AITzVN7cDoqRj8Fr6Nr5K/ZK8Wftnaf8PfFFn8MfgH8MNX0JPjT8Rf7P1HXvi7qOm3cy/wDCZ6yWMltFoFykRDbgAJnyADkE7Qmk2n2LjUqRhKCekrX87O6%2B56n1B/wnPgn/AKHDS/8AwYR//FUv/Cc%2BCf8AocNK/wDBhH/8VXlv/Ccf8FC/%2BjX/AIM/%2BH41b/5l6P8AhOP%2BChf/AEa/8Gf/AA/Grf8AzL0yD1L/AITnwT/0OGlf%2BDCP/wCKo/4TnwT/ANDhpX/gwj/%2BKry3/hOP%2BChf/Rr/AMGf/D8at/8AMvR/wnH/AAUL/wCjX/gz/wCH41b/AOZegDUvfgd%2BxTqXw50j4Paj8H/hbP4R0C9N5oXhabw/pradptwWkbzre2KeVDJullO9FBzI5z8xzoaf8OP2UdJtbWy0rwH8PbaGytNJtLKG30uxRbeDS55LjTIkAUBEtJ5ZZbdRgQSSO8YVmJPmfwR/aO/bt%2BPHwY8IfHHwr%2Byh8JLXS/GfhfT9d0221D466os8MF3bR3EaSBPDDKHCyAMFZhkHBI5rqP8AhOP%2BChf/AEa/8Gf/AA/Grf8AzL0Aa1j8Ev2LdM8Ta141034R/C%2B31nxJDdw%2BItXg0DTkutUjusC5S5lCb51m2r5gckPtG7OK3/G%2BlfAD4meCLn4ZfEjTfB3iDw3eQpFd%2BHtchtLuxnjRlZEeCUNGyqyqQCuAVBHQVxX/AAnH/BQv/o1/4M/%2BH41b/wCZej/hOP8AgoX/ANGv/Bn/AMPxq3/zL0AdUPBP7MI8PW/hEeEfAY0m08Nz%2BHrXS/sFl9nh0icRrNpyR7dq2sghiDwAeWwiQFTtGOf1H9nH9g7V/hhY/BHVvgP8I7rwXpmp/wBo6b4RuPC%2BlvpdpeYcfaYrVozFHLiWQeYqhv3j8/Mc8b8bv2jv27fgP8GPF/xx8VfsofCS60vwZ4X1DXdSttP%2BOuqNPNBaW0lxIkYfwwqlysZChmUZIyQOa6j/AITj/goX/wBGv/Bn/wAPxq3/AMy9AGg3wD/YfeDwtav8FvhSY/A0jyeCYz4c0zb4fd5FlZrEeX/ohMiq5MW3LKG6gGuxhvPg/beK7nx3b3XhqPXLzT4LC81lHtxdz2kMkskNu8w%2Bdoo3nndUJ2q00hABds%2Bff8Jx/wAFC/8Ao1/4M/8Ah%2BNW/wDmXo/4Tj/goX/0a/8ABn/w/Grf/MvQB6TbavpeueMbW40XUYLuO30y5WeW2lDqjPJAVBK5AJCNx7Vu14z/AMJx/wAFC/8Ao1/4M/8Ah%2BNW/wDmXrl/i7%2B0d%2B3b8GvClp4v8R/sofCS5t7zxRomhRx2Xx11RnE%2Bqara6ZA53eGFGxZruNnOchFYgMcKQD6Oorxn/hOP%2BChf/Rr/AMGf/D8at/8AMvR/wnH/AAUL/wCjX/gz/wCH41b/AOZegD2aivGf%2BE4/4KF/9Gv/AAZ/8Pxq3/zL0f8ACcf8FC/%2BjX/gz/4fjVv/AJl6APZqK%2BcfH37R37dvw78V%2BCPCGsfsofCSa48eeKJdC0qS2%2BOuqFIJ49K1DUy8u7wwCE8nTplBUMd7oMYJZeo/4Tj/AIKF/wDRr/wZ/wDD8at/8y9AHs1FeM/8Jx/wUL/6Nf8Agz/4fjVv/mXo/wCE4/4KF/8ARr/wZ/8AD8at/wDMvQB7NRXjP/Ccf8FC/wDo1/4M/wDh%2BNW/%2BZeuX1b9o79u3R/jPoHwOuP2UPhI2qeIvC%2Br67Z3KfHXVPIjg065023mRyfDG4OzapAVAUghJMlSFDAH0dRXjP8AwnH/AAUL/wCjX/gz/wCH41b/AOZej/hOP%2BChf/Rr/wAGf/D8at/8y9AHs1FeM/8ACcf8FC/%2BjX/gz/4fjVv/AJl6P%2BE4/wCChf8A0a/8Gf8Aw/Grf/MvQB7NRXzjpP7R37dusfGfX/gdb/sofCRdU8O%2BF9I128uX%2BOuqeRJBqNzqVvCiEeGNxdW0ucsCoADx4LEsF6j/AITj/goX/wBGv/Bn/wAPxq3/AMy9AHs1FeM/8Jx/wUL/AOjX/gz/AOH41b/5l6P%2BE4/4KF/9Gv8AwZ/8Pxq3/wAy9AHs1FeM/wDCcf8ABQv/AKNf%2BDP/AIfjVv8A5l65fwD%2B0d%2B3b8RPFfjfwho/7KHwkhuPAfiiLQtVkufjrqgSeeTStP1MPFt8MElPJ1GFSWCnejjGAGYA%2BjqK8Z/4Tj/goX/0a/8ABn/w/Grf/MvR/wAJx/wUL/6Nf%2BDP/h%2BNW/8AmXoA9mrxn9l//kt/7R3/AGWax/8AUK8L0f8ACcf8FC/%2BjX/gz/4fjVv/AJl6t/srfDn40%2BD9Y%2BKHjv46aB4X0nVPH3xCi1yz0rwn4ludWt7W1i0HR9MVXuLiys2aRpNOlcqItoWRBuY5wAet0UUUAFFFFABRRRQAUUUUAFFFFABRRRQAUUUUAFFFFABRRRQAUUUUAFFFFABXyv8AtPftafFz4Y/GTxZrPgHw74Pk8MfB/wAP%2BH73xqda0i4m1bVLfV7%2BVLmCwuI7iNLLyLazjuP3kU4uZCkZEPl%2BafqivGfjP%2BxD8OPjd8Uj8TNc8c%2BKtLi1G10i18X%2BGtGurVNO8UwaXeyXtjFfLLbyTBY5ppc/Z5YDLHIYpjLGFQAHs1FFFABRRRQB8x%2BHP2lfiZD%2B3/4o%2BD/xG1jw94T8Nr4gtNE8GRaj8ItZS68YwDQINRxB4ja7XTmlju7nUALQQvJ5dpMAoLNIv05Xlfiz9lqDx/8AGTSPin49%2BN/jXV9K8Pa7HrWgeALg6ZFo1jqEdu8Ec4aGyS9l2eZJIqTXUkYkfds%2BRAvqlABRRRQB4v8A8FBfi78cP2fv2R/Gnx6%2BAV74Uj1jwToV3rl1B4w0W5vra7tLW2lme3RLa6tmSV2RFEhcqgLEo/Arz/x5%2B1n8XPBfx48W6n4U8O%2BD4vh54P8AjH4R%2BH3jKzm0ic63quq67BoqR6hDdpcLDHHB/bmkxmKS3leRIZ8Sx7UFew/tY/s42X7WnwI179n3Wvir4p8I6T4nspbHXL/wgunfa7mylieKa23X9pdRojq/LIiyAqNrrzni4P2AfB0/xFs/iL4q%2BOPj7XWOs6TrnibRtQl0qKx8T65piIljq19HbWETLcRCC0IW2aCBjY2xeJjHkgHvdFFFABXi/wC2T8Xfjh8ErXwD4x%2BFl74U/sbUPiZ4c8PeL7HxBotzc3Vza6rrNjpoNnLDdQpbSRrcyyb5EnUlEXZyTXtFeVftXfstv%2B1V4b0LwvP8ffG/ga30LxJYa6jeC4dHZ7u9sbyC8s2lOpafeDbFcW8bhYwgblZN6naADzj9nn9pX4ma3%2B1V4t%2BCPxQ1fw94T06HxTrdv4J8JSfCLWdMudetoXSU39vrVxd/YNQdjJNLLFbQF%2BS7FcMT9OV5LpP7KIf4yaL8ZfiP%2B0B478azeF7u8u/CeheIRpMNho91c28lrJcRLYafbSyv9nmnhXz5JVRZ32gEgj1qgAooooA8P/bu%2BLnx4/Z%2B%2BDWr/HX4UeMfAtjp/hbRbm8vdF8WeGb2/ufEN7lFs9Ms5La9g%2BzTXEpFujeVdM0s8QWFj8ref/BH9r74z658S/Bf9reDPCWkfDTxv8T/ABR8NvCvhrTtLmj1fRL/AECHVt889yLhreaCRvD%2BposMdvEY1a2PmSZYD0/9pX9kGD9pLx54I%2BIE37QPjvwhc%2BAbu5vdFsfDEWjT2cl7KgjW8mg1PTrxHnhj8xYZAFMYnlI%2BZsir4D/YZ%2BHvgP4y2/xdh%2BIvi7UoNO1zU9e0TwhqVzZf2TpWt6lG8eoapAkVqk/nzie7LK8zwo19cmOKPzOAD2uiiigAr5f/AGufjx%2B0x8FviJp/hXSofAHjXR/HMOtW2i/DmLwffSawlraaHdXcl/cXAvniurYXUVvbSQi1iB%2B3woJjIyJJ9QV4dN%2BxNcR/tH%2BK/wBprRP2q/iXp2r%2BLdNh0650uGDw/PaafZwwNHDbWbXOky3NvEsrvdbFm2vO5dw4O2gBn7CH7Qfjf49/D28uviv4%2B0a%2B8XacLNtf8N2Xwu1fwjeaA89ssogubLV7qe4cFt/l3ACRyKh2htpNe6V5v8Dv2btO%2BDPifxJ8Q9Y%2BKXinxx4q8VxWNvrHifxc1gty9pZib7LapFp9ra20cUbXNy42whma4kLM2Rj0igAooooA%2BOf%2BCgn7cfxU/Yv8c/2nrui6B4x8Ivo2o63b%2BFZfhzqdlLbppujX2pJJ/wAJFNdPpk939r00bLFYEuhHMsoG2FpG9e/Zo%2BLvxz1b4qeN/wBnr9o658KX/ifwjpOh61HrXgrSLmwsbmx1MXkaRGC5ubl1liuNOu1L%2BbiRDE2yMkqK3x2/YS8EftO61dWvx/8Ai3418UeC7mS4kX4ZXkmmw6NFJNYzWTMHt7KO%2BkAjuJmCS3ToHfdt%2BRAvT/s%2BfszaR8A7zXvEV38UPFnjjxH4kNnHq3irxrcWb30ttaRGK1tR9jtreFYog8rDEe9nnld2dnJoA9KooooAK%2BI/2p/2yv2s/g38avEHwo8HeG/DnjXU7DRbjXfDAT4H%2BII5NFA1HTLVDC325x4mkFjqlx539l%2BU8LQlZRGJhHX25Xh%2BvfsWan4m8fH4na1%2B1z8UZtb0%2BC8h8G3hTQAPCq3U0Mk/2SMaTsnZo4Ft916t0yxM4Uq7s5AOq/ZY%2BLD/ABk%2BEcHiy9%2BJmjeKr%2BHUbqy1S%2B0bwZfeHRbXEUrK1rNpuoXE91ZzxjCvHM4fPzbVDAV6NXDfAP4C%2BHvgB4Z1PRtK8U634g1HX9euNb8SeJPEc0DXuq38wRGnlFvFDAmI4oYlSGKONUiQBRgk9zQAUUUUAFFFFABRRRQAUUUUAUfFHiGw8I%2BGtR8V6qH%2By6ZYzXdz5S5by40LtgdzhTXzn%2BxN%2B0n8a/H/AIp0fwZ8bPD3gyzXx18LbL4jeGYfBmlXFoNMjvLgm70%2B7M1xKLuaN7m2f7YggE7SzEwR7QX%2Blru0tb%2B1lsb23SaGaNo5opVDK6kYKkHggjjFeQ/szfsV%2BAv2YNVfV9A%2BIPi3xLLbeGLHwz4dHiy9tZhoGhWbyPb6bam3t4S0amT5pZzNcSCOLzJn8tcAHsVFFFABXC/tQeO/iL8Lf2afiJ8Tvg/4UXXvFvhzwLq%2BqeFtDaxmuhqOo29nLLbWxhgZZZvMlRE8uNg7bsKQSDXdVneLdEv/ABL4Y1Dw/pfivUdCub20kht9a0hYGurF2UgTRC4iliLqeQJI3TI%2BZWGQQDy79in4tT/FD4Z31lq3xC8P6zqfh3VV0680zRPhhqfg59DQW0EkVncaVqlzPcwuEcSK7eWjxSxbEwN7%2BxV558B/2dtJ%2BB154l8R3PxE8SeMfEni/UYbzxF4p8VvZi7ujDbpbwRCOxtra2iijjQBVjhTJZ2YszMx9DoAKKKKAPlz9qj9rH4ofs4fF7xxZfErRvCXiL4X2H7O/i/x7baFb6JcJqrtog0tZ7a4uZLl7eaKdb6cBBbIVCJl3ywrt/2Z/i/8fNU%2BLnjL9nb9paTwleeKPDHhjw94lj1XwVpNzY2Ullqz6lbrbGG5ublzLDcaRdgyiQLIjxN5cZ3LUHxj/YV8O/HT46t8ZfHnx28cy6bN4K1PwjffD2GDRf7Eu9G1Jbb7faSF9Na9Ina0gdnF0HUoQjIjMh6T9nf9l3Q/2fb7W/Ec/wAUPFvjfxDr9rYWV/4n8bXNpJe/YLFJFs7Nfsltbx%2BVEZ7hwShkd7mV3d2bNAHp9FFFABXyJ8a/2l/2tvBmu/tAeBLfwr4M8WXvgLw/4U8SfDax0n4f6nfzrHqOq6lCEvLWK8eXUZ4F02OdTbC3JckKvyq1fXdeFy/sUeIYvjp42%2BP%2BhftofFbStW8b6RY6Zc2NlZ%2BGGtNNtrK4uZ7NLYS6K8n7o3l0oMzyl1nIk8wqhUA6v9lT4tzfGX4UjxNqPxO0bxTqNrqtzY6tdaP4Iv8Aw2bO4ib5rWfTNRuJ7q0nRSu5JmDEMrbVVhXpNcJ8A/gHoHwB0LWbHT/FuueI9V8TeIJdc8T%2BJvEktu17qt/JDDB5sgtoYYIwsFvbwqkUUaKkKALnJPd0AFFFFAHxt%2B0t%2B13%2B0t%2Bzx8ZoPhtrSfDPxrfa3BBN4Rh07wte2kvgu81LxDpnh7SJtTle%2BnF1FO2rzgtEtnI4sbpYwy%2BYYvcv2Vfi/wDEj4jDx/8AD74xnRJ/FXw08eN4a1nVfDWnTWdhqfmaXp2rW9xDbzTzyW%2BbXVLdHjaaXEkcmGIIxwlt/wAE1fCTXXxDfxD%2B0v8AE7Wbf4k68dc1i31I6F5lnqUVxDPp9zbXUWlpdKbB7e3FpG80kUSwoGR%2Bc%2BsfAP4C6H8A/D2rabZeL9c8Sat4i1%2BbWvE/ijxK9sb/AFe%2Bkjih86YWsEEC7IILeBEiijRY4I1C8EkA7qiiigBlz9p%2BzSfY9nnbD5Xm527scZxzjNfEHxW/a5/bT%2BGnxE1z4bW9t4D8Z694YvfDVvq3jrwR8Fdf1aPw5b6s1497YS6VZ6lPd3M0UNlY3RMU6fu7qFpYEBiaT7eu4ZLi1lt4bqSB5I2VZ4gpeMkYDLuBXI6jII9Qa%2Be/gx%2BwF4g%2BAnw2uPhp8O/26vjFFHdas%2BpzazeWXhOfUJbuV5ZLmeaZ9CP2mSd5d0kk4kfMabCgGCAes/AT4h2XxW%2BDvh/4hWHxA0bxUmp6eJH1/wAP6TNYWl3ICVkKWs800tsVdWRoZJHeNlZWO5SB19cl8C/gv4S/Z9%2BF%2BnfCnwVc39xZWEt1cTX2q3Imur67urmW6urqZwqhpZrieaV9qqu6Q7VVcKOtoAKo%2BJ4fElz4b1C38G6nY2WryWUq6XeanYPdW0FwUIjklhjliaaNWwWRZIywBAdSdwvVm%2BMdBv8AxR4Wv/Dul%2BLdS0G5vLV4oNa0cQG6sXI4miFxFLEXU8gSRuhx8ysMigD4e%2BG/7dv7Wvxg%2BKet/BL4W6b8Pk8Z6ba67fSeM/Ffwu1rQl1TTNItdFlSxl0S8vk1DT5Xu/EOxJp5nj8qGS4jhdZ0B%2BxvgF8WdN%2BPnwK8FfHXRtNlsrPxr4S03XrSznbc8EV5ax3CxsQBkqJACfUV4tq//BMjwPrWuX3xFu/2lPimnxA1ZLy11v4k2t7pEOrX%2BmXVta202mFE00WcNsUsrRh5FtFMskCyrKHLMfoPwX4P8NfDzwdpPgDwZpMWn6PoemQafpNhDnZbW0MaxxRrnnCoqqPpQBp0UUUAcv8AGnUfHGjfC3Wtb%2BHPiGx0vVrCzN1Dfah4PvfECJHGQ8oGnWM8FzeSNErqkUMgcuy4Vz8jfFvwl/4KI/H7xJ400PU/G9x4R8CeDNSnnXxB44vPgZ4imttYv4dfutIRLmVb6NPDM8lraWv7jVGklgeVY3zsCV9t/EzwZrvj3wlN4c8N/FLX/Bt5JLG8Wv8AhmKxe7g2sCVVb%2B2uYGDAFSHibgnGDgjxW5/4JzeFNQ8H3Hw21X9pD4m3fhjXNQmv/Hnh%2BafRxF4wu57x7q4mvpV00XEXmlliaOzltYhDEkaoo3bgD6JooooAKKKKACiiigAooooAKKKKACiiigAooooAKKKKACiiigAooooAKKKKACiiigAooooAKKKKACiiigAooooAKKKKACiiigAooooAKKKKACiiigAooooAKKKKACiiigAooooAKKKKACiiigAooooAKKKKACiiigAooooAKKKKACiiigAooooAKKKKACiiigAooooAKKKKACiiigAooooAKKKKACiiigAooooAKKKKACiiigAooooAKKKKACiiigAooooAKKKKACiiigAooooAKKKKACiiigAooooAKKKKACiiigAooooAKKKKACiiigAooooA/9k%3D\">"
      ]
     },
     "metadata": {},
     "output_type": "display_data"
    }
   ],
   "source": [
    "s.run(tf.global_variables_initializer())\n",
    "\n",
    "BATCH_SIZE = 512\n",
    "EPOCHS = 40\n",
    "\n",
    "# for logging the progress right here in Jupyter (for those who don't have TensorBoard)\n",
    "simpleTrainingCurves = matplotlib_utils.SimpleTrainingCurves(\"cross-entropy\", \"accuracy\")\n",
    "\n",
    "for epoch in range(EPOCHS):  # we finish an epoch when we've looked at all training samples\n",
    "    \n",
    "    batch_losses = []\n",
    "    for batch_start in range(0, X_train_flat.shape[0], BATCH_SIZE):  # data is already shuffled\n",
    "        _, batch_loss = s.run([step, loss], {input_X: X_train_flat[batch_start:batch_start+BATCH_SIZE], \n",
    "                                             input_y: y_train_oh[batch_start:batch_start+BATCH_SIZE]})\n",
    "        # collect batch losses, this is almost free as we need a forward pass for backprop anyway\n",
    "        batch_losses.append(batch_loss)\n",
    "\n",
    "    train_loss = np.mean(batch_losses)\n",
    "    val_loss = s.run(loss, {input_X: X_val_flat, input_y: y_val_oh})  # this part is usually small\n",
    "    train_accuracy = accuracy_score(y_train, s.run(classes, {input_X: X_train_flat}))  # this is slow and usually skipped\n",
    "    valid_accuracy = accuracy_score(y_val, s.run(classes, {input_X: X_val_flat}))  \n",
    "    simpleTrainingCurves.add(train_loss, val_loss, train_accuracy, valid_accuracy)"
   ]
  },
  {
   "cell_type": "markdown",
   "metadata": {},
   "source": [
    "# Submit a linear model"
   ]
  },
  {
   "cell_type": "code",
   "execution_count": 63,
   "metadata": {},
   "outputs": [],
   "source": [
    "## GRADED PART, DO NOT CHANGE!\n",
    "# Testing shapes \n",
    "grader.set_answer(\"9XaAS\", grading_utils.get_tensors_shapes_string([W, b, input_X, input_y, logits, probas, classes]))\n",
    "# Validation loss\n",
    "grader.set_answer(\"vmogZ\", s.run(loss, {input_X: X_val_flat, input_y: y_val_oh}))\n",
    "# Validation accuracy\n",
    "grader.set_answer(\"RMv95\", accuracy_score(y_val, s.run(classes, {input_X: X_val_flat})))"
   ]
  },
  {
   "cell_type": "code",
   "execution_count": 64,
   "metadata": {},
   "outputs": [
    {
     "name": "stdout",
     "output_type": "stream",
     "text": [
      "Submitted to Coursera platform. See results on assignment page!\n"
     ]
    }
   ],
   "source": [
    "# you can make submission with answers so far to check yourself at this stage\n",
    "grader.submit(COURSERA_EMAIL, COURSERA_TOKEN)"
   ]
  },
  {
   "cell_type": "markdown",
   "metadata": {},
   "source": [
    "# MLP with hidden layers"
   ]
  },
  {
   "cell_type": "markdown",
   "metadata": {},
   "source": [
    "Previously we've coded a dense layer with matrix multiplication by hand. \n",
    "But this is not convenient, you have to create a lot of variables and your code becomes a mess. \n",
    "In TensorFlow there's an easier way to make a dense layer:\n",
    "```python\n",
    "hidden1 = tf.layers.dense(inputs, 256, activation=tf.nn.sigmoid)\n",
    "```\n",
    "\n",
    "That will create all the necessary variables automatically.\n",
    "Here you can also choose an activation function (remember that we need it for a hidden layer!).\n",
    "\n",
    "Now define the MLP with 2 hidden layers and restart training with the cell above.\n",
    "\n",
    "You're aiming for ~0.97 validation accuracy here."
   ]
  },
  {
   "cell_type": "code",
   "execution_count": 49,
   "metadata": {},
   "outputs": [],
   "source": [
    "# write the code here to get a new `step` operation and then run the cell with training loop above.\n",
    "# name your variables in the same way (e.g. logits, probas, classes, etc) for safety.\n",
    "# Compute predictions\n",
    "hidden1 = tf.layers.dense(input_X, 256, activation=tf.nn.sigmoid)\n",
    "logits = tf.layers.dense(hidden1, 10, activation=None)\n",
    "probas = tf.nn.softmax(logits) ### apply tf.nn.softmax to logits\n",
    "classes = tf.argmax(probas, axis=1) ### apply tf.argmax to find a class index with highest probability\n",
    "\n",
    "# Loss should be a scalar number: average loss over all the objects with tf.reduce_mean().\n",
    "# Use tf.nn.softmax_cross_entropy_with_logits on top of one-hot encoded input_y and logits.\n",
    "# It is identical to calculating cross-entropy on top of probas, but is more numerically friendly (read the docs).\n",
    "loss = tf.reduce_mean(\n",
    "    tf.nn.softmax_cross_entropy_with_logits_v2(\n",
    "        logits=logits, labels=input_y\n",
    "    )\n",
    ")\n",
    "# Use a default tf.train.AdamOptimizer to get an SGD step\n",
    "step = tf.train.AdamOptimizer().minimize(loss) ### optimizer step that minimizes the loss"
   ]
  },
  {
   "cell_type": "markdown",
   "metadata": {},
   "source": [
    "# Submit the MLP with 2 hidden layers\n",
    "Run these cells after training the MLP with 2 hidden layers"
   ]
  },
  {
   "cell_type": "code",
   "execution_count": 53,
   "metadata": {},
   "outputs": [],
   "source": [
    "## GRADED PART, DO NOT CHANGE!\n",
    "# Validation loss for MLP\n",
    "grader.set_answer(\"i8bgs\", s.run(loss, {input_X: X_val_flat, input_y: y_val_oh}))\n",
    "# Validation accuracy for MLP\n",
    "grader.set_answer(\"rE763\", accuracy_score(y_val, s.run(classes, {input_X: X_val_flat})))"
   ]
  },
  {
   "cell_type": "code",
   "execution_count": 54,
   "metadata": {},
   "outputs": [
    {
     "name": "stdout",
     "output_type": "stream",
     "text": [
      "Submitted to Coursera platform. See results on assignment page!\n"
     ]
    }
   ],
   "source": [
    "# you can make submission with answers so far to check yourself at this stage\n",
    "grader.submit(COURSERA_EMAIL, COURSERA_TOKEN)"
   ]
  },
  {
   "cell_type": "code",
   "execution_count": null,
   "metadata": {},
   "outputs": [],
   "source": []
  }
 ],
 "metadata": {
  "kernelspec": {
   "display_name": "Python 3",
   "language": "python",
   "name": "python3"
  },
  "language_info": {
   "codemirror_mode": {
    "name": "ipython",
    "version": 3
   },
   "file_extension": ".py",
   "mimetype": "text/x-python",
   "name": "python",
   "nbconvert_exporter": "python",
   "pygments_lexer": "ipython3",
   "version": "3.6.6"
  }
 },
 "nbformat": 4,
 "nbformat_minor": 1
}
