{
 "cells": [
  {
   "cell_type": "markdown",
   "metadata": {
    "slideshow": {
     "slide_type": "slide"
    }
   },
   "source": [
    "# Going deeper with Tensorflow\n",
    "\n",
    "In this video, we're going to study the tools you'll use to build deep learning models. Namely, [Tensorflow](https://www.tensorflow.org/).\n",
    "\n",
    "If you're running this notebook outside the course environment, you'll need to install tensorflow:\n",
    "* `pip install tensorflow` should install cpu-only TF on Linux & Mac OS\n",
    "* If you want GPU support from offset, see [TF install page](https://www.tensorflow.org/install/)"
   ]
  },
  {
   "cell_type": "code",
   "execution_count": 1,
   "metadata": {},
   "outputs": [],
   "source": [
    "import sys\n",
    "sys.path.append(\"..\")\n",
    "import grading"
   ]
  },
  {
   "cell_type": "markdown",
   "metadata": {},
   "source": [
    "# Visualization"
   ]
  },
  {
   "cell_type": "markdown",
   "metadata": {},
   "source": [
    "Plase note that if you are running on the Coursera platform, you won't be able to access the tensorboard instance due to the network setup there. If you run the notebook locally, you should be able to access TensorBoard on http://127.0.0.1:7007/"
   ]
  },
  {
   "cell_type": "code",
   "execution_count": null,
   "metadata": {},
   "outputs": [
    {
     "name": "stderr",
     "output_type": "stream",
     "text": [
      "\"killall\" no se reconoce como un comando interno o externo,\n",
      "programa o archivo por lotes ejecutable.\n"
     ]
    }
   ],
   "source": [
    "#! killall tensorboard\n",
    "import os\n",
    "os.system(\"tensorboard --logdir=/tmp/tboard --port=7007 &\");"
   ]
  },
  {
   "cell_type": "code",
   "execution_count": 2,
   "metadata": {},
   "outputs": [
    {
     "name": "stderr",
     "output_type": "stream",
     "text": [
      "Using TensorFlow backend.\n"
     ]
    }
   ],
   "source": [
    "import tensorflow as tf\n",
    "from keras_utils import reset_tf_session\n",
    "s = reset_tf_session()"
   ]
  },
  {
   "cell_type": "markdown",
   "metadata": {},
   "source": [
    "# Warming up\n",
    "For starters, let's implement a python function that computes the sum of squares of numbers from 0 to N-1."
   ]
  },
  {
   "cell_type": "code",
   "execution_count": 3,
   "metadata": {},
   "outputs": [],
   "source": [
    "import numpy as np\n",
    "def sum_sin(N):\n",
    "    return np.sum(np.arange(N)**2)"
   ]
  },
  {
   "cell_type": "code",
   "execution_count": 11,
   "metadata": {},
   "outputs": [
    {
     "name": "stdout",
     "output_type": "stream",
     "text": [
      "Wall time: 0 ns\n"
     ]
    },
    {
     "data": {
      "text/plain": [
       "216474736"
      ]
     },
     "execution_count": 11,
     "metadata": {},
     "output_type": "execute_result"
    }
   ],
   "source": [
    "%%time\n",
    "sum_sin(10**5)"
   ]
  },
  {
   "cell_type": "markdown",
   "metadata": {},
   "source": [
    "# Tensoflow teaser\n",
    "\n",
    "Doing the very same thing"
   ]
  },
  {
   "cell_type": "code",
   "execution_count": 5,
   "metadata": {},
   "outputs": [],
   "source": [
    "# An integer parameter\n",
    "N = tf.placeholder('int64', name=\"input_to_your_function\")\n",
    "\n",
    "# A recipe on how to produce the same result\n",
    "result = tf.reduce_sum(tf.range(N)**2)"
   ]
  },
  {
   "cell_type": "code",
   "execution_count": 6,
   "metadata": {},
   "outputs": [
    {
     "data": {
      "text/plain": [
       "<tf.Tensor 'Sum:0' shape=() dtype=int64>"
      ]
     },
     "execution_count": 6,
     "metadata": {},
     "output_type": "execute_result"
    }
   ],
   "source": [
    "result"
   ]
  },
  {
   "cell_type": "code",
   "execution_count": 7,
   "metadata": {},
   "outputs": [
    {
     "name": "stdout",
     "output_type": "stream",
     "text": [
      "Wall time: 0 ns\n"
     ]
    },
    {
     "data": {
      "text/plain": [
       "333328333350000"
      ]
     },
     "execution_count": 7,
     "metadata": {},
     "output_type": "execute_result"
    }
   ],
   "source": [
    "%%time\n",
    "result.eval({N: 10**5})"
   ]
  },
  {
   "cell_type": "code",
   "execution_count": 12,
   "metadata": {},
   "outputs": [],
   "source": [
    "writer = tf.summary.FileWriter(\"./tmp/tfboard\", graph=s.graph)"
   ]
  },
  {
   "cell_type": "markdown",
   "metadata": {},
   "source": [
    "# How does it work?\n",
    "1. Define placeholders where you'll send inputs\n",
    "2. Make symbolic graph: a recipe for mathematical transformation of those placeholders\n",
    "3. Compute outputs of your graph with particular values for each placeholder\n",
    "  * `output.eval({placeholder:value})`\n",
    "  * `s.run(output, {placeholder:value})`\n",
    "\n",
    "So far there are two main entities: \"placeholder\" and \"transformation\"\n",
    "* Both can be numbers, vectors, matrices, tensors, etc.\n",
    "* Both can be int32/64, floats, booleans (uint8) of various size.\n",
    "\n",
    "* You can define new transformations as an arbitrary operation on placeholders and other transformations\n",
    " * `tf.reduce_sum(tf.arange(N)**2)` are 3 sequential transformations of placeholder `N`\n",
    " * There's a tensorflow symbolic version for every numpy function\n",
    "   * `a+b, a/b, a**b, ...` behave just like in numpy\n",
    "   * `np.mean` -> `tf.reduce_mean`\n",
    "   * `np.arange` -> `tf.range`\n",
    "   * `np.cumsum` -> `tf.cumsum`\n",
    "   * If if you can't find the op you need, see the [docs](https://www.tensorflow.org/api_docs/python).\n",
    "   \n",
    "`tf.contrib` has many high-level features, may be worth a look."
   ]
  },
  {
   "cell_type": "code",
   "execution_count": 13,
   "metadata": {},
   "outputs": [],
   "source": [
    "with tf.name_scope(\"Placeholders_examples\"):\n",
    "    # Default placeholder that can be arbitrary float32\n",
    "    # scalar, vertor, matrix, etc.\n",
    "    arbitrary_input = tf.placeholder('float32')\n",
    "\n",
    "    # Input vector of arbitrary length\n",
    "    input_vector = tf.placeholder('float32', shape=(None,))\n",
    "\n",
    "    # Input vector that _must_ have 10 elements and integer type\n",
    "    fixed_vector = tf.placeholder('int32', shape=(10,))\n",
    "\n",
    "    # Matrix of arbitrary n_rows and 15 columns\n",
    "    # (e.g. a minibatch your data table)\n",
    "    input_matrix = tf.placeholder('float32', shape=(None, 15))\n",
    "    \n",
    "    # You can generally use None whenever you don't need a specific shape\n",
    "    input1 = tf.placeholder('float64', shape=(None, 100, None))\n",
    "    input2 = tf.placeholder('int32', shape=(None, None, 3, 224, 224))\n",
    "\n",
    "    # elementwise multiplication\n",
    "    double_the_vector = input_vector*2\n",
    "\n",
    "    # elementwise cosine\n",
    "    elementwise_cosine = tf.cos(input_vector)\n",
    "\n",
    "    # difference between squared vector and vector itself plus one\n",
    "    vector_squares = input_vector**2 - input_vector + 1"
   ]
  },
  {
   "cell_type": "code",
   "execution_count": 14,
   "metadata": {},
   "outputs": [],
   "source": [
    "my_vector =  tf.placeholder('float32', shape=(None,), name=\"VECTOR_1\")\n",
    "my_vector2 = tf.placeholder('float32', shape=(None,))\n",
    "my_transformation = my_vector * my_vector2 / (tf.sin(my_vector) + 1)"
   ]
  },
  {
   "cell_type": "code",
   "execution_count": 15,
   "metadata": {},
   "outputs": [
    {
     "name": "stdout",
     "output_type": "stream",
     "text": [
      "Tensor(\"truediv:0\", shape=(?,), dtype=float32)\n"
     ]
    }
   ],
   "source": [
    "print(my_transformation)"
   ]
  },
  {
   "cell_type": "code",
   "execution_count": 16,
   "metadata": {},
   "outputs": [
    {
     "name": "stdout",
     "output_type": "stream",
     "text": [
      "[0. 1. 2. 3. 4.]\n"
     ]
    },
    {
     "data": {
      "text/plain": [
       "array([0.       , 1.6291324, 2.0950115, 2.6289961, 0.       ],\n",
       "      dtype=float32)"
      ]
     },
     "execution_count": 16,
     "metadata": {},
     "output_type": "execute_result"
    }
   ],
   "source": [
    "dummy = np.arange(5).astype('float32')\n",
    "print(dummy)\n",
    "my_transformation.eval({my_vector:dummy, my_vector2:dummy[::-1]})"
   ]
  },
  {
   "cell_type": "code",
   "execution_count": 17,
   "metadata": {},
   "outputs": [],
   "source": [
    "writer.add_graph(my_transformation.graph)\n",
    "writer.flush()"
   ]
  },
  {
   "cell_type": "markdown",
   "metadata": {},
   "source": [
    "TensorBoard allows writing scalars, images, audio, histogram. You can read more on tensorboard usage [here](https://www.tensorflow.org/get_started/graph_viz)."
   ]
  },
  {
   "cell_type": "markdown",
   "metadata": {},
   "source": [
    "# Summary\n",
    "* Tensorflow is based on computation graphs\n",
    "* The graphs consist of placehlders and transformations"
   ]
  },
  {
   "cell_type": "markdown",
   "metadata": {},
   "source": [
    "# Mean squared error\n",
    "\n",
    "Your assignment is to implement mean squared error in tensorflow."
   ]
  },
  {
   "cell_type": "code",
   "execution_count": 18,
   "metadata": {},
   "outputs": [],
   "source": [
    "with tf.name_scope(\"MSE\"):\n",
    "    y_true = tf.placeholder(\"float32\", shape=(None,), name=\"y_true\")\n",
    "    y_predicted = tf.placeholder(\"float32\", shape=(None,), name=\"y_predicted\")\n",
    "    # Your code goes here\n",
    "    # You want to use tf.reduce_mean\n",
    "    mse = tf.reduce_mean((y_true - y_predicted)**2)\n",
    "def compute_mse(vector1, vector2):\n",
    "    return mse.eval({y_true: vector1, y_predicted: vector2})"
   ]
  },
  {
   "cell_type": "code",
   "execution_count": 19,
   "metadata": {},
   "outputs": [],
   "source": [
    "writer.add_graph(mse.graph)\n",
    "writer.flush()"
   ]
  },
  {
   "cell_type": "markdown",
   "metadata": {},
   "source": [
    "Tests and result submission. Please use the credentials obtained from the Coursera assignment page."
   ]
  },
  {
   "cell_type": "code",
   "execution_count": 21,
   "metadata": {},
   "outputs": [],
   "source": [
    "import submit"
   ]
  },
  {
   "cell_type": "code",
   "execution_count": 22,
   "metadata": {},
   "outputs": [
    {
     "name": "stdout",
     "output_type": "stream",
     "text": [
      "You used a token for \"MNIST digits classification with TF\" in \"Introduction to Deep Learning\". Please use a token for the assignment you are submitting.\n"
     ]
    }
   ],
   "source": [
    "submit.submit_mse(compute_mse, \"belitre@gmail.com\", \"DC0i8qeNASJIbMKh\")"
   ]
  },
  {
   "cell_type": "markdown",
   "metadata": {},
   "source": [
    "# Variables\n",
    "\n",
    "The inputs and transformations have no value outside function call. This isn't too comfortable if you want your model to have parameters (e.g. network weights) that are always present, but can change their value over time.\n",
    "\n",
    "Tensorflow solves this with `tf.Variable` objects.\n",
    "* You can assign variable a value at any time in your graph\n",
    "* Unlike placeholders, there's no need to explicitly pass values to variables when `s.run(...)`-ing\n",
    "* You can use variables the same way you use transformations \n",
    " "
   ]
  },
  {
   "cell_type": "code",
   "execution_count": 23,
   "metadata": {},
   "outputs": [],
   "source": [
    "# Creating a shared variable\n",
    "shared_vector_1 = tf.Variable(initial_value=np.ones(5),\n",
    "                              name=\"example_variable\")"
   ]
  },
  {
   "cell_type": "code",
   "execution_count": 24,
   "metadata": {},
   "outputs": [
    {
     "name": "stdout",
     "output_type": "stream",
     "text": [
      "Initial value [1. 1. 1. 1. 1.]\n"
     ]
    }
   ],
   "source": [
    "# Initialize variable(s) with initial values\n",
    "s.run(tf.global_variables_initializer())\n",
    "\n",
    "# Evaluating shared variable (outside symbolicd graph)\n",
    "print(\"Initial value\", s.run(shared_vector_1))\n",
    "\n",
    "# Within symbolic graph you use them just\n",
    "# as any other inout or transformation, not \"get value\" needed"
   ]
  },
  {
   "cell_type": "code",
   "execution_count": 25,
   "metadata": {},
   "outputs": [
    {
     "name": "stdout",
     "output_type": "stream",
     "text": [
      "New value [0. 1. 2. 3. 4.]\n"
     ]
    }
   ],
   "source": [
    "# Setting a new value\n",
    "s.run(shared_vector_1.assign(np.arange(5)))\n",
    "\n",
    "# Getting that new value\n",
    "print(\"New value\", s.run(shared_vector_1))"
   ]
  },
  {
   "cell_type": "markdown",
   "metadata": {},
   "source": [
    "# tf.gradients - why graphs matter\n",
    "* Tensorflow can compute derivatives and gradients automatically using the computation graph\n",
    "* True to its name it can manage matrix derivatives\n",
    "* Gradients are computed as a product of elementary derivatives via the chain rule:\n",
    "\n",
    "$$ {\\partial f(g(x)) \\over \\partial x} = {\\partial f(g(x)) \\over \\partial g(x)}\\cdot {\\partial g(x) \\over \\partial x} $$\n",
    "\n",
    "It can get you the derivative of any graph as long as it knows how to differentiate elementary operations"
   ]
  },
  {
   "cell_type": "code",
   "execution_count": 26,
   "metadata": {},
   "outputs": [],
   "source": [
    "my_scalar = tf.placeholder('float32')\n",
    "\n",
    "scalar_squared = my_scalar**2\n",
    "\n",
    "# A derivative of scalar_squared by my_scalar\n",
    "derivative = tf.gradients(scalar_squared, [my_scalar, ])"
   ]
  },
  {
   "cell_type": "code",
   "execution_count": 27,
   "metadata": {},
   "outputs": [
    {
     "data": {
      "text/plain": [
       "[<tf.Tensor 'gradients/pow_1_grad/Reshape:0' shape=<unknown> dtype=float32>]"
      ]
     },
     "execution_count": 27,
     "metadata": {},
     "output_type": "execute_result"
    }
   ],
   "source": [
    "derivative"
   ]
  },
  {
   "cell_type": "code",
   "execution_count": 28,
   "metadata": {},
   "outputs": [
    {
     "data": {
      "image/png": "[encoded data removed]",
      "text/plain": [
       "<Figure size 432x288 with 1 Axes>"
      ]
     },
     "metadata": {
      "needs_background": "light"
     },
     "output_type": "display_data"
    }
   ],
   "source": [
    "import matplotlib.pyplot as plt\n",
    "%matplotlib inline\n",
    "\n",
    "x = np.linspace(-3, 3)\n",
    "x_squared, x_squared_der = s.run([scalar_squared, derivative[0]],\n",
    "                                 {my_scalar:x})\n",
    "\n",
    "plt.plot(x, x_squared,label=\"$x^2$\")\n",
    "plt.plot(x, x_squared_der, label=r\"$\\frac{dx^2}{dx}$\")\n",
    "plt.legend();"
   ]
  },
  {
   "cell_type": "markdown",
   "metadata": {},
   "source": [
    "# Why that rocks"
   ]
  },
  {
   "cell_type": "code",
   "execution_count": 29,
   "metadata": {},
   "outputs": [],
   "source": [
    "my_vector = tf.placeholder('float32', [None])\n",
    "# Compute the gradient of the next weird function over my_scalar and my_vector\n",
    "# Warning! Trying to understand the meaning of that function may result in permanent brain damage\n",
    "weird_psychotic_function = tf.reduce_mean(\n",
    "    (my_vector+my_scalar)**(1+tf.nn.moments(my_vector,[0])[1]) + \n",
    "    1./ tf.atan(my_scalar))/(my_scalar**2 + 1) + 0.01*tf.sin(\n",
    "    2*my_scalar**1.5)*(tf.reduce_sum(my_vector)* my_scalar**2\n",
    "                      )*tf.exp((my_scalar-4)**2)/(\n",
    "    1+tf.exp((my_scalar-4)**2))*(1.-(tf.exp(-(my_scalar-4)**2)\n",
    "                                    )/(1+tf.exp(-(my_scalar-4)**2)))**2\n",
    "\n",
    "der_by_scalar = tf.gradients(weird_psychotic_function, my_scalar)\n",
    "der_by_vector = tf.gradients(weird_psychotic_function, my_vector)"
   ]
  },
  {
   "cell_type": "code",
   "execution_count": 30,
   "metadata": {},
   "outputs": [
    {
     "data": {
      "image/png": "[encoded data removed]",
      "text/plain": [
       "<Figure size 432x288 with 1 Axes>"
      ]
     },
     "metadata": {
      "needs_background": "light"
     },
     "output_type": "display_data"
    }
   ],
   "source": [
    "# Plotting the derivative\n",
    "scalar_space = np.linspace(1, 7, 100)\n",
    "\n",
    "y = [s.run(weird_psychotic_function, {my_scalar:x, my_vector:[1, 2, 3]})\n",
    "     for x in scalar_space]\n",
    "\n",
    "plt.plot(scalar_space, y, label='function')\n",
    "\n",
    "y_der_by_scalar = [s.run(der_by_scalar,\n",
    "                         {my_scalar:x, my_vector:[1, 2, 3]})\n",
    "                   for x in scalar_space]\n",
    "\n",
    "plt.plot(scalar_space, y_der_by_scalar, label='derivative')\n",
    "plt.grid()\n",
    "plt.legend();"
   ]
  },
  {
   "cell_type": "markdown",
   "metadata": {},
   "source": [
    "# Almost done - optimizers\n",
    "\n",
    "While you can perform gradient descent by hand with automatic grads from above, tensorflow also has some optimization methods implemented for you. Recall momentum & rmsprop?"
   ]
  },
  {
   "cell_type": "code",
   "execution_count": 31,
   "metadata": {},
   "outputs": [],
   "source": [
    "y_guess = tf.Variable(np.zeros(2, dtype='float32'))\n",
    "y_true = tf.range(1, 3, dtype='float32')\n",
    "loss = tf.reduce_mean((y_guess - y_true + tf.random_normal([2]))**2) \n",
    "#loss = tf.reduce_mean((y_guess - y_true)**2) \n",
    "optimizer = tf.train.MomentumOptimizer(0.01, 0.5).minimize(\n",
    "    loss, var_list=y_guess)"
   ]
  },
  {
   "cell_type": "code",
   "execution_count": 32,
   "metadata": {},
   "outputs": [
    {
     "data": {
      "image/png": "[encoded data removed]",
      "text/plain": [
       "<Figure size 432x288 with 1 Axes>"
      ]
     },
     "metadata": {
      "needs_background": "light"
     },
     "output_type": "display_data"
    }
   ],
   "source": [
    "from matplotlib import animation, rc\n",
    "import matplotlib_utils\n",
    "from IPython.display import HTML, display_html\n",
    "\n",
    "fig, ax = plt.subplots()\n",
    "y_true_value = s.run(y_true)\n",
    "level_x = np.arange(0, 2, 0.02)\n",
    "level_y = np.arange(0, 3, 0.02)\n",
    "X, Y = np.meshgrid(level_x, level_y)\n",
    "Z = (X - y_true_value[0])**2 + (Y - y_true_value[1])**2\n",
    "ax.set_xlim(-0.02, 2)\n",
    "ax.set_ylim(-0.02, 3)\n",
    "s.run(tf.global_variables_initializer())\n",
    "ax.scatter(*s.run(y_true), c='red')\n",
    "contour = ax.contour(X, Y, Z, 10)\n",
    "ax.clabel(contour, inline=1, fontsize=10)\n",
    "line, = ax.plot([], [], lw=2)\n",
    "\n",
    "def init():\n",
    "    line.set_data([], [])\n",
    "    return (line,)\n",
    "\n",
    "guesses = [s.run(y_guess)]\n",
    "\n",
    "def animate(i):\n",
    "    s.run(optimizer)\n",
    "    guesses.append(s.run(y_guess))\n",
    "    line.set_data(*zip(*guesses))\n",
    "    return (line,)\n",
    "\n",
    "anim = animation.FuncAnimation(fig, animate, init_func=init,\n",
    "                               frames=400, interval=20, blit=True)"
   ]
  },
  {
   "cell_type": "code",
   "execution_count": 33,
   "metadata": {},
   "outputs": [
    {
     "data": {
      "text/html": [
       "<img src=\"data:image/jpeg;base64,/9j/4AAQSkZJRgABAQEASABIAAD/2wBDAAIBAQEBAQIBAQECAgICAgQDAgICAgUEBAMEBgUGBgYFBgYGBwkIBgcJBwYGCAsICQoKCgoKBggLDAsKDAkKCgr/2wBDAQICAgICAgUDAwUKBwYHCgoKCgoKCgoKCgoKCgoKCgoKCgoKCgoKCgoKCgoKCgoKCgoKCgoKCgoKCgoKCgoKCgr/wAARCAEgAbADASIAAhEBAxEB/8QAHwAAAQUBAQEBAQEAAAAAAAAAAAECAwQFBgcICQoL/8QAtRAAAgEDAwIEAwUFBAQAAAF9AQIDAAQRBRIhMUEGE1FhByJxFDKBkaEII0KxwRVS0fAkM2JyggkKFhcYGRolJicoKSo0NTY3ODk6Q0RFRkdISUpTVFVWV1hZWmNkZWZnaGlqc3R1dnd4eXqDhIWGh4iJipKTlJWWl5iZmqKjpKWmp6ipqrKztLW2t7i5usLDxMXGx8jJytLT1NXW19jZ2uHi4%2BTl5ufo6erx8vP09fb3%2BPn6/8QAHwEAAwEBAQEBAQEBAQAAAAAAAAECAwQFBgcICQoL/8QAtREAAgECBAQDBAcFBAQAAQJ3AAECAxEEBSExBhJBUQdhcRMiMoEIFEKRobHBCSMzUvAVYnLRChYkNOEl8RcYGRomJygpKjU2Nzg5OkNERUZHSElKU1RVVldYWVpjZGVmZ2hpanN0dXZ3eHl6goOEhYaHiImKkpOUlZaXmJmaoqOkpaanqKmqsrO0tba3uLm6wsPExcbHyMnK0tPU1dbX2Nna4uPk5ebn6Onq8vP09fb3%2BPn6/9oADAMBAAIRAxEAPwD9/KKKKACiiigAooooAKKKKACiiigAooooAKKKKACiiigAooooAKKKKACiiigAooooAKKKKACiiigAooooAKKKKACiiigAooooAKKKKACiiigAooooAKKKKACiiigAooooAKKKKACiiigAooooAKKKKACiiigAorj/AAR%2B0J8A/iZ431n4Z/Dj44eD/EHiTw5JJH4h8P6J4ltbu%2B0t0kMTrcQRSNJAVkBQh1GGG088VZsPjb8GNV%2BKV78DdL%2BLvhi58babZLeaj4Pt9ftn1S1tiEImktA/nJGRJHh2UA7155FAHT0UUUAFFFFABRRRQAUUUUAFFFFABRRRQAUUUUAFFFFABRRRQAUUUUAFFFFABRRRQAUUUUAFFFFABRRRQAUUUUAFFFFABRRRQAUUUUAFFFFABRRRQAUUUUAFFFFABRRRQAUUUUAFFFFAHyM/iK78Sf8ABRXRvjLpWnfFnWdA8OeFNe0jVrLxH8LL/T9N8KS3FxpcStpco06CXVDdy2xaQ%2BZfIiIZkktohiTl/hp4A%2BIMH7T3hD4cXHwo8UW%2Bu%2BFP2lfG3jrxN4xuPDN1HpV34c1HS9bisfL1Joxb3UhGpaTam1SRpU%2BwMzIqwIT9w0UAeIftr%2BO/2nfhZ4W0Xxt8A/H3gPTba58X%2BHPD%2BoWPi/wHe6rI76rrtjpf2iOW21WzEYiS8MnllH3mMDegORZ/4Qf/AIKF/wDR0HwZ/wDDD6t/81FH7eH/ACRDQ/8Ass3w4/8AU10SvZqAPGf%2BEH/4KF/9HQfBn/ww%2Brf/ADUVW1nw/wDt5%2BHdJudf8Qfta/BCxsbKB57y9vPgdqkUMESgszu7eKQqqACSSQABXcfDv44aZ4/%2BIHiT4bXHg3W9B1Pw8Y5Ej1yKGP8AtK0eSWJby3EcrloTLBKmWCtwpKgOpPhvi/wz8YPD%2Bk%2BJvh98adGvtX034g%2BJ5fDdp4xl8YvPcKl48hsZIdLSFYbaCFmSJzGwlIUzMCqk11UsK5z5Zu22nVp9tbbXf9M5qmIUY80Vff5Nd/noZXiP44ft26nB4ZT4CftJ/AXxzc%2BKLy9islj%2BE2qWcIFpD506%2BYfEkn77btCxFQW3biVQMw7f4V6h%2B3f8W/AVh4%2B8P/tNfCCGC9Eiy2t18BNWWa1nikaKaCQf8JTw8csckbD1Q1l%2BGvg78WfjB8SLnxh4q8G6n4B1fS7HS7p9dZraWG48RWryI9xbxxSnzraS1lkicsIyyXDJ95cp7f8ABn4Z3Hwq8HSaFqXiIavqN7ql5qeraklkLZLi6uZ2mkKRBm8tAW2qu5iAoyzHJOmJp4anTUYv3vv3v1Wm1trPy10ihPEVJ3kvd%2B7t317/ANLXwfwSn/BYzxD8TtX0bxZ4s%2BAvh/whYTzQ6br8/wAONUub7U9rYjmSzi8QlYo3AJ/eThxkfJ1x33/CD/8ABQv/AKOg%2BDP/AIYfVv8A5qK9morknJTd0kvS/wCrZ1Qi4qzd/X/gWPGf%2BEH/AOChf/R0HwZ/8MPq3/zUUf8ACD/8FC/%2BjoPgz/4YfVv/AJqK9mrF8e/En4d/Cvw/J4r%2BJ3jzRvDulxf6zUdc1OK0gXvy8rKv61MYyk7RV2VseZ/8IP8A8FC/%2BjoPgz/4YfVv/moo/wCEH/4KF/8AR0HwZ/8ADD6t/wDNRXNTf8FLfg/4wnfTv2Zvhp4/%2BL9yrmP7R4F8Ky/2akmcAPqN2YLUL/tLI30OKaPFH/BUD4q86B8Lvhh8JLCT5Wl8Ua1ceJNUjH94Q2Ygtlb2MzjPr1rs/s/ER/i2h/iaT%2B7WX/kpHPHpqdP/AMIP/wAFC/8Ao6D4M/8Ahh9W/wDmorM8Vp%2B2x4E006z44/bO%2BA2jWa/eu9V%2BC2pW8Q/4FJ4qA/Ws0fsP/GTx3%2B9/aB/b/wDijrmfvad4Ke18LWTL3UiyjNwR9ZycHkmtTwr/AMEyf2FPC2pDXbj9nPRfEGo8F9S8aSTa7cO3XcX1CSY5zzxjHbFHssDD46rl/hj%2BsmvyC83sjxjxR/wUC1XwtqJ0c/8ABTv9njWL0ZH2Lwn8CNc1uYn0Caf4lmJPbGKzf%2BG2/wBvbXv%2BSX%2BH9S8VI/8AqLu1/ZA1rTraX0Il1LxbbDb78/Svt7wv4N8IeCNOGj%2BC/Cum6RaL9210uxjt4x/wGMAVpUe1wEfhpt%2BsrfhGP6hafc%2BEY/i//wAF99ecN4V/Z7%2BEVpC5%2BSbxd4fayOPUpa%2BJrth9CM13Xwysv%2BC5uu%2BIbX/hbHjH9ljw7oz7vtkmk%2BDvEWpXsfyHbtibU4I2%2BbaD%2B9GASeSAD9aUVE8RSlG0aUV/4E3%2BMv0GovueM/8ACD/8FC/%2BjoPgz/4YfVv/AJqKP%2BEH/wCChf8A0dB8Gf8Aww%2Brf/NRXs1FcpR4z/wg/wDwUL/6Og%2BDP/hh9W/%2Baij/AIQf/goX/wBHQfBn/wAMPq3/AM1FezUUAeM/8IP/AMFC/wDo6D4M/wDhh9W/%2Baij/hB/%2BChf/R0HwZ/8MPq3/wA1FezUUAeM/wDCD/8ABQv/AKOg%2BDP/AIYfVv8A5qKP%2BEH/AOChfb9qD4M/%2BGH1b/5qK9mooA%2BLPEN9/wAHB%2Bg7pNMtf2TNdQfdSw0nxFBIR7ie%2BVQf%2BBGsP/hfn/Bcjw3%2B%2B%2BIv7OngkW6/fn8G%2BAI9XP8AwGN/F9vIf%2B%2BRX3fRXZHE0bWlRi//AAJflJ/kTyvufLfwG%2BIX/BQn466bqN8/jvwv4Ll02dIpbLx5%2BzJq%2BnyzFgTuhI8WOkyjGCyMQCQK0/iJrv8AwUC8A%2BKfBvg6P9oH4N6he%2BMvEL6ZbAfBXVYRaxx2VzdzXLZ8St5gVLfbs%2BXLSL8wr6Rrzvx3%2BzjoXjf4vaH8bU%2BIfizS9Z8PwTRWFvYaur2BWWJo5C1pcJJCGKnl0VX%2BUfN1zFOWHddyatGzstZa2duz31v0B81jwf49fGX/AIKG/BrUbzTdF%2BLnwi8RPoXhyTxH4seH4MalbLpWkoXDT5fxOfOlPlTFYVALCJuRxnUs/jP%2B1jf/ABOg%2BFFv%2B1f8KjqFxdiyivT%2BzfrosTf/AGUXf2H7T/wk3li5%2BznzfK3btobupA7r4t/sr%2BNviH4nvLjSvijaWuk%2BKdBsNI8dJdaMXvLu3tZpJN1tIkiRxGZZGidWjZQrFlw2c8F4g/Z9/aOhi13w14b8M2VtZ6DrHiLxP4b1qLV1MmsahPE66ZbiMDdCY1kKSyPwSilAQ5CddOjgalJJySdu9t%2B9%2Bz6Lpq/KW5pnTeCtd/a8%2BJFzqNl8Pf25P2fddm0i5%2Bz6tDpHwc1G4eyl5%2BSVY/FRMbHBwGxnHFb/APwg/wDwUL/6Og%2BDP/hh9W/%2BaisT9kfwhdnxbD4q0HwVrfh3wz4e%2BHWkeEtMtvEGjS6ddXslsDK7mCZVkVIjIY1ZgAzPKVLKQx7P4jftmfsv/B/4oQfB34tfGXSfC%2BvXVpHc2kXiFns7adHLBQl1KqwM%2BVOUEm4ZGQNwzzVcLL27p0U5WV9rvz2v/wAC/kUpaXZj/wDCD/8ABQv/AKOg%2BDP/AIYfVv8A5qKP%2BEH/AOChf/R0HwZ/8MPq3/zUV6/pmp6brWnw6to2owXdrcRh7e5tplkjlU9GVlJDD3FT1ybFHjP/AAg//BQv/o6D4M/%2BGH1b/wCaiuB8CL/wWM1H4n6p4Q%2BJHiz4C6T4eggkm0fxdo/w41S%2Bju8SqqQyWz%2BIYZYZSjFzgPGNjDefl3fUlFXGSimmk7%2Bunpr%2BdyZRbaadrfj6/wBI%2Bavjnr//AAUO%2BDHw7uPGdn8ePgvruoPdW9jo%2Bh/8Ka1a0bUL24lWGCBZP%2BEjl2lpHUE7DhdzHABq78QvEH7YXwj0i0134q/tsfATw9aXt7HZwXeq/BTVIYWnfO1N7%2BKQBnB5OBx2r0H4p/AbVPH/AMTPDHxT0v4l6jaS%2BFrs3Vv4avYY7nSLubyLiFZni2rIkyi4YrIkgAwCVYgY4f8AaVh%2BI%2Bv%2BJfDa%2BGPhb4qbxboV5BJ4d1jS3gm0G4%2B0iO3vo7sSFikSwyT5MkSOVGYWLnaOqlSoVVCF%2B7b2a7LXS3nru9NDmqVKtNzlbtbqvN6dfLy3NW08I/8ABQC/tYr6x/ap%2BCs0E0ayQzRfArVWSRCMhlI8U4IIOQRUn/CD/wDBQv8A6Og%2BDP8A4YfVv/morzrU/jFrfh/X9L%2BLMPxJutD8OQeLNQs9P8I2VrClhD4b0sTxX91NCE37y8DurgjaEQJwxDewfBj46eLfiH4pn8IePvhd/wAItfP4dstd060bV/tMxtLhpECXCeUnkTo8ZVkBkXkYckMBNXB1acObdfl/na%2BttCqeKpzly9f6%2B75nE6l4x/bN%2BEvxp%2BFXhr4o/Fv4YeJfD/jzxrd6DqdpoHwu1HSLy3Efh/V9TjmiuJtcu0B83To0ZWhOVkbBUgGvoGvGf2oP%2BS3/ALOP/ZZr7/1CvFFezVyHSFFFFABRRRQAUUUUAFFFFABRRRQB4z%2B3h/yRDQ/%2ByzfDj/1NdErqPAf7R/w6%2BJ3xY8Q/CLwLDq%2BoXPhUNHr2sx6RKumW12rhWshcsAklwu7cUTdtAOSCMVy/7eH/ACRDQ/8Ass3w4/8AU10SvZURIxhECgkkgDHJ5Jq4uCT5ld9Ndv8AP8CZKbas7Lr/AF0PMfi18Ivib4u%2BM3g/4k/DTxfpHh3%2BxLO8tNc1G5sXu7m%2Bs5zExs0i3JGo3xLIJnZtjIMRsGbPU2nwh8AJ4msPHeseH7fVvEWm2rW9n4h1W3jlvIUZmLBH2gR53EHYFyMA8AV01FU69RxUb7K2nbze73JVKCk3bd3Cq%2BravpWgaXca5rup29lZWkLTXd5dzLHFBGoyzu7EBVABJJOABVTxoPGTeFNQX4eyaamuG2YaW%2BsRyParNj5TKsbK7L6hWBPTI614y2s%2BJ/2lP2VPGfw0%2BIF7pWl%2BNNJe70DxL8hhsRqMJV4ZQsjMUtrmNreZRuYiO427iy5qqVH2i5m9LpPur9bdv1Lbsbvj/wDav0i0tfDz/Ajw/afEeXxFa6heWR0PxBAkElvZQpJMscwDpJO3mxLHD8u7cxLKqMa8il/aP8Z33ibxj8cPD/xU1OS08PXWmX9h4Ku1t0sb7wxP5MUrohjEq3iXSXsbSF2CuqKTsZVF/wAJ/CL4i/Fv41a74%2B0vwhrfw3vraKw1KS%2B1TTkeD/hJIna3uWhRZALy1uLOKBJWUoDtjKvvLhfV/Af7Jnwv0nwjouk/FHwxoPjHV9G1W81O31fUPD8YW3urm7kupPs8UjSmCJZJP3ce99gRMElAR6V8DhI2au9L7N66%2Bceyumn1M/fkd/418O3fjDwbqnhaw8Ualoc%2BpafLbQ6zpDot3Ys6FRNCZEZRIpO5dysMgZB6V494B/4Jxfso%2BD/EEfjnxZ4HuviB4oTlvFXxN1OXXr4t2ZTdFo4SO3lIgHYV7rRXmU8TiKMHGnJpPe2l/mtfle3kaOMW7sZBBBawJbW0KRxxqFjjjUBVUcAADoKfRRWIwoorD%2BIHxO%2BG3wm8PyeLPin8QdE8NaVF/rNS1/VYbO3XvzJKyqPzpxjKTtFXYJN7G5RXzRd/8FWv2ZPEN1Jpf7PPh/x98Yr2Jykkfws8D3eo2yMOPmvZFiswM9/OwKYPjx/wU0%2BJv7v4YfsM%2BE/Als/zQ6p8WPiSkku3sTZaTDcFTj%2BEzA9jjrXZ/Z%2BKX8RKH%2BJqP4N3/wDJTT2U1vp66f19x9NUV8zD4Cf8FOPHv%2Bk%2BP/2%2BfCng1H4k034afCeGTaO4W51W4uD%2BPlD1pf8Ah2wPEH7z4q/t1ftDeJy/Nxb/APCyDpNtJ6jytLhtsL7Emj6tho/HWXyUpfpFByQW8vzf%2BR9Lsyopd2AAGSSeAK5fxD8c/gn4SZl8V/GHwtphX7w1DxDbQ4%2Bu9xXiSf8ABIL/AIJ7XLCXxT8C7nxLLnLzeLvGWr6sXPqRd3ci/kMV1Ph7/gmr/wAE9fC6qNI/Yj%2BFYZfuyXPgWxncf8CliZv1o5cuX25v0jFfnJhaiur%2B5f5mvqX7d/7D2jMV1j9sv4U2hHUXPxE0xMf99TisqX/gpL/wTzhba/7c3wjOP7nxE01v5TV1em/sm/sr6MoXR/2aPh/aAdBbeDLGPH/fMQrUi%2BA3wNgXbB8GPCaD0Tw7bD/2Si%2BW9p/fD/IP3Pn%2BBwdv/wAFH/8AgnvdNti/bm%2BEOT0D/EfTF/nOK2tJ/bY/Y015gmh/tb/DG9J6C08e6dJn/vmY10Fx%2Bz/8Brxdl38EvCMoPUSeG7Vv5x1iar%2Bxt%2ByDrqldc/ZU%2BG14G%2B8LvwNp8mf%2B%2BoTR/wAJvaf/AJJ/kH7nz/A63w58Tfhv4xIXwj8QdD1Ut90abq0M%2Bf8AvhjW5XgniP8A4JZ/8E4vFII1P9iP4aRbup03wnbWZ/O3VMVhn/gkf%2BxLpn774feFfGHg24H%2BrufBvxP13TjH/upHeeWP%2B%2BaOTLpbTkvWKf5SQWpPq/u/4J9L0V8z/wDDvn4n%2BFB9o%2BD3/BSL48aLOv8AqovEet2HiK2X6pqNpJI34yUn/Ctv%2BCsPw7/5FP8Aad%2BEfxHh6%2BT46%2BH93olwR6efptzJGD/teRj/AGaPqtCXwVo/NSj%2Baa/EOSL2kvxR9M0V8yn9rn9t/wCGf/Jd/wDgm/repWcPE2tfCHxpY66r/wC0tndfY7kD2CufqeK0/B3/AAVO/Ym8Qa9F4M8a/FSf4eeIZTg%2BHvinol14bulbptBv4443OcD5Hbk4pPL8Xa8Y8y/utS/9Jbf4B7Kp0V/TX8j6HoqvpWraXrunQ6vompW95aXEYe3urWZZI5VPRlZSQw9xViuPYzCs7xV4Q8J%2BOtEm8M%2BNvDGnaxptwMXGn6rZR3EEo9GjkBVvxFaNFNNxd0B866l/wTS%2BCnhjUJ/Ev7MHjHxb8GdXmkMrv8PdaaLTppOo87TJxJZyKD/CIl%2Boqu3jD/go1%2Bz3/wAjz8P/AA38cvDsP39W8GFdC8QpGOS72Fw7Wty2OiwzRE9l7H6SorsWPrT0rJVF/e1f/gStL8WRyJbaHkXwQ/bk/Zz%2BO/iBvAGheLp9C8YwD/TPAnjKwk0nWrc9SPstwFaUDu0W9P8Aar12uI%2BOH7NnwJ/aS8Pr4Z%2BOHwu0nxFbwndaS3tvi4s3/vwToRLbv/tRsre9ePP8F/20/wBlb/Tv2b/ie/xY8Iwct8OviZqezVbeMfwWGs4yx6BY7tXAAx5g60/ZYTEfwpcku0tvlL/5JL1C8o76n0xRXkfwB/bR%2BEHx51%2B4%2BHBTU/CXj3Tot%2BrfDzxlZ/YdWth3kSNiVuYeMiaBpEIIORnFeuVy1aNWhPkqKz/r715pteZSaaujzjx5%2Byx8HfF/hzxbpui%2BDNK0HU/GNvt1fXNM0mETzShxIskmVxL%2B8VWZWyJMYbOa0vhN8IrzwDqWs%2BMvFvi9/EPifxC0A1fWDZi2jMUAcQW8MIZvKiTzJWClmJaVyWJNdrRVOvWcHBy0/rrvbRaeSM1RpKfMlr/X%2Bb%2B88Y/adYv8bf2ciUK/8Xnvxg%2B3grxRzXs9eM/tQf8AJb/2cf8Ass19/wCoV4or2asTUKKKKACiiigAooooAKKKKAPB/Cnxm/aC0P8AbPt/2dPiF4g8D%2BJNL1nwjqviJYvCvhy8sb7wrbQXttBYrfSzXtxHdC6E1wqOsdqS9jMUSRVkMWF8LP2p/i7rv7aXir4G/FjxNonhnRbfxPc6b4A0C/8AhPrdpc%2BJ7aLS7e7Nxa69PdjT7uRXa7LW8EDSCO1ckAIzjovhN%2BxLefBz4heN/iN4c/ay%2BJt3dePtcn1XW4NWtvDs4Wd2QRLHN/ZAuPKt4UW3hieV0ji4Clvnrfvv2WoPEXxy0X41%2BPfjf418RQ%2BFtaudX8I%2BDtSOmR6Tot9NZ3Fk08X2ayiupittd3UaC5uJlUTsQNyoygHGf8FC/i58KPDXg/wZ8KPEfxO8Paf4p8QfGH4ey6D4avdagi1DUkj8Z6M0jW9uziSYKqsWKKQApJxg19D14z%2B3h/yRDQ/%2ByzfDj/1NdEr2agArjfjr8fvhP%2Bzd4Cm%2BI/xg8WRaXp6SrBbRhGkuL64biO2t4UBeeZzwsaAk8noCRkftOftM%2BEP2ZvBVtrWraVea5r%2Bt3o07wd4P0gBr/XtQYfJbwr2A%2B88h%2BWNAWbsDxH7P/wCyl4v1Lx7B%2B1R%2B2Lqdn4j%2BJjxMND0m2JfSPBNu/W109G4aYjAlu2/eSEYUqnDdlHDwVP21d2j0S3k%2By7JdZPRbK70UuTvZbnoH7OfxL%2BLnxb8G3Xjj4q/BSbwHHeagzeHdE1LUVm1E6fsTy5b2NF2W07NvJhDOUBUMdwNJo/7Mvwu034xa38dtRt7/AFXxDrghSWTVL9pLa1iiVViSG2XbCpXbkSlGl5IMhHFeg0Vi60lOTp%2B6npZX27a69Pn%2BA7aahRRRWIwoorxH9o79uTwJ8E/F1v8ABP4feEtU%2BJHxU1K383Svhx4TKNdJGcYub2Zj5WnWuSMzTkcH5VfGK1o0atefJTV3/WreyXdtpFRjKTsj2ySSOGNpppFREUlmY4AA6kmvnTxx/wAFLfhDP4pu/hf%2By34N8Q/G/wAYWknlXWl/Di3SbT9Pl7C91WVlsrUZ4IMjOpHKVh2v7E3xx/arkXxJ/wAFFvi19t0eVhJb/BX4fXs9l4et16hL%2B5Urc6s4wuQ5jg3A4iINfSXgTwB4F%2BF/hW08DfDbwbpfh/RbCPy7LSdGsI7a2gX0SOMBV/AV08uCw/xP2kuydor57y%2BSS8y7U4b6v8P%2BCfOy/Cz/AIKWftE/6R8XPjx4e%2BCPh%2Bf73hn4W2a6trZiPVJdWvo/JhkH963tj7PW/wDD7/gmB%2Bxp4M8QR%2BOvFnwzl%2BIXilcF/FvxT1SbxFfs2c7w16zpCf8ArkiAdhX0DRUyx%2BJty03yLtFcv3te8/nJidWey09NP%2BD%2BJHZ2dpp9rHY2FrHBBCgSKGFAqIo4AAHAA9BUlFFcZmFFFFABRRRQAUUUUAFFFFABRRRQAUUUUAFZXjLwL4J%2BIugy%2BFviD4O0rXdMnGJ9N1nT4rqCT/ejlVlP4itWimm4u63DY%2BadV/4JY/s9%2BHNRm8Tfsv8Aijxl8EtZmkMrz/C/xFJaWMz9R52mTCSykXPVfJGR3HBFR/EH/BUD9m75vE3hbwn%2B0J4ah%2B/feHQnhrxPGnUu1rKzWN2QP4Y5ICx6LyBX1DRXYsfXlpWSqL%2B8rv8A8C0kvvZp7WT%2BLX1/z3PF/gL%2B33%2Bzd8fvFD/DPTPEl94W8dQLm8%2BHfjzTJNH1yDqeLafHnrgZ3wGRP9qvaK4L4/fsv/AD9qPwunhH49/CvSvEdrC2%2Bymu4StzYydfNtriMrNbSDA%2BeJ1b3rw%2BXwD%2B3N%2BxEP7Q%2BEPibUvj58NbbmfwV4qvkXxdpMI6/YdRbampKoyRBdbZSFVVmJNV7HC4n%2BDLll/LJ6P0lp90kv8AEPlhP4XZ9n/n/n959W0V53%2Bzf%2B1R8Ff2q/CU/ir4QeJ3nl064%2By6/oWo2z2mp6JdjO62vbWQCS3lBBGGGDglSw5r0SuOpTqUpuE1ZrozNpxdmFFFFQI89/aC/Zd%2BCv7TmgW%2BjfFfwp591p0vnaHr%2Bnzta6no84wVntLqMiSBwQD8pwcDcGHFeOj4y/tEfsJTppP7VV9d/EL4Vq4js/i7p9h/xM9BjzhV1u1iGJIwOPtsK44zIils19SUy4t4LqB7W6hSSKRCkkcigqykYIIPUEdq66OKcIeyqLmh2fTzi94v8H1TJcbu63K3h3xFoHi7QrPxR4V1u01LTdQt0uLDULC4WaG4iYZWRHUlWUgggg4NXK%2BVPF3wq%2BIH/BPfXLz4x/sxeHb3XfhNdXL3fjr4R2K75dFDHdLqeiIfu45eWyGEcbjHtbAH0h8NviR4F%2BL/AIE0r4m/DPxPa6zoOt2a3WmalZPujnjbv6gg5BUgFWBBAIIpV8OqcVUpvmg9n1T7SXR/g1qnbYjK%2Bj3PNP2oP%2BS3/s4/9lmvv/UK8UV7NXjP7UH/ACW/9nH/ALLNff8AqFeKK9mrlKCiiigAooooAKKKKACiiigAooooA8Z/bw/5Ihof/ZZvhx/6muiV6J8Wvip4H%2BB/w01z4ufErWk0/QvD2nSXupXTjJWNBnao6s7HCqo5ZmCjkivO/wBvD/kiGh/9lm%2BHH/qa6JXHfH%2B2H7UX7ZfhH9leT994P%2BH1lB46%2BIsA5jvbvzWj0bT5OxXzY5rt0YEMLePPWunC0Y1qvv6RSbl6L9Xol5vyJk7LQu/sjfB3xx8QPGE/7cn7TGiPb%2BNvElkYfB3hi6%2BZfBOhOd0dogPS7mXElzLgMWIjG1UIP0VRRUYivLEVOZ6dEuiS2S8l%2BOrerY4pRVgooorEYUUV4D%2B3Z8cviP4V07wx%2BzR%2BzrfxwfFH4sX82m%2BHdQki8xPD9hEgfUNakXoVtoWGxSfnmlhXByRWtCjLEVVCPXr0SWrb8krt/wDDFRi5ysjB%2BOP7R3xg%2BPXxY1P9jz9hvVbey1TR2WL4m/Fi4thcWXg1XGfsdsh%2BW71RlORETsgGGk5%2BUep/sz/so/B39lDwhP4Z%2BF%2Bj3El9qdx9q8S%2BKNZuTdatr94clrq9un%2BeeQksecKuSFVRxWh%2Bzj%2Bzz8N/2W/hDpXwa%2BFunSRafpyM9xeXUnmXWpXTndPeXMp5lnlcl3c9ScDAAA7mt6%2BIjyexoaQ/GT7y/SO0fN3ZUpq3LHb8/X/LoFFFFcZmFFFFABRRRQAUUUUAFFFFABRRRQAUUUUAFFFFABRRRQAUUUUAFFFFABRRRQB4R%2B05%2BxPYfFTxZB%2B0J8B/GDfDv4xaRb%2BXpXjbTYA0WpQjB%2BwarbjC31o2ANr/ADx4DRspGDZ/ZL/a4vvjTqesfBH41%2BDE8FfF7wbGh8W%2BD2nMkNxAx2x6np8px9psZT91/vRsfLkAYAt7dXhP7b37Mvin4taHpXxv%2BAV5BpPxi%2BHLyah4C1iT5Y74Efv9Iu%2BRvtLpAY2BPyMUkBBU576NaGIiqFd6bRl/L5PvHuvs7rqnrGSmuWXyfb/gfke7UV59%2Byz%2B0P4W/ao%2BBHh/44eFLGexTV7Zl1HSLwYuNLvonaK6spgQCJIZkkjPAztyOCK9BrjqU50qjhNWadmZtOLswoooqBBXyn4osf8Ah3V8dF%2BJGgL5HwQ%2BJOupD4v0xeIPBmv3DhItTiHSKzupCsc68LHKySAgMVr6srD%2BJfw58H/F74fa18LviBo8eoaJ4g02aw1SzkHEkMiFWAPY4OQw5BAI5FdOFrqjNxmrwlpJeXdea3T76bNkyjdabnmv7UH/ACW79nH/ALLNff8AqFeKK9mr5i1H4c%2BOvhCv7J3wv%2BI/xBHirVtA%2BK17Yya%2BbUwveQx%2BDPFKwNIpZiZBCI1d8/O6s2BuwPp2sakYxm4xd0nv38xrVBRRRUDCiiigAooooAKKKKAOQ8C/tCfAP4oeMtZ%2BHXwz%2BOHhDxF4h8OuyeINC0LxLa3d5pjK5jZbiCKRngIcFSHAwwx1qxa/G34M33xTufgXZfFzwxN43s7AXt54Oi1%2B3bVYLUhSJ3tA/nLGQ6fOV2/MvPIr5r%2BGvxX0z4sftv6t8U/Fnwk%2BIvhLSfhZpOteF/Aum3Hwa8Qw/wBtfaryzOo6s10LD7O8EktpAlrBFIzPGs1y4O%2BMQ8z4N%2BH/AMQYv2pPD3w3m%2BFHiiLXtB/ad8SePda8Zy%2BGrpNKm8O3mhanb20iamY/s08hW9sNP%2ByrIZl%2BzMxjEcKvQB73%2B3h/yRDQ/wDss3w4/wDU10SuZ/YAj/4TLXvjX%2B0Bffvbrxd8YtUsbW5/vabpATS7VB/sg28zj3lNS/8ABQvTfivP4P8ABmo%2BHPGnh618LQ/GH4ejXtGvfDE9xqF458Z6N5bW94t7HHbBW2lg9tMWAIBTIId/wTHmjj/Zq1DQHt0hu9G%2BJvi%2Bx1GJC3yzrr16zZ3EnJDqT9eMDArto6YKs11cF8rt/mkQ/jXzPoWiiiuIsKKKKACvmD9lq0b40ft5fHf9pLVm%2B0W/g%2B8sfhn4P3j/AI9IbW3iv9TK/wDXW7u41J64tVGeMD6fr5o/4JuMLG%2B/aB8M3Xy3th%2B0l4lkuo24bZcpa3cLY9DDPHg%2B3tXbhvdwteS3tFfJy1/JI0hpCT9PzPpeiiiuIzCiiigAooooAKKKKAEd0jQySMFVRlmJwAK8%2Bh/a1/ZbvNF1bxDpn7Rnge%2Bs9CtDdaxNp3im0ufscQ43SCKRiuTwOMk8DJ4rv7m2t7y3ktLuBJYpUKSxSKGV1IwQQeCCO1fIvxq/4IlfsS/FrVYNZ8PaNrPgiWNXFxD4TvkSC5LHILR3EcqoV5A8vYMHkHAx6eW08oqzccdUnBaWcYqXrdNp%2BlvmeXmlXOaVNSy%2BnCb1upycX5WaTXre3kfGmiftxePZ/wBq7x3bj/gpRL4d%2BHfiTV21KPxVH4bv72TyF3/Z7WzspLZ2tnXdHHICIlKRbg0gCh%2Bo8Vf8FdviX%2Bzv4rsh8N/2t7b496RcKft9rr/w1Og/Y1HTZOhSR3J7tGygA%2B1e2/H39hP/AIJhfsBfAn/ha3xR%2BBGt%2BL4or%2BCwM1xrc8t5cvMSM7FmhgBCq7ZCr0xXgX7V3xr/AOCYuifs53vw3/Z%2B/Zpg8N%2BNNbmt4X/4TDwdcLqGjW0p/fXCSymQtIgG1VWXbliylsYP6fhamS5vUpujg6lSm7QvyUoxfKknJtLnTSs3Zrouuv5Ri6ee5NSqKvjadKqr1Le0rSkuZtqMU37Npu6V0%2Br6adN8Sv8AgvPbfFP9nnxX4Hsfhx4h8C%2BNdR0xrfQtd8PanFeRROSu5y7iGS3JXeoZA7JkMp3AY%2BYfAPx5/wCCh994cs/jd/w0r8VLbwZZeJ4NN1PxdceJdRvrDTp8xOfPiEj71VJEYoUIfcFwxbaeW/aJ%2BAvh/wAAfEPR7Twdpfi7w9oHimXfocnxJ0ePTZEti6ILglJZGMG4s29kXCgffIJr1D4q/sTftix/s3WGkfAr4p6p8YvhTOgk1DT/AIdancXdpZamX/fW4sFbzpdr4cSLFgh95VC3Pr1cPkGR5a54SFOPtLy/fX5dE0487hU5H0SbavfSVmjzsvnn/E2fUsPjp1pKDjBvDpOp70k1JU/aUfaWTb%2Bw2rLnhdM%2Blf2P/wBvn9rrwX8GfHH7UH7XPijxlr%2BieE7W1tbDwjN8P7Wwi1B7yeJYrtNRSNCTHiUPGylQskbbiWC19R/szf8ABRz4eftHfFdPghP8I/G3g7xJN4cGt2tt4o0yOOK5tSVw8bpIxKkOGVmVVYA4OcA/m98Jv%2BCRP/BR34rfCO01/WWTQba8s7e2i8N%2BM/E1zHerapKPKWSHY4jWMAOI5CGUDhNwAr9M/wBhD9hTwR%2BxP8OZNFg1OHxB4r1Jy2v%2BLpLExTXaA/uoFDO7JFGgVQu7BILYGcD4HOKnC%2BIyv65Bwdeok4wpOSjC8Y6O8IXSfNdyipSutFbT9GwmC4qyriOrlcnP6vh5zi6lVQcqnLOSuuWrVScly6QqzhCz96d037vRRRXwh9sFFFFABRRRQAUUUUAFFFFABRRRQB8w/s5Wy/A7/gof8aP2fLEeVonjnRtN%2BJug2ifct7ud5NP1XH/XSe2tpyP707H%2BKvp6vmiZl1L/AILFWv2I7v7H/ZquF1Er/CbvxBAYAfcizuCPxr6Xrtx3vThN7uEW/WzX5RRpV1afkv6/AKKKK4jMKKKKAPGf2oP%2BS3/s4/8AZZr7/wBQrxRXs1eM/tQf8lv/AGcf%2ByzX3/qFeKK9moAKKKKACiiigAooooAKKKKACiiigDxn9vD/AJIhof8A2Wb4cf8Aqa6JXLfstTD4RfthfG79m/UD5UWu6tbfEbwsH63FtqEa29/t9o722Yn/AK%2BVPeup/bw/5Ihof/ZZvhx/6muiVg/t2eCPGPhU%2BF/2z/hFoc%2Bo%2BKPhRcT3GqaNZj97rvhydVXUrFR/HIERLiIHOJLcAAl67cE1OUqEn8asv8Sd4/jp/wBvET017H0JRWN8O/iD4O%2BLHgTSPiX8Pteg1PRNd0%2BK90u/t2yk0Mihlb1BwcEHkEEEAgitmuOUZRk01ZovcKKKKQBXyk6R/smf8FOr3xHq13PH4Q/aW0mzto7mecm3sfF2k27RxQAcJF9ssMbf4pJbPHOVA%2Bra8/8A2n/2c/BP7VPwY1T4O%2BN7i5s1uzHc6TrWnvsvNH1CFxJbX1s45SaGVVdSOuCpyrEHqwlaFOo41PgkuV%2Bj2fyaT87NdS6cknZ7PQ9Aor56/Y//AGpPGmueJLz9kb9q%2BG20n4y%2BE7MPcmNPLtPGGmg7Y9a0/OA8b4/exD5oJdysAMV9C1nXoVMPU5J/f0a6NPqn0/zTSUouDswooorEkKKKKACiiigAoorxP9vv4ZXnxC/Z81DU7D9prX/hRN4d3akvijRtXktYsKjKYrny3RpIm3YCqwIfYRuxsbowlGGIxMKUpcqk0r2crX8o6vW22pzYyvPDYWdWEOZxTdrqN7ectFpffQ%2BGf%2BCjP7FH/BSyS11m9v8A4/XPxD%2BHU95c6zfrfeIbfS4NJWM71E8FzMkQRQx2CJmUGMnbGSoPXf8ABLj/AIJrfs9fHr9liH4v/tP/AAai1fWde1i7l0vUH1nVbaeWxBVVeVVmSMuZVlZXQEMhQliSwHgn/BN79jL4b/8ABR2/8Tv8aviX48j1jwwlq817BqcM6XUM7TbVDTxu8bAxtx8wOSeOlfXV7%2BwV/wAFGv2erBdU/ZT/AOCgWq%2BJFhu4oLXwp4%2BtPMt4LAcbVlne4TKBUXCRRfLuKlSArfqma42WCwn9jrGQpV4uLclTlSTVr25oXWul20lZK6ufkeU4GOOxn9tPBTrUJqSUXUjVad7X5Z8r93W0U27t2dt/D/8Agp/%2BwT8dvgj8PNL1j4P/ABP8WeMfA1jqEltpvh26sXv9S8PRz27pKi3iKZBYugMZjJVMuisrn569w/4IT3H7Qsn7O2sWfxM02Gz8G2eoRweB4m0iO1ndv3jXbkoimWMs0WJH3Mz%2BYN3y4r034Yj/AIK52XjTSLb4qn4E3nh06jANduNObVFvBabx5xg4Cebs3bdy7d2M4GTX0xXy%2Ba5/iZZKstr%2Byqtvm9pB3as%2BqUYpSffdpu%2BrZ9ZlHD2GjnjzSh7WkkuX2c1ZO66Nzm3Ffy7JpJaJIKKKK%2BLPuQooooAKKKKACiiigAooooAKKKKACoNS1LTtG0641jV76G1tLSB5rq5uJAkcMagszsx4VQASSeABU9fIfxw8Y6r/AMFGviZqP7HHwV1W4T4U%2BH9QEHxy8eWExSPUmQhm8M2Mq/fkk4F3IhxFETHnfIVrow2Hdebu7RWsn2X%2Bb2S6vTu1cIcz8upvf8E7YtQ%2BNPiL4lft9azZSwQfFnXILbwLDcxlXj8K6Yj29hLtYZQ3Mj3V3jus8Z9K%2BnqraLo2keHNHtPD2gaZBZWFhbR29lZ2sQSKCFFCpGijhVVQAAOABVmlia3t6zmlZbJdklZL7l99xTlzyuFFFFYEhRRXlH7Yv7RNz%2Bzr8I21PwlpI1jxr4jvY9E%2BH3hxTl9T1i4ysKEdok5llY4CxxucjitKVKdeqqcN3/X3dX2SbE2krsoftQf8lv8A2cf%2ByzX3/qFeKK9mr5i1H4W%2BIfguv7J3w08YePdR8UazpnxWvRrPiDVLuSaW%2BvH8F%2BKZJ5A0hLLH5jvsToiBFHCivp2lUjGM2ou6T37%2BfzBbBRRRUDCiiigAooooAKKKKACivF/2Ofi78cPiVdfFLwd8fr3wpd6z8P8A4mN4etr7wfotzYWtxato2lakhaK5urlzIrag8ZcOFcRqwRMkVyX7FH7U/wAXfjP8QvEfgj49%2BJtE0fXbW51iXSfh%2BfhPrfh/UE0211aS0hv477UbuSHV4Gh%2Bys8tpCsavdR5Zd6qQDr/ANvD/kiGh/8AZZvhx/6muiV7NXzx/wAFC/i58KPDXg/wZ8KPEfxO8Paf4p8QfGH4ey6D4avdagi1DUkj8Z6M0jW9uziSYKqsWKKQApJxg19D0AfJ99Jd/wDBM/4m3euC3kb9nzxnrDXF/wCShZfh3q9xJ88u0fc0u4kbLY%2BW3lYn5Ufn6ss7yz1Gzi1DT7qOe3njWSCeGQMkiMMqysOCCCCCOtRazo2keItIutA1/S7e%2Bsb63eC8sruFZIp4nUq8bowIZSCQQRgg18tHwz8XP%2BCbl3JffDjQ9Y8d/AVpGkuvC1oGuta8BKTlpLJSS97pwyS1vkywjlNyhhXo%2B7mC1dqv4T%2BfSfrpLupfFn8Hp%2BX/AAD6uorn/hd8Vfhz8a/A1h8S/hP4zsNf0HVIfMstT02cSRyDuD3VgeGRgGUgggEEV0FcEoyhJxkrNGm4UUUVIHl/7Un7Jvw3/aq8LWOn%2BKLq/wBF8ReH7s33gzxv4fn8jVfD17jAntph0BwA8TZSReGU4BHk/g39s/4nfsu%2BIbL4L/8ABSOys9LFxOtp4a%2BN2k2xi8N%2BISeEW86jSLxh1jlPkOwYxyYwtfVFUPFHhbwz438PXnhHxn4dsdX0rUbdoNQ0zU7RJ7e5iYYZJI3BV1PcEEV10sTFU/ZVlzQ6d4%2BcX%2Bad4vsnqaRmrcstV%2BXp/Vi5bXNveW8d5Z3CSxSoHiljcMrqRkMCOCCOc0%2BvleT9ib47fsr3Emu/8E6/jDBp%2BhBzJN8GPiJLPe%2BHWyclbC5Ba60onLEKhkg3EfugBWj4X/4KYfD3wlrtr8Pf21PhvrnwK8TXEohgbxltl0G/k/6dNZhzaSDpxK0L88pVvBSqLmw7512XxL1jv848y9B%2Bzb1hr%2Bf3f5XPpeioNL1TTNb06DWNF1GC8tLmISW11azLJHKhGQyspIYEdCOKnrh2MgooooAZcSmCB51heQohYRxgFmwOgz3NfGN3%2B3zc/tkfDTVPC/w9/wCCcvj/AMeeGb2V7HWoNdntNOtmljZWeLe0j5dGCnggqwHQivq74ufEjRfhH8NNd%2BI2u3drFDo2k3N4EvLtYElaKJnEe9uAWK4/GvCv%2BCUPhTxFZfstzfFvxg1mNV%2BKXi3UfGV9Dp4YQwNeOoCIp%2B6NsSnbk43YycZr3cujh8Pl9XG1afNKMoKHvSjq%2BZv4bPRJO91ZngZnLE4nMaWBpVOWMoTlP3Yy91cqj8V1q21azuteh8kftB%2BJbD9n3Q9D%2BOPwE/4J8fEv4N%2BLvBd9bIdWstPVtH1KzedBLZ6hLE585JN20SMpYtsXPI2/o3%2Bz/wDGm1/aA%2BGVn8TbP4eeKPC8d3LJGNJ8YaV9jvE2Nt3mPcwKN1VgeR6dK7SilmecUsyw0ISo2nFv3nOUnZ68vvXbV9VeTtd23aHleS1srxU6ka14SS9xQhFcy05vdsk7aO0Veyvqkwooorwz3gooooAKKKKACiiigAooooAKKK5/4mfFj4YfBfwpP46%2BLvxD0Xwxo1sP3%2Bqa9qcVrApxnG%2BRgCxxwo5PYU4xlOSjFXbGk27I6CsH4mfFH4c/BnwTf/Ej4seN9M8O6DpkXmX2raveJBBCvbLMQCSeAo5YkAAk4r54l/bz%2BLv7RpOjf8E8/wBna%2B8UWcx2j4p/EGGfRfC0A/56wh1F3qYByMQRqh4Pm4rW%2BHP/AAT10zWvG1h8bf21PibefGTxxp8vn6THrNmtv4e8PyeunaUpMUbjgefKZZjtDb1Nd31ONDXEy5f7q1l920f%2B3nf%2B6aezUfjdvLr/AMD5/ccleeL/ANoz/gpUp0P4WL4g%2BFHwJueNQ8a3UD2XiXxrbnrFp0LgPptm69bqQCaRWHlooLGvpr4T/CX4b/Av4d6V8J/hH4OstA8O6Jai30zS9Pi2xxIOSfVmYkszsSzMxZiSSa6Kisa%2BJdWKpwXLBbJd%2B7fV%2Bb22SSJlPmVlogooormICiivN/2jv2qPhV%2BzHoNpeeN7u7v9a1iY2/hfwfoVsbrVtdue0Nrbr8znOMucImcsyirp0qlaahBXb6CbSV2b/wAaPjR8Nv2ffhtqfxZ%2BLPiaHStE0qHfcXEnLSMThIo0HzSSu2FRFBZmIAFeOfsyfCf4kfGL4pn9uL9pzw1LpOtTWMln8MvAt4QzeENIlxvlmHQajcgKZiOY0Cwg8MKb8JP2bvip8bviPpn7UP7b1varqukzfafAHwtsrkXGmeESR8tzO4%2BW91LbwZsbIiSIh0YfR1dk508JTdKm7zekpLZL%2BWL6/wB6XXZaXblJyd3seM/tQf8AJb/2cf8Ass19/wCoV4or2avGf2oP%2BS3/ALOP/ZZr7/1CvFFezVwFhRRRQAUUUUAFFFFABRRRQB4v8Cf2PNY%2BBPjTxf41tP2sviV4jk8ceK4fEGvWPiG08OiB7tLW3syE%2ByaRA6Rvb2ltEwD5xCGUq7Ozanw//Zag8J/Ghfjz42%2BN/jXx1r1lod9o3h3/AISo6ZHBoljeXFtcXUNvHp9la7zI9lZgyXBmkC26gONz7/VKKAPGf28P%2BSIaH/2Wb4cf%2BprolezV4z%2B3h/yRDQ/%2ByzfDj/1NdErX8N/tdfB3WfjLqP7P3iG8v/DHi60unj07SfFNkbI63CpwLmwkY7LuJucBGLjB3IuK0hSqVE3BXtq/TuROpCDSk7X0R6fRRRWZZ89fEv8AYr1/wl44v/jz%2BxH47tvh74y1CXz9e0G6tml8NeKZPW%2BtEIMMx6fa4NsoySwkzUvw0/bz8PweL7T4L/tZ%2BB7n4SePblvLsbPXrlZNH1xhxu03UgBDcZyP3TlJgW2lCRmvoCsL4j/DH4d/GDwhd%2BAPip4I0vxDot8u260zV7JJ4ZPQ7XBAYdQw5B5BBruji4VYqGJXNbaS%2BJfPaS8pfKSI5WtYm7RXzQv7Jv7R/wCzR/pf7EPxyF54fh5X4VfFK4nv9NjQf8s7HUAWu7IAcKjGaPJ%2B6BV3Rf8Agor4K8FarB4O/bH%2BGWvfBbW5pRFFd%2BKVW40C8kPa31eDNswxziYwsM8qKHgZVFfDy512WkvnF6/dzIOdL4tD6Koqrout6N4j0qDXfD2r2t/Y3UYktbyyuFlimQ9GV1JDD3Bq1XC007MsKo%2BJPDPhvxloV14X8X%2BHrHVdMvYjFeadqVok8E6HqrxuCrj2IIq9RTTad0B8/wDg7/gm/wDAr4P/ABKsPiP%2Bzf4k8X/DKK31RLzVfCXg3xE8Xh/WAGy0U%2BmzCS3RWGRmBYmGeGBrp/2y/FGs6F8K9N8PaL4ku9FbxV4w0jQLrW7GUxzWFvdXSJNIkg/1bGMMgfjaXBBBxXrNZ/inwn4W8c%2BH7rwn428NafrGlXsfl3umarZpcW9wmQdrxyAq4yAcEHpXSsVUqVozrNyt33%2B97/O%2B1ti%2BduSctT5D8VftDeM/2bf%2BCffxf%2BNPwp8TXWq2vh3xFewfDC%2B8S6hcap5ts0tvBEqzXEjSXEazPMse%2BRvuYJ2gAeb%2BDPj9/wAFbviL8O/B9t4a%2BMfwlk8S%2BMJry2Szfwvd2N3oslpC0l1/aC3CMtvJEQkbKsT5eVNqsh3173/wUw%2BFXwlsf2DfiMt/4F1ZtPh0e1kGneEtQayeN4GjitnCrmNYYSVdl2FdkRO0lVxyv7Of7JHjvxL%2Byv8ADrxF4N/aA0W08WvoGtL4k8V2dm%2Btxaq2sMjXN0shuI/9OTyotszF4lcSjyWRgq/SYathKWVvFOnBylVavOKl9hNfjq9NW9E1e3jV5UsZm7wk6kkuRTtFuP2nF8zWuullHs%2Ba3unm/wAN/hv%2ByT45uPC/xQ/bI1Txv8X/ABj4k0nSb/U9U16xcaX4Ri1CZ7e0hmt7eQQ2yS3Mcse3EnzRlmWNTk/oLp2nafpGnwaVpNjDa2trCsVtbW8QSOKNQAqKo4VQAAAOABXy/f8A7GnxC0rxdrPwp8H6RpK/DvxRqWhXGo6/Nq7/AG%2Bz0/TraJG00W3lYkaWaJ5PP8wAC7lBQFV3e9/GnSPjPrXw/ubD4A%2BNNB0DxMZoms9R8S6LJqFmqBwZEeGOaFjuXKghxtJzg4xXlZni5Y6cL1brom/dintaKSUbbWS2V3e53YbLcuwH%2B7QUXLd7yfnKTvJv1bOror5o%2B1/8FhNA%2BabRP2cPFCJ18i/17RpJB7Bo7tQfq2Kktvj9/wAFM9Lc2/iD/gnf4R1EKjE3WgfHGHDkKSAI7nT4yMkAct35wK4/qM38M4P/ALfX62Oz2T6NfefSdFfNP/DXP7dln/yFv%2BCUni1h3fTPin4bnH4B7qNv0o/4bb/aqi4uv%2BCV/wAVwe/leJvDkg/MajR/Z%2BJ6cv8A4HD/AOSD2U/L71/mfS1FfNP/AA2r%2B1rP8th/wSs%2BKLN2%2B0eLvDcQ/M6gaB%2B1f%2B39ef8AIM/4JU67Fn7p1b4v%2BHoR%2BPkyzEflR/Z%2BI68v/gcP/kg9lPy%2B9f5n0tRXzSfjV/wVO8RHytD/AGE/ht4eJ%2B7P4k%2BNclyB7lLTTD%2BQY0n9l/8ABYHxJ%2B5u/F37OnhON/vSWGj65rU0Y/2TLNaIT9Vo%2BpSXxVIL/t9P8kw9m%2BrX3n0vRXzP/wAMkft2%2BLv3XxO/4Kga7bW0n%2ButPh78MtI0gj2Wa5F5Kv13fhSH/glT%2Bz94o/5Lv8Ufi78UB3g8d/FTUpLYn/r2tJLeDH%2Bz5e32o%2Br4SPx1r/4Yyf58qDkpreX3J/8AAPR/jN%2B27%2ByB%2Bzykv/C6f2lvBfh6eH79hf8AiCD7WT3C26sZWPsqmvNf%2BHlcHxIH2b9kj9kf4s/FBpf%2BPTWk8Mnw/okh9TfaubcFfeOOT6cjPqXwe/Y3/ZO/Z%2B8uT4Kfs4eCvDM8Q%2BW90nw5bxXLe7ThPMY%2B7MTXpVHtMBT%2BGEpP%2B87L7o6/%2BTBektk36/8AA/zPmE%2BD/wDgqd8eOfF/xR%2BH/wAC9Em5On%2BDLBvE2uhDwY2vLxYrSJsfxJbyY7H03fhp/wAEz/2XfBfiuD4m/ETSNY%2BKXjO35i8Y/FfWH1y8hOcgwxzf6Pa4PTyIo8dugr6BopSx%2BI5XGnaC7RVvvfxP5y%2BQOrK1lp6f1f8AEAAoCqAABwBRRRXGZhRXnni39qn4FeFtE8WapbfEDTtauvBVpJPr%2Bi6DfQ3N7AUKgx%2BWHGH3MincVCs4DFc1514w/ag%2BKHjTXdA%2BFPw80hPAPiq/1y50/XIvGGnRX5sJksHvLaJRb3IjdbgIQJldwPLddu5lI6qeDxFTpZd3p0v67eT6EuUUfRFU/EHiHQPCWiXXiXxVrlnpmm2MJmvdQ1C5SGC3jHV3dyFRR3JIFc38CfiddfFz4b2vi7VNIXT9RS6urHVrBHLLBdW87wShSeqloyyn%2B6y1534j/YP8C/Fr4o3fxJ/aY8e698SLSPVGufDXgvXpUj0DRY92Y1FjCqx3Uig48248wkY4B5qYUqUako1pctuyu35Lp827eoNu2hzOofti/Fr9py7l8H/8E%2B/A0Ooab5jQ3/xk8XWssPh%2BzwdrGxi%2BWXVZRhgNm2AMF3SEHFd3%2Bzx%2Bxx4E%2BBuvXnxR8SeINS8c/EfWIRHrvxE8UFZL6ZOpgt1UbLK2BJ2wQhVAxksQDXrdnZ2enWkWn6faxwQQRrHBBDGFSNAMBVA4AA4AFSVpUxfuOnRjyRe/Vv8AxP8ARWj5MFHW71CiimXNzb2dvJd3lwkUUSF5ZZHCqigZJJPAAHeuMo8c/ag/5Lf%2Bzj/2Wa%2B/9QrxRXs1eFfHrxT4Z8bfFH9mjxT4N8Q2OraZe/GO/ez1HTbpJ4J1/wCEL8UjckiEqwyCMg9q91ptNOzEmmroKKKKQwooooAKKKKACiiigAormfhZ8afg58c9Eu/E3wT%2BLPhnxjpthqUmnX2oeFtet9Qgt7yMK0lvJJA7qkqh0LRkhgHUkcik8HfG34M/ETxfrvw9%2BH/xc8Ma7r/hacQ%2BJtD0fX7e6vNIkJYBLqGN2e3YlWAEgU5U%2BhoA4D9vD/kiGh/9lm%2BHH/qa6JXd/GP4GfCP9oHwg/gX4yeAtP1/TGbfHFexfPbydpYZFIeGQdnRlYdjXCft4f8AJEND/wCyzfDj/wBTXRK9mqoTnTkpRdmuqJlGM4uMldM%2BcV%2BGX7Zv7LP734IeM/8Ahb/gyHp4K8dakINdso/7lnqhGy4A7R3S5woHm11/we/bf%2BBvxY8TD4balfah4M8bqB53gXx1ZHTdTBP/ADySQ7LpTjIeB5FI5zXr9cn8X/gV8HPj94aPhD4zfDfSPEen5Jii1O0V2gY/xxP9%2BJ/9tCrD1rr%2BsUa38eOv80bJ/NfC/wDyV%2BZz%2Bwq0v4MtOzu18nuvxR1lFfOw/Zb/AGl/gT%2B//ZK/aWnvtJi/1XgH4tebqtiq9o4NQQi8tlA4UMZ1HpjinL%2B3brXwpP2L9sf9nPxV8PFj4k8U6ZCdd8PsOgY3dmpkgBPOJ4Y8DqeCaX1OVTWhJT8lpL/wF6/c5B9aUP40XHz3X/gS0%2B%2Bx9D1W1nRdG8R6VPoXiHSba/sbqMx3VnewLLFMh6qyMCGB9CKx/ht8W/hb8Y9AXxT8J/iJoniTTmx/pmianFcxqT/CxjY7W/2Tgj0roa5Wp05Was18mdMZRkrp3R876x/wTe%2BE/hnVZ/Ff7K/jzxV8F9ZnkMsg8A6iF0q4l7GfSp1ks5APRY0PvUA8Tf8ABS/4IfuvEvw88EfG3R4uBqHhe%2BPhvWyo6u9rdNJaSt7JNHn0Hf6PorrWPrSVqyU1/eV3/wCBK0vxZPIltofPOl/8FNv2a9M1CHw/8eLfxV8I9WmfZHZfFHwzPpkLnvsvMPZuPdZjn869y8I%2BN/BfxA0WPxJ4C8XaXrenTf6q/wBI1CO5hf6PGxU/nVzVNK0vXNPl0nWtNt7y1uEKT211CskcinqGVgQR7GvD/F3/AATR/Yz8R6zJ4r8NfCUeCddfldd%2BHGq3Ph%2B6Rv7%2BbCSJXOefnVueaL5fU6Sg/lJfjyy/Fh768/wPeKK%2Bcx%2ByV%2B1r8PePgb/wUL8UTWsfzJpPxR8MWPiCNz/dNzGLa5A7ZMjH6ml/4Tv/AIKhfD7nxN8AfhT8RoBwJPBvjK70O5PuYb%2BGaPPt5%2BPcUfU4T/h1Yv1bi/8AyZW/EOZrdH0LqOnafrGnz6Rq9hDdWl1C0N1a3MQeOaNgVZGVgQykEgg8EGvi3/gnt8X/AIffsyfGLxP/AME1PE1/bjVbLxVqN94Gv7B4potRsZA0/kTmFm8m6jVJCyOE%2BVQOMLu674jf8FQZPgNoiXn7R37GPxU8H3VxL9n0/wDdabqFle3ZUlLeO5trtgXbacZUcc147/wT1/aw/ZC%2BCsXjPxx%2B0L8RPDfgTxz8QfHOoa5c6Lrnh2806bRop3BFkby8t4/OUFS%2BFbywXOOpr3cDgMTSyfE%2B2pylCfLyKLTvNN%2B8rOV1BN82lmmo3TsfPY%2BbrZ3ho4ZpThzObavanJL3XtZzkly63Ti5WaufoZRXA%2BD/ANqv9l/4hBT4D/aO8Ca0X%2B6uleLrO4J9sJKTn2ru7e4t7uFbm1nSWNxlJI2DKw9QR1r5idOpTdpxa9U1%2BaR9GmnsPoooqBhRRRQAUUUUAFFFFABRVXV9c0TQLU32vaxa2UA6zXdwsaD8WIFeb%2BMv24f2NPh8r/8ACZ/tWfDzT5E%2B9bz%2BMLPzvwjEhc/gK0p0a1V2hFv0Tf5JibS3PUqK%2Bdj/AMFTf2PdWJt/hn4j8U%2BO7k/6u18CfD7V9UMn%2B7JFbGI/990h/bS/aC8Y/L8Gf%2BCc3xPvh/z9eN7/AEzw5D9cT3Ek2P8Atlu9q6f7Oxq%2BKHL/AImo/wDpTX5E88O59FUV86b/APgqf8RfuwfBn4Y2c/d31HxNqFuPoBZwFv8AvoUh/YX%2BKfj0%2Bb%2B0P%2B3p8U/EaniXS/CdxbeF7CRe6Mmnxidl7czk46k0fVKUP4laK9Lyf4JL8Q5m9kfRQkjZ2iWRSygFlB5Gema8d%2BGPijx58M/jn4s%2BEvxh%2BKV3r9le6RD4m8L6zrFra2wht/MNteWYMEcUYSB/sjAsC5F38zMa6b4C/swfAv8AZk0vUNJ%2BCXgRNHXVp0n1a4e%2BuLq4vZUBVXmmuJJJJGAJGWY9aveIvgD8GvGHxN0/4yeL/h3p2r%2BJdItDb6Nqeqxm5OnISSxt0kJSB2z8zxqrsAASQABEZ4eEpx1cWtHZXvpbq7a3vrsO0nY%2Bb/8AhSfiTxZ4g8LfB6fwJql3Y2niLXZj44sSh0698Map9ouH/wBIUkC5NyLJ/L2ndJFuxtJYeieEP2RPFXiS51XUf2ifF%2Bn6jeyabo1lpF/4Vjnsp4ZtNeSSLVDI7M0d27yLlVJjCxKvzBmB986dKK1qZhXkrR0/Pe79L9loJQRg/DT4ceGvhP4MtfA3hQXTWls8srz3949xcXE0srTTTSyuSzyPI7uxPdjjAwK3qK8%2B%2BNH7Vf7On7PUaj4xfF/RdFuZMfZ9LkufNvrjPQRWsQaaUn/YQ9RXJGNXEVLRTlJ9tWE5wpRvJpLz0PQaZc3NtZW0l5eXCQwxIXlllcKqKBkkk8AAd6%2Bez%2B07%2B1L8bB9m/Zb/AGV7vSdOl4Txr8YJH0m1A7PFp8e68nUjkFhAD6jrS2/7B9z8U7mPWv20fjjrvxPkVxIvhaMf2T4bgYHKgWFu3%2BkbTxuuJJcjqBXR9VjT1rzUfJe9L7k7L5y%2BRh9ZlU/gxb83ovver%2BS%2BZZ8Uft8eEfEeu3Pw%2B/ZL8B6n8YPEltIYrlvDMixaLp8n/T3qsn%2Bjx9/ljMsnGNlUIf2P/ir%2B0JcR67%2B3Z8VI9a07eJIfhb4Leay8PQkHIF1ISLjUyCAf3pSLIP7rBr33wz4W8M%2BCtCtvC/g7w7Y6TplnGI7PTtNtEgggT%2B6kaAKo9gKv0/rUaOmHjy/3nrL79o/9uq/mH1eVXWvLm8lpH7t3838jw39oDw74f8JfFP8AZo8M%2BFdDs9M02x%2BMF7DZafp9ssMFvGPBPijCIiAKqj0AxXuVeM/tQf8AJb/2cf8Ass19/wCoV4or2auNtt3Z1JJKyCiiikAUUUUAFFFFABRRRQB8q/sLfFLw1D8Wfjtp0Pwv%2BIuhWniD4y2994bfW/g94h0m1urJvDuiWKzRyXVhFGIxcWNyhOQEEYZsI6M3EfsKfD/4g6X8YfhT4Y1b4UeKND1H4T/DPxjoPxK17WfDV1ZWep6nf6zpc0LWt1NGsWprcvZ3d951u8qxhx5hSSYrX3DRQB88f8FC9N%2BK8/g/wZqPhzxp4etfC0Pxh%2BHo17Rr3wxPcaheOfGejeW1veLexx2wVtpYPbTFgCAUyCNzxun7cXwz8X6l4r8AS%2BGPiZ4Yurt54fCWoAaLqunxk8Q212u6C4C/9N1Rj0396l/bw/5Ihof/AGWb4cf%2BprolezVpTqezeya81/TXyZhXoe3ikpOLWzi7fo015NNHing79vX4Galr0PgX4rHVvhn4mmO1NB%2BItgdOMx6fuLliba4BPAMcrE8cc17TDNFcRLPBKro6hkdGyGB6EEdRWb4w8E%2BDfiFoM3hbx74T03W9MuBifT9WsY7iCT/eSQFT%2BVeMTfsHaJ4CmbUv2VfjP4t%2BFs%2B4uuk6Xe/2hojMepbTrzfGoP8A0yMXtitrYSps3B%2BfvL7919zObmzKhulVXl7kvud4v5OJ73QQCMEV4IPiD%2B3r8If3fxA%2BCnhr4oaXH97V/h/qn9maiEHVnsL5jG7kc4juPoO1XvDn/BQb9me%2B1aLwv8Q/Emo/DzW5TgaL8SdHm0WXPosk4EEntskbPGOopPCVrXguZf3dfwWv4DWZYRPlqt032muX8X7r%2BUiz8SP2Bv2W/iNr7eN4vh2fC/ic5KeLPAt/LompK5/jM1myeaf%2Bugce1c%2BPgh%2B3X8JBn4MftWaV450%2BPiHQfi9oIM4X0/tLTxHIW95IZPxr3zS9W0vXNPi1bRdSt7y1nTdBc2syyRyL6qykgj6VYqo4zERXLJ8yXSS5vz1XyaNnhaEnzRVm%2BsXb8tH80z58/wCGv/j38OP3P7RH7DvjSyiXhtc%2BHV1D4lsiB1kMcPl3ca98GAke/WveNB1qz8SaFZeItOSdbe/tI7mBbm2eGQI6hlDxuAyNgjKsAQeCARVuo7qGW4tZIIbp4HeMqk8YUtGSMBgGBBI68gj1BrOrUpVLcsFF9bN2%2B53t95pThUhfmnzLzSv96tf7jgvgv8SfHvjfxn8QPDHjHS9HS38J%2BKU03Tb7SJJcTxvaQXW2VZOkiLcRqxU7Sc4A6VR8O/tWeBdVstb8S%2BJPDuseGvDGhz3kcvjPxE1pDpVwLW4a3lZJluGZR5iso8xUJKnANeWfErxt4y/4J1fDyfxRq2uXvxMu/HfxEMOn2i%2BH4LS9uNTvYCIY5Z45khSPdbqu8Q5AKrj%2BIeIeLf2Bf2pf2jI9Z%2BKnxk%2BGXhjwLogu7LUYPgn4GuYmGuXEVwXmub%2BYFIJbnypbjYMgSOVDsgBZvZoZbhqq9tXmoUnpGV9W1ZS5Y7t36u0VfVnjV8yr05%2BwoRc6sdZRtolK7i5StZK2tleTtoj3G%2B/4LF/sDBJT4Z%2BKWq%2BIHhOJYtF8I6i5U5x1eBF57HODmql7%2B23%2B0h%2B0LdQ%2BDv2Lf2XPEGnyzxl73xx8WtHl0vSbGM4CtEikvdOc52ryOCVYE4x9f8N6b4U8X6N8TPjL8LJPD/gDWPE19fT%2BFJdES4SJrXTPsOmQ3NtbrJHvlR55FU5VWgt1zu2gfQP7LnhnxN4F/Z38L%2BHvGli9pfWml7pdPIJNlGzs8drjk/uo2SLH/TOrqyyjB0lUpUHKXTnnzK/%2BGKinbqr221fXOFLOMZUcKuIUI9eSHLK3%2BKTk1fo0r76I87%2BCv7BdtovxGtP2gv2oPijqHxR%2BIlm2/TNR1OIQabohP8NjZKfLiIP8ZycgMAjZNfQN9YWOp2r2OpWUVxBIMSQzxh0YehB4NeDR/wDBTv8AYvtJFtvGPxO1DwrcEgPbeMPCOp6UUPoWubdE/JjXbeFP2x/2SfHO0eEP2nfAGou/SG18X2bSD6p5m4fiK8/GvNcTNVK8ZaaL3WopdopLlS8l66vU9DAwyzCU3Tw7iru7968m%2B8m3zN%2Bb9NFoM8YfsYfsg/EAu/jb9lr4eapI/We98G2TyfUOYtwPuDXC3H/BKb9gB5muNL/Z2s9HkY5L%2BHNb1DTDn2%2ByXEeK980rWtG122F7omrWt5CektrOsin8VJFWa5oY3HUlaNWS/wC3pflf9D0OWD1sj52/4dnfBPTuPBXxe%2BM/htR91NE%2BM2toq/hJcP8ArS/8O%2BL63/5BH7eP7RFnjoP%2BFgw3OP8AwJtJM/jX0RRV/wBo43rO/qov84sXJDsfO/8Aww58X7TjSf8AgpB8bkA6fbJtEuD%2BbaaM0f8ADGv7SKcQf8FLvimB/wBNNC0Bj%2Bf2Cvoiij%2B0MV3X/gMP/kA5I/1f/M%2Bd/wDhjL9oqXi7/wCClnxXYf8ATHR9Aj/lp9H/AAwn8TLzjWf%2BCjXx4k9RZano1t/6Dppr6Ioo/tDFdGv/AAGH/wAgHJH%2Br/5nzuf%2BCeMNz/yGf23P2iL0HqP%2BFoPbZ/8AAWGLH4Uf8Owf2aNS/wCR38RfE/xPn73/AAkHxg1%2BUN9Ql2gNfRFFH9o47pUa9LL8ooOSHY8B0j/gln/wT40i7F%2B37K3hnUJx/wAtteSXUmP1N3JIT%2BNej%2BDf2Z/2cPhyUb4ffs/%2BCdCMf3Do/hWztiv0McYrt6y/EXjfwX4QiM3izxfpeloBkvqOoRwDH1dhUTxeNr6SqSl85P8AC/6DtCKvojUACgKoAAHAFFeS%2BLf29f2J/A4YeJP2rfAEUiffgh8VWs8o/wC2cTs36VzX/Dy79mDWP3Xw0HjfxvN/DD4N%2BG%2Br3u76SC2EZ/B6I4LGSV1Tlb0a/F2X4mMsXhYuzmr%2Bqf5XPf6K%2Bf8A/hsH4%2BeLOPhN/wAE9viVeD/n48Y6jpegRfXEtzJLj/tnn2oOrf8ABTnxx89h4P8Ag58P7aXjGparqOv3kI9dsMdrET/wIj2qvqVVfHKMfWS/JczF9bpv4VJ%2BkX%2Bbsj6Aqnr/AIj8PeFNLk1vxRrtlptlCMy3d/dJDEg93cgD8TXhX/DJf7Snjbj4zf8ABQHxpLAeTYfD7QrDw9GD3HmhJ7jH/bUH0Iq5oP8AwTb/AGPbDU4/EPjD4XyeNtWQ5bVfiHrV3r0rt6kXskkYP%2B6oFHssJD46t/8ADF/nKy/AXtcTL4adv8TX5K7/ABF8Sf8ABSD9kbTNVk8NeCviLP481pDhdF%2BG%2Bj3OvTu393Nmjxqf951FUD%2B0B%2B218U/3fwT/AGN4fCtnLzDr/wAXvEkdoVHqdPsPPnJ9meP8O3uvh3wx4a8H6VHoXhLw9Y6XYwjEVnp1okESfREAA/Kr1HtsLT%2BCnfzk7/guVfiw9liJ/HUt/hVvxd3%2BCPns/slftE/FT99%2B0t%2B2h4jltJPmk8MfC%2ByTw5YjP3o2uFaW8mTt/rkz6dc9/wDBn9kn9m39nyRrz4RfB3RtJvpcmfWTbm41CcnqZLuYvPJnn7znqfWvRa8%2Bvvjdr2i/FHTvBPiP4U6hp%2Bkazq8mlaP4hn1G3b7Vdrbyz/6hGLrEyQS7XJ3EocoowaHiMVXi4J2XZWivuVr/ADuS6eFw7U5LW9ru8n97vb8Eeg1k%2BM/HPhb4f%2BHLvxZ4s1T7PY2W0XDxwSTPuZgqoscSs7uxZQEVSzFgADmvEPiL8V/iZ4X%2BIni3xlF8QJoNO8IeItJsrnwpPbQG0l0m7it0e73iMTeYs0/mb/M2qsLJt6k%2BW%2BGvh%2B96LL4Q/CmyhsPHFpoU8nizTpIhEp1jSbxLrTtRu9oGXuLhs/asEyqW%2BZgmBVPBprmlLT%2Bnr23WuqOOvmrjJwpwu9Vr1d2lZLfVPRtOy%2B76/wDA3jzwn8SPD8fifwbqwu7R5GjYmJ45IpFOHjkjcB43U8FHAYdxXm3xN/ap8Q6N43v/AITfBL9nrxd468S6eyJeyJa/2Zo9k7osiibULoLGfkdWxCspwcYzxWx8B9A8ZweJvGvjfxR4Ju/DUHiLWbe4stFvby3mkDR2scUtwxt5JEXzHXgbtxWNCyqxKj0msH7KlVd1zL1/O29vkda%2BsYnDxtLkfV21tqtFLa%2Bj1Tt2PAfjFceO7rx7%2BzDc/E3TdLs9ff4vXp1S10W6kntYpf8AhCvFPyxySIjMMY5KjnNe/V4z%2B1B/yW/9nH/ss19/6hXiivZqxbu7nXFcsUr3t33CiiikUFFFFABRRRQAUUUUAFFFFAHjP7eH/JEND/7LN8OP/U10SpvGVr%2B2x4I8V6h4j%2BH%2Bp%2BDfHfh%2B4unmt/DGsQyaPqFnETxBDdx%2BbFLgfxSxqT3b1h/bw/5Ihof/AGWb4cf%2BproleyRyxSgmKRWCsVbac4I6j61cJ8j2T9TlxWGWJilzyg1qnF2f5NNeTTR4jD%2B3T4H8Iyrp37Rvw18XfDG63BGuvEmkGfTHf0TULTzYCPd2T6dK9a8G%2BPPA/wARNHTxD4A8Y6XrlhJ9y90jUI7mI/8AA42IrUmhiuImgniV0dSro65DA9QQeoryXxj%2Bw1%2BzP4r1h/FWl/D/AP4RbXWyV1/wPfTaNeK394vaMgc/74arvQlunH8V%2BNn%2BLOPkznD/AAyhVX95ezl98eaD%2BcYnrlUfEfhjw14w0mXQPFvh6x1SwnGJrLUbRJ4ZB/tI4Kn8RXjn/CkP2u/hx83wi/aui8RWcf8AqdF%2BKPh5LskehvrMwTfiyv8Aj39J%2BEmqfF/VfDEj/G3whomj6zDePEsfh7V5Ly1uYQqlZlaSKN48sWGxgSNoOecBSgoLmjJP8H9xtQxc68/ZVqEoO3VKUX/29FtfJpX7Hmuqf8E8f2cLfUJdd%2BE9nr/w11KZ9z33w28RXGkqT726MbZh7NER26VB/wAKh/bu%2BHXzfDb9qnw/4ztU4i0z4meERHKF9De6c0RJ/wBpoW/Guh/aB13xDbeJtF0v4XePNYTxdJcwLa%2BHdOWKW0ltmnj8%2Be%2BR428uFYt/7zfG2QFQsxCmf41fGbxr4D%2BI/hbwP4VtdDjj1qGd7i98RLdx27SLJDHFbJcQxukUrmRiBIOQhwM10xrYmSSk1K/8yvt5vX8Tz6qy2hKo1F0%2BVxV4NpNy20i%2BW99046XTe6Ry/wDw0b%2B1p4C%2BX4vfsQ6lqVvFxLq3wz8VWmqq/wDtLa3P2acD2AY/yqW0/wCCjX7LdncppnxJ8Ra54Bv3YKbH4geFL7SSp95ZohCfwc12aftC6IfiKngNvCWqtbHWRo0viKLyWsk1P7MLn7NzIJT%2B7OPMEezf8hIbiuK%2BOn7e37Pvw3%2BGWo%2BIraafxPfyywWeg%2BF7fTZll8QXVwzpbx2vmxhbiJ2R/wB9HvTCNjccKdKNF4qrGlGi3KW3K2t/W6XzastXZahUxsMNTlNYtWje/PFPbezjySfyTu9Fd6HiHjLxZ44/4KofEzxD8BfBXjfwfofwp8E%2BLLR9R1zStRF9rOuNDiaOWydf3UEZOR5oyV9WG5K%2B5RwK%2BRf2Yv8Agmj8N7/wLrPjf9rz4NeFL7xn4z8S3GvXVlplp5K%2BHkmC7LCCeJg4EeCSVbaGYgFsb29C/wCGAvA%2Bg/L8KPjz8XPBca/6q00T4h3VxbIf%2BuN/9oTH4V3ZtVwVSqsNRnanT0Vo3TbUeeXMneV5J62tZKyStfDKKeaUqUsVWpc1Srq7ztJJOXJHllG0VGLWl73bu27294orwj/hQf7avhrnwZ%2B3WupxR/6q08afDiyutw9Gms3tm/HBNH2//gpZ4c%2Be58OfBbxVEnUWeo6ppE0n0EkdygP/AALFeR9Xi/hqRfza/Nfqev8AXqkfjoTXolL/ANJl%2Bh7rJFHNG0U0aujDDKwyCPQiuK8V/sz/ALOPjvcfG/wA8E6wX%2B%2BdU8K2dwT/AN9xmvP/APhof9snRefFP7AF9cxr/rJvC/xI0y8/EJcfZnP0xS/8Nxahp3yeK/2MfjjprL/rGh8Ex6gg%2BhsriYkfhVww%2BKg70390l%2BkkTLMMBJWqXX%2BKE1%2BcGhdV/wCCZf7BWq3JvB%2BzB4asZj/y10WKTT2H0Ns8ePwqr/w7V/Zq0/nwdqfxE8OHsdC%2BK%2BuxbfoGu2A/AVZ/4eNfs02Py%2BLl8ceHn7x678Mtbh2/Ui0Kj8TUtr/wUp/YWuZhbyftJ6BaSH/lnqXnWjD6iaNcV0c%2Bcpbzf3v/AOSMfrGQt/HTXzUf/kSl/wAMB2ltxo/7Y/x%2Bsh/CB8TpbnH/AIExy/rQP2J/iXY/8gT/AIKD/G2P0F9f6RdY/wC%2B9Orq9N/bj/Yx1cD7D%2B1f8OiT0STxnZRsfwaUGtuz/ac/Zs1EA6f%2B0J4HnB6eT4ss2z%2BUlQ6%2BZL4k/nBfrA2i8qn8M4/Kf%2BVQ85/4ZN/aat%2BNO/4KPfENQOn2nwvoM387IUf8Mv8A7X68Rf8ABSjxeB/t/D3w63/tnXq8Hxr%2BDV0M2vxb8MSZ6eXr1uf5PVlfir8L3GU%2BJGgke2sQf/FVH1rF9Yr/AMAj/wDIGipYN7T/APJ3/wDJnj//AAy5%2B11Jxcf8FJvGJH/TPwD4eT%2BVnR/wyL%2B0Xc8an/wUZ%2BJbjv8AZdC0KD%2BVia9ff4r/AAtiGZPiV4fUf7WswD/2aqlz8dfgjZjN38Y/CsQH/PTxDbL/ADej61jHtFf%2BAR/%2BQB0sEt5/%2BTv/AOTPK/8Ahh3xtefNrX7fvx1nJ6ra69plsp/79aeCPwNH/Dvvw5d8a/8AtV/HnUlP3o5/ixewo31W38sV6DfftV/svaYCdS/aR8BW4HUz%2BMLJMfnLWDqn7e37E2kAm7/aw%2BHzY6i28V2s3/ot2q1WzOXwp/KC/SBlKWUQ%2BKcfnNfrUObP/BMn9ka9%2BfxT4c8V6/J/E%2BvfEnXLrd9Va82n8q1PDv8AwTh/YO8MSibT/wBk7wPO4Od%2BqaHHekn1JuA%2BTVV/%2BCl37Dhcx2Hx%2BsNQYfw6Rpl5en8oIXzSf8PDvghqP/Ik%2BBvif4lz93%2Bw/hTrL7voZLZBVuWcNWbml6tfrEyWJyFPSVN%2BlpfkpHqPhP4MfB7wEVbwL8KPDWilPuHSdCt7bb9PLQYrpa8I/wCG0PHOsfuvBP7C/wAZb6Q/cbU9GsNMiP1a6vFYfitL/wALu/bp13914e/Yb0vSd33bjxT8UrVdnuY7OC4z9A1c0sNiJO82vnJf/JNm8cxwaVqak/8ADCf/AMgke7UV4R/Z3/BSvxJ%2B6uvE/wAGPCkT9XsdM1TWJ4x7GSS2Qn6rR/wzD%2B1B4nHlfEn9v7xT5Dfft/BXhLS9H/75keO4lH/fZqfq8F8VSPyu/wAl%2Bo/rtaXwUJv15Y/%2BlSb/AAPd64X4h/tPfs4/CYOPiX8dvCWiSR53W%2Bo6/bxzE%2BgjL72PsATXAn/gnZ8BNd%2Bf4r%2BI/H/j1/Txl8QtRuY/%2B/McscOPbZj2ruvh7%2Byt%2BzT8JzHJ8N/gH4Q0aaPG26sfD9uk%2BR3MuzeT7kmjlwcd5Sfokvzb/IOfNKm0IR9ZOT%2B6KS/E4U/8FDfg14i%2BT4L%2BAviJ8RWPAk8G%2BBbt7fPbNzcrDBj/AGvMx70n/C2f29viB%2B78Afsr%2BGfBcD8x6j8RvGYuJNvvaaakmD7GZfQ4r3mij21CPwU1823%2BGiD6rjKn8Su/SEVH8XzyOH%2BCnhf49%2BHrPULr49fFfRvEl5eyxvZ22g%2BGjp1tpygNujQtNLJMGJB3OQRt6c1lfEz4W/F3xh8bPDnjrwt4x8O6dougaXcIkWo6PPeXQu55EWWWMLPFGp8hDGrtv2%2BbIdpzXX%2BOfip8MfhjZ/2h8SPiLoegQbdwl1nVobVSPYyMM15fP%2B378CtYlaz%2BEWm%2BLfiLcoxVovAnhO6vIgfe5ZUtwPcyYoh7eU3OMfw07eS/ExxOIyvDU1Qr1rNNOznebs77Lmm9f7p3msfAf4ceK9X0vxP460ca3q%2BkS77TU7vEchxIsiK6wBElRHVWVXVgpUHrzXZYA6DrXh5%2BJv7cnxD%2BTwD%2Bzn4b8EWrcpqPxD8Tfapyp7/Y9PDYb2adffFIf2WfjP4//efHr9r/AMV30LctovgW2i8PWeD1Rni33Mi9uZhn9KUoNpe0mtPn%2BC0/EiGP5m/qmGnK/VpU0/VztJ/%2BAM9D%2BKXx9%2BCfwTs/tvxZ%2BKeh6ACu6OHUdRRJpf8ArnFnfIfZVJrzr/hr7xt8Rv3H7NH7MvizxRE/%2Bq8Q%2BJIv7A0kqekiyXa%2BfMvtHCc%2Bvp2Hwu/ZO/Zy%2BDN5/a3w8%2BEOj2mpFtz6zcwG6v3buWupy8xP1evQ6nmoR2Tfrp%2BC/wAy/Y5xiP4lWNJdoLml/wCBz0XygeCfGiTxvL8Qf2Y5PiRa6XBrrfF%2B9OpxaJNJJaJL/wAIV4pyImlVXZcY5YA173XjP7UH/Jb/ANnH/ss19/6hXiivZqybu7nqQjyQUbt26vd%2Bu2vyCiiikUFFFFABRRRQAUUUUAfLvwG/bG%2BNvxB%2BMXhaTxtpnhZfAfxM1rxbpngqz0vTbmPVdLk0W7lihkvLh7l4rpbu3trmYrHDAbdvLjzPkyC58Gv2p/i74m/bC8V/BT4veJ9E8N6Zb%2BJdQ0/wH4bvfhPrdjdeIrS3tYZvtNtrtxd/YL1xunZ4LeAuqQsTtCs1dH4O/YM8DeAviXJ8SPC/xd8bwC1vdXu/CugST6dJp/hifVb5L3U3skeyMhNxIrr/AKQ8/kxzypb%2BQrYG/L%2By1BrXxz0f43ePvjf418Sr4Y1e81Twd4T1U6ZHpehXlzaT2TzQ/ZbKG5mZbW6uoU%2B0zzBVuHwN21lAOM/4KF/Fz4UeGvB/gz4UeI/id4e0/wAU%2BIPjD8PZdB8NXutQRahqSR%2BM9GaRre3ZxJMFVWLFFIAUk4wa7Lxj%2Bx58JvEfie98e%2BFtQ8ReDvEWoztPfa54N8QTWUlzIeS0sWWhlJPXfGc96zv28P8AkiGh/wDZZvhx/wCprolb3iX4w/FnwT4gvIdd/Z01jVNEjuGFnq/hXUoL2WSLPys9q5jkU46hd/tmplVVJXf5N/lc8zNIZbOlH67T5o30fLKXK7b3iuaOmnMrdrmB/wAIT%2B2x8POfCHxh8LePbNell400ZtOvAo6KLqyyjN7tB9fWj/hqf4g%2BDB5fxu/ZU8a6Iq/f1Pw0kWvWSr3YtanzlH%2B9CPet7QP2uPgBrV%2Bui6j48j0HUTw2meKbWXTJ1b%2B7i5VAx/3Sa9Esr6y1K1S%2B068iuIZBmOaGQOrD1BHBohWpVfhafp/X6Hn4bD0qyby7GysujlGql6qfvr/wJHn/AIE/a3/Zq%2BJN1/ZvhT4z6E97u2nTL67%2Bx3YPoYLgJLn/AIDXoisrKGUggjII71z/AI7%2BEnws%2BKNr9j%2BJHw40PXo9uFGr6XFcFR/sl1JX6jFedt%2Bw18I9DJk%2BEvinxp4CcnO3wh4tuYYCf%2BveZpYMe2zHtWnus6vaZ/Q%2BKnTqr%2B7KVN/dNTj/AOTI7a%2B%2BBPwxu/Hlx8UbbQ7iw8Q3kaJfarpOqXFpJdqibEEwhkVZwq8KJAwGARyBWT8UfgtceOrIad4k%2BL%2Bq2/hVI7d9Z0aeC0Mdwluyy7jcNGJY9xjUyHcQRuwFzmuI8eaV%2B0t%2Bz94P1D4hXv7YPhq%2B0HSLczXb/EfwmkaxRD%2B9c2MkTMx4A/dszEgAEkA/Nvijx5%2B3t/wUS%2BHenfbvgM2mfB28v45Naj8OX0cGpeLLSKUP%2B5%2B3TRNDaybVIONzD%2B8OB6eBwVXE/vpzUKUdHN9PKKespW2ivVuK1PHx2b4PDwlQng6iqSTlyKN1LWzcpUpSXLd%2B83HVX0k9CTxP%2B094g%2BJPizxD4A/ZZ%2BGnif4m2EPiDWtR0jxF4Z0eSKy/tS6DJEbi7nCQrHbM77WQuJgiHcuCW9Q/ZI/ZZ%2BNfir42Wn7Rn7XPw60vw9L4J8O23h74Y%2BDLTUY72PSYI02vdtJGSjSkEqrA/wATcDYleheDP2ovg78H/C1j4I1L9n7x98OdF0uAQ2ltc%2BAJ2srdR2WSxE0eM5JOeSST1Ndb4V/bI/ZW8aSCDQfj/wCFjMTgWt5q0drNn08uco%2BfbFbYjMacYSp4SlyJq3M25Ta66q0Y3Wj5Vtpe2/FgMPk08XCrisbGU07%2BzbVON0217tRRnJRbbjd72bTaVoPiN8fPir8OfGV5pY/ZN8Y%2BIvD8Pl/ZPEPha/0%2B5a4zGrP/AKLJcRyptYsvQ525HWsP/hv34I6P8vxJ8MeP/Bjf9TR8PNShQf8AbSOGSPHvux717NpmraVrVot/o%2Bp293A33ZraZZEP0KkirFeUp0rWlD7m/wDgn1UsPmLk50cSrPVKUIyXonGUXbtv6s8u8Lftt/sg%2BMmEeg/tKeDGkY4WC61%2BC3lJ9NkzK2fwr0LQvFPhjxRB9q8NeI7DUYsZ8yxvEmXH1QkVS8U/DD4a%2BOAy%2BNfh5oesBhhhqmkw3Gfr5imvPdd/YE/Yw8QT/arr9m3wray5yJdJ04WLA%2BoNsUI/Cj/Z33X3P/IV88h0pT%2BdSD/KaPXqK8SH7AXwN0znwP4l%2BIXhg9v%2BEf8AiXq8QH0D3DgfTGKP%2BGOvFOnfP4X/AG0fjHZsPurea/Z3yD6i5tHY/wDfVHJRe0/vT/RsPrWbR%2BLCp/4asf8A26MWe21Fd2VnfxGC%2BtIpkPVJYww/I14v/wAM/ftZ2Hy6N%2B3rqzoPurrHw%2B0m4x9TGkRP50f8Kx/by0zmw/at8FanjoNT%2BGDxZ%2Bphv/6Ueyh0mvx/yD%2B0cUviwlT5ezf5VEelal8HvhHrBJ1f4WeHLonr9p0O3fP/AH0hrFvf2VP2XtRJOofs3eAZ89fO8H2TZ/OKuP8A7L/4KM2nyxeNPgvfAdGm8O6tAx/75u3H6Uef/wAFHIf%2BYX8Erj/t/wBYhz/5CetEqq2qL/wJmMsZh5fHg6nzpRf/ALczen/Yk/Y0uTum/ZL%2BGhJ6keBrAH9Iart%2Bwj%2BxS5yf2Tfh1%2BHg%2BzH/ALTrJ/tv/govD/rPhx8Gpv8Arl4u1Vf/AEKxo/4Sn/goYvB%2BDfwnb3XxxqA/nYVXPil/y9/8nf8AmZOvlr3wc/8AwQjXj/YU/YqjOV/ZM%2BHJ/wB7wbZH%2BcdWrb9i39jqzObX9k/4aoR/EvgXT8/n5Nc9/wAJP/wUOfhfg/8ACVPd/G%2Bon%2BVhR/a3/BRmb7ngP4LQf9dPFOrOf0sh/OjmxL3q/wDk7/zBV8tW2Dn/AOCEdrY/sx/s2aYQdN/Z78D25HTyPCdmmPyjrd0z4Z/DfRSDo3w%2B0S0K9Da6TDHj/vlRXlu7/go7N/yx%2BCVt/wBtdYnx/wCOpR/YP/BRO/8AlufiZ8HtPB/is/COpzsP%2B/l6oP5VDVSXxVF/4E2bRxtGPwYSp/4Kiv8A25HtiRpEgjjQKoGAqjAFLXiX/Co/25tQ%2Ba//AGx/DVhnqml/CtGx9GmvW/lR/wAM4ftM6n8niX9vbxUYz1TRvB%2BjWf5MbeRh%2BZqPZQ6zX4/5Gv8AaGLfw4Sp83TX/t7PbaK8SP7Ftxe8%2BJP2u/jVqBb7yr42SyU/QWcERA/GqUP7C/7Iur6jc6Z4nm1vxPf2SB76HX/iPqd5JEpzhpImutoBweWXnFHJQW8/uX%2BbJeMzV2Sw8Y3/AJqsf/bYM9e8TfE34b%2BClZvGXxB0PSQv3jqerQwY%2Bu9hXnmvft9/saeHrn7FcftF%2BGr2fOBBol4dRcn0C2okJPsKr/Cz9lr9grUNPbWvhV8Ffhvq8EE7RHULTTLTUNki9V81g5DDPrnmvWNB8K%2BF/Ctt9j8L%2BG7DTYcY8qws0hX8kAFH%2Bzru/uX%2BYoTznEQU4SoqL2a55/jeMWeQf8N1eCdZ5%2BG/wP8Aiv4tRv8AV3Gj/D26ghb/ALa3ogQfiaP%2BF5fth%2BKPl8EfsVjS4pP9Ve%2BNvHtnbbR6tDaLcv8AhkGvbqzfEfjPwf4Pt/tfi3xXpulxYz5uo30cC4%2BrkCj2lJbQ%2B9t/5BPC47l5q%2BMcV/djTgvvlzv8TyL/AIRD/goH4xGzXvjN8OPBUR5x4Y8K3Oqzj28y8mjT8fK/A0f8MZap4o/efGL9qv4o%2BJy//HxZW2vpo1nKPTydOjhOPYua19c/bm/ZL0K7/s4fHHR9Sue1t4eMmpyMfQLaLISapf8ADXl/4gPlfDH9mD4n6%2Bz/AOoubjw6ulWsnv5t/JEce4U1Xtaq%2BFJeiS/4J5cqvDLly1MQ6z7e0nV/8lp3X4Gp4H/Yo/ZQ%2BHd5/anhr4DeHmvt27%2B0tUs/t91u9fPujJJn33V6fDDDbxLBbxKiIoVERcBQOgAHSvHP%2BEw/bo8X/wDIA%2BDPgTwdF/z08UeKJtSm%2BvlWcSJn2838aD8BP2kvF/8AyUz9sLVLW3fmTT/Afhu10wL7CeYXE2PcEVnKU5u85X%2Bdzrw%2BLo0IcmAwU7eUI0o/fNxf/krZ69qOpado9nJqOrahBa28S5lnuZQiIPUsxAFeX%2BJP23P2ZtC1FtB0r4kxeJNUHC6T4Os5tXuGb%2B7ttFkCn/eIqhYfsT/swrrcL%2BOtGuvGes7TKkvjrxDcarK6jgt5VxI0ePcIBXd/DTXvhBKLrwj8Kk0q2TTWxPYaXYi3jQbmTcqhVVl3Iy7lyuVIzWblTTs2aSr51VmoN0qN9FdupLu7JezhdL1OD/4Xz%2B0j48/d/CL9k/UNPgk4j1f4j6zFpaIf7xtYfPuGHsVQ/wAqD8Ev2oPiH8/xb/ahfRLWT/W6N8NNGSxx7fbLkzTn6qEP07eseIvFfhfwhYHVPFviSw0u1HW51G8SCMf8CcgV55dftg/B68uH0/4ef2341u0bDW/g7Q5r1QfeYAQge5kFTOvSpuzaX5/q/wADnxNDA0ZJZjjJSb%2BzzqCfpTpWk/vkcx8bvCtl4I%2BI37MnhPTtR1C7hsfi/exR3Oq38l1cS/8AFFeKDuklkJZ2OepNe814T8dtZv8AxD8Tf2Ztb1Tw5d6RcXPxhvnk02%2BaMzW5/wCEK8UfK5jZlz9Cete7U0%2BZXPoaKpqjFU1aNlbfa2m%2Bu3fXuFFFFM0CiiigAooooAKKKKACiiigDxn9vD/kiGh/9lm%2BHH/qa6JXpun/ABF8A6rrdx4a07xppc2o2kzQ3Ngl9H58bg4KlM7gc%2B1eZft4f8kQ0P8A7LN8OP8A1NdErq/jpZ/s8%2BH/AAXqHxD%2BPun%2BHrbSNOhMl5q2sW6AxDoAr437icAKvzMSAASQKxrQx03GOFScm9nza%2BS5bu9/J%2Bhz4mdSnT54uKS1fM2lb1W3q9Drte8NeHPFVg2leKNAstStW%2B9bX9qk0Z%2BquCK81139k39n7RI7jxLoFteeB5EBkn1Pwvr82lpEO5Ko4hA%2Bq4r5o0PxB%2B0t%2B0RfL4m/YsGsfB74ZQAufHnxA1GaddSj7SWWmzsyiPoQ8hCsD1UgrW9qf/BLbxP4r12Pxh8cfjXP8a5dwmSy8canf2NnG3UeTDZzNGi99pUrz0rqnhKGFTWa2jUVr06Vq1RJ9Wk6fIrpr3pN30tdNHy9fGf2pDnp5f7W203ZR9Yu0arXnFK/RvcufET9sT4SfAXemif8FLtA1n7OcR6NrOjxa9K7dNhl0wJKDnjnP4VT8Df8FBf23fitY3dv8HP2CL7xGqqfsXii/vZNC06Yf89EjvlDyj/ZVwa9b%2BHfhDw58B1jGhfsJaXoSwgD7d4EtrC4dsfxHAimJ9yCfrXaRftP/CK3kFv4o1PUPD05ODB4i0W5syD7s6bP/HqyhnfCmEleEZ3/AOn8pQj/AOA8sV8va2MaOExUal5410F/LHnt9%2BI57eVrHyXpfgzx18YfGVp8QP8AgqFL4zaz0q/%2B06X8PNG8HXH/AAitpIpOx5pLfzmvSM5HmYxkgllJWvrbwl%2B05%2Bzh4oVLDw18YvDYZAEjsptQjtpFA4CiKXawx0xjiuo8PePvAvi5Q3hXxnpWpZHH2DUI5T/46xpPE/w98A%2BNozF4y8D6Pq6kYK6npsU4x/wNTV4jMcZmKjJVIygvhUUlFLyUG16vVvq2elgcsxuAjKWGrQqOWrlOLcpes4Td7dFypLpFGpaXlpf263djdRzROMpLE4ZWHsRwayfFfw3%2BHfjuMw%2BOPAWi6yhGCmq6XDcAj0xIpribv9jT9nKS4a90b4fHRLhjkXHhzVLnT2U%2BoFvIi/mKj/4Zp8Q6R%2B88E/tM/EXTmX/Vx32qw6lEv/AbqF2P/fVc3PiI7wv6P/NI7KlTMpQ5K%2BFjNf3Zxa/8BqQX5lbU/wBg/wDZK1C7bULT4L6fpNw3/Lfw7dXGmMPobSSPFQf8MbWGl/8AIk/tHfFnQlX/AFUEHjV7uFPYJepMMe1aH/CBftbaH%2B80b9oTw7rWOkPiHwT5Wfq9rOn6KKP7d/bN0U77/wCHfw%2B11B/DpniK7snb8JoJFH/fRqvrM18UZfdf8mzy3g8mi7zy%2BVN94Qt%2BNGpH8jPPwO/ap0n5fDX7at1PGv3IvEfgPT7r8C8HkMfrmj%2BzP2/NH/d2vi74Ta4i9GvdG1Kwkb6mOaZR%2BC1of8Ls%2BPOmfN4k/ZG1vYPvSaJ4m0%2B8/JWkiY/kKP8Ahqe2tP8AkPfAH4oaeB99n8HPcKv1Ns8oo%2Bt0uunqmv0FbJobV69L1lXX/pcKi/Eof8LA/bh0T5NV/Zv8E61jq%2BifEOWDP0W4sh%2BpFH/DQP7SGnfN4g/Yf8R7B1fSPF2k3f5Azxt%2Bgq//AMNnfs/2/wAuteIdX0px95NV8J6jb7fqWg2/rVvT/wBsP9l3Uztg%2BOvhyM56XWoLAR9fM24oWLwz%2B1H7/wDgjjiMFe1PNWvKUqL/APSoQZi/8Nc6za/LrP7I3xftWH3jF4atrlfwMF05P5UD9tbwNb/8hv4O/FbTR3N78M9RwPxSNgfwrtrD4%2BfAvVcHS/jR4Tuc9PI8R2r/AMnrZs/HHgrUcf2f4w0ufPTydQjb%2BTVoqtGWzX3nZTWNn/CzCEv%2B4dJ/%2Bk1EeYf8N5fs4Q8anq3iexbut58P9ZTH4/ZCKP8Ahv79klf9f8Vmh/6%2BfD%2BoRf8AoduK9ghuILhd9vMjr6owI/Sn1d49jo9hn3TEU3/3Cf6VTxz/AIeB/sbj/WfHnSY/%2BusM6f8AoUYpR/wUD/YwP/Nw/h8fWVx/7LXsVIVU9QD9aPdD2PEH/P6l/wCCp/8Ay08dP/BQT9jEf83DaAf92SQ/yWj/AIeBfsdHiL456dJ/1xtLl/8A0GI17GAB0FFHuh7HiD/n9S/8FT/%2BWnjn/Dfn7J782/xLup/%2BvXwvqcv/AKBbGj/hu34A3HGjr4x1EnoLL4daw2f%2B%2BrUV7HUNzf2FkN15ewxD1lkC/wA6LwXQToZ7b3sTTX/cJ/rVOa%2BFPxd0T4vabdarofhfxLpkVrMIyPEnh2405psjO6NZ1UuvbI4zxXDfHeyvfCvxN8M/EbR9TkgiGuWkGseX4ouzPIkjeSsENgxNuyNvBdhtcbSQCcmvSr34j/DzTcnUfHmi2%2BOvn6pCn82rkNZ%2BKP7Idt4nj8ba78QPh0NbgjCQ6rcanYm7RRnCrIW3gDJ4B7n1rN1qUHdyS%2Ba/zMsd7Kpgo0q2Ihzpp8zcYbO90lPyta9nrdq55p8fL7QT8QNb16%2BurOXxDJZ6PN8LrtJEM07JcYubeybu7scOqHLJL83yjjP1HwVe6/4pu/h9o3h24TxW934li8QXn2B40ubK8iZ45HmICvHIxiRBklTkAKFOPUn/AGxf2UtJC2Nr8Y9CcRrtjh04tPgegESt%2BlN/4bG%2BDN58vhuHxVrLdl0nwRqUufoTAAfzqfrmGX219/8Alc8OtQyStXlOeMp%2B87tRab11ezk%2Bb7Kla6guVplf9nyDWdS8Z6p4rfwhqmiWr%2BHdLs7231TTJbRptQijZZdqyKvmCNQsfmrlGGNjMBmuh%2BK3wl8cfEjV7afQv2gPE/hLTorby7jT/DlvZBp33E%2BYZp4JHU4IGBxxnGc1jf8ADTupXvy%2BH/2aPideMfumfw9FZqfqbmZCPyo/4W3%2B0pqX/IE/ZOkt1b7smueNrODHuVgEx/Cp%2BtUm7q79E3%2Bh6dKtlX1L6s5TqK924wqq7vf7EY2XkpWet9zP/wCGJfh/qvy%2BPvir8TPFCH70Gs/EC9SJv%2B2ds8Kj8AK0vDn7Ev7Jfhe4%2B2af8APDU8%2Bc/aNVsBfSZ9d9zvbPvnNN%2B0/tq6v80Wl/DTQ0boJ7q/1CRB7hVhUn8aP%2BFV/tOax82v8A7UkNgr/fg8O%2BCraLaPQSXLzH8cCj6zUe0ZfgvzZnDCZSpc1LLZSfeUI3%2B%2BrObPR9D8OeHvDNoNP8N6DZafAOkFjapEn5IAKub0DiMsNxGQuecV5Z/wAMrWGp/wDI6/HH4j64rf62CfxW9rC/tstFiGPaui%2BG/wCz98IPhJqk%2Bu%2BAPBsdlf3Nv5Fzfy3c1xPLHuDbWkmd2IyoPXqKIzrSlrGy9dfwX6ns4ermLnGLw8YQ/wAabS8owhb8UUfjz4k%2BJHgrSI/Fngq9aSC2I87TYNBa6MpGWZ5ZRJmKEIpyVQsDjBOQtVfiv4e8S%2BKr/RPG/hi/tb3R7Sxlmu7O68VXWnWsudjxzfuAVmxjAEmEwTkirnxmvdJ1DVtD8Capfa1FDq9y0V7/AGRfCBfKfEYEx2lijO6phCpyeuBWN8RrXRtLkv8ASovAuhX%2Bi%2BFtLt9VvNO1iwNyXQiSMGAu%2ByHZHAxztOSuOMk1wYnF0KbqczbUWk0r6Ozl93Km3vttfQ4MZCU6lZOTcPd0u9JK8tEk/dsveWu2z1OPv9WtPEHiGHxzD4dvLbxB4iu9D1bwpNJYs06wyRLDPbmQAhViTzGkQkAhi2CX56r4YeCfGOieL/D%2BhXvhS6srbwnZajZyauzxeRe2ry4tI48OXY%2BWEdtygIyFec1NeeKPHsT3F3pXiORkvtV1HRrPS1tolWzeOKRrZosJu3ARlm3Fg2RgKBWh8F9Ttzqo07QtanvdPvPD9pqbi4vnuGt55PlI3uzMN21iVJ4IPAzXJQxtKpio07PV76Lq7aa3u029nFWTOXC4OksXFyk2203pFX1vqtb3kr3VmlaLvudZ4r%2BGvw98d31jqXjbwRpWsT6Z5h0%2BTU7COf7OX27im8HaTsXkf3RWtDBZabaCC3hit4IUwqIoREUew4ArnvHnhzxT4subbTvC/wAU7jw8kSub%2BKwsoJZ51O3aQ0obysYbkKc7h0xzhx/szfDm/cT%2BOL3XPFMqnIbxHrc06A/9clKxfhsrvqV8X7WUcPRT/vOUUvwUpO22qR70vaQrSdGirveTcVf1snJ221%2BRy/7S11a33xn/AGb7uyuY5on%2BMt8UlicMrD/hCvFHII4Ne1V4h%2B0To%2Bk%2BH/i5%2BzXouhaZb2VnbfGO%2BS3tbWFY441/4QrxRwqqAAK9vrvjzcq5t%2Bttr%2BV9Tsjzcq5twoooqhhRRRQAUUUUAFFFFAHMeHPjb8GPGPxB1n4SeEfi74Y1XxX4cRX8Q%2BGdN1%2B2n1DS1bG1ri2RzJADuXBdRnI9aLD42/BjVfile/A3S/i74YufG2m2S3mo%2BD7fX7Z9UtbYhCJpLQP5yRkSR4dlAO9eeRXxx%2Bzx4e8Z%2BC/jZ4A0DxB8IPGunan8NPFXxHvPH3iY%2BB9Ra01G31nWXe0%2BzXSQFNR%2B2PPa3rLbtL5C2jG48lowKu/DTwB8QYP2nvCHw4uPhR4ot9d8KftK%2BNvHXibxjceGbqPSrvw5qOl63FY%2BXqTRi3upCNS0m1NqkjSp9gZmRVgQkA97/bw/5Ihof/ZZvhx/6muiV5B45%2BHvhv8Aa2/4KND4X6nHcar4D%2BEemx634s0q/unuLG88Q3it9lgaJyUxHCTJgcZDoRg4r1X9tn4P/tP/ABh8K6LpnwB8VeAlttJ8YeG9d1Dw54w029hfVW0vXrHUzHHqltLILEMloVybC63MQPkDbl8W/YItv2z/AAj8N/Ffibwl%2Bzv8MdX1DXvif4nHiXXfEHxy1FLu%2Bv7HWLvTZWIi8MMoiDWbeWBjKncUjLFF7cHLCUHLEzV60E1Set4uacZSTTVmoXS31ldbXXl5lhKuOnRotfuubmn5qOsY26qUrN9LRs9z6h%2BLnhfxVrNgkWgW9pc2ogFvHp0iyLskdgnnAoCCFQnhhhRk1H8UJtBvdJsZ7rVNLQ2SPdJpN/uBu9qFdkY3I24HO0gHnHHNcr/wnH/BQv8A6Nf%2BDP8A4fjVv/mXpsnjP/goLMAJf2Wvgu21gy7vjtqxwR0P/Irda%2BLx/DdPFSxU4T1rqKaleSXK7pq1nvZ8rbjpa1nK/p2Opv8AW9W%2B2teafqN1Zx6fd2NpaaYGBEhkCySLIDksxjcAc/LtB55zo%2BHvFmtazqtn/af2WSw1mO6e1tVtzuhjjfCMzFiHDpyeBgsAMivOJNR/bqm1xPEsn7JPwTN8i4W5Px21bcOCM/8AIr9cEjPXBIqr4d/4by8M3TXdj%2BzH8IZCIvJtkuPj7qzLbRZJ8uMf8IsNq5%2Bp4AzgCuSjk%2BeYfHxmq16bnd2k0rJ7uLTTvD3OSNoxspa2uFj1PxD8B/gx4qYya78L9DmkJ5nXTkjk/wC%2B0Ab9ayP%2BGa/Ben/8if4r8W%2BHx2j0nxRc7B/wCVpE/DGK8d1b4wft2fEL4yax8DbX9nb4d6Vq3hbwzpWvXN9pn7QeqQwTQalcajbwoP8Ail2LuraVOWDIABImCxLBe00HxL/wUT0fSYdNu/2d/hFqEkQIN3efHjVPMkyxI3bfCoHAOOAOleu8Bh62PlGpg4qNrqonBNvTS0VCae%2BrbTt5nLPA4OcuZ01fulZ/erP8Tr/%2BFXfGXSvl8OftGX0ka/ci13w/a3X5vGImP50bf2qNL4WXwJrCL3ZbuxkYfh5q5/Kub/4Tj/goX/0a/wDBn/w/Grf/ADL0f8Jx/wAFC/8Ao1/4M/8Ah%2BNW/wDmXro/sujH%2BHUqR9Kkvylzon6jTXwTnH0k/wBeY6T/AIWP8d9O41f9nY3Cr96TRvFVtLn3CzCI/hR/wv8AltONd%2BCPj6yI%2B%2By6ALlR%2BNvI/H4Vzf8AwnH/AAUL/wCjX/gz/wCH41b/AOZeuX1b9o79u3R/jPoHwOuP2UPhI2qeIvC%2Br67Z3KfHXVPIjg065023mRyfDG4OzapAVAUghJMlSFDH1PHR%2BDFS/wC3oQl%2BkWH1fEx%2BGs/nGL/SJ6YP2o/gzB8usa5qGmOPvJqnh%2B9t9v1LxBf1rovBPxW%2BHHxIaaPwJ4z0/VHt0DTx2k4ZoweAWXqM4715z/wnH/BQv/o1/wCDP/h%2BNW/%2BZeo4/Fv/AAUAhma5i/ZV%2BCqyOMPIvx11UM31P/CLc1rRp5lGovaVISj19xxf/pbX4F04YyM1zzi1/haf/pTX4Hd/Ez4iav4Vlt9O8L6VFeXZuLY3xmDeXbwSzLECSv8AGxJCj1Uk8VV%2BJ/iuHTrybTrbwdpuqtYaTJqmqf2k20JaoWGE%2BR90h2PgHA%2BXkivK/HXhf9sv4hzw33iL9jv4HSXcNxBJ9t/4XdqfnMsUgcRlz4VzsOMEZ6E4xVbxbon/AAUW8UHenwK%2BDds13pb6ZrDj416oxu7RmJ2LjwwBE4DOA4BxvPB4rjxMM2vV5HdO3LZrRWlf4lo78t97q9raJ89enjZe0tqna222vdd7X30vY7u%2Bs/gzrWuxRX3wC8M3Wky30VjLqd3plsXW4ki8wDyjEQUX7rMXBDdFI5qj4V%2BEn7MXxA1T7Dd/sw%2BGbBLq0N3pc7aJap9rgD7S2I1BRs4O084INeUfGDxp%2B3d8HbO08a%2BJf2bvhDceHrzx5odmmjWPxp1Qzi%2B1O%2BtdHgJlbw4q/Z1mvEmcBd4CttLYCHrvBGm/8FF/C17ZXmqfAL4LX/8AZmjrp1iE%2BNWrQkIGy0jn/hGm3O2EHAUDacDnjKlRzJ4he0inG%2BukNuvna1nHre99Dj/s1Vaq9rQg1fW8Kb/9tvbt1vuegzfsV/srTP5n/CkNFjb1gjeP/wBBYU3/AIYq/ZlH%2Bq%2BGnlf9cNZvY/8A0GYVxvjpf%2BCiPjeG2ig%2BDHw40M2zMd%2BhftCanCZcgcPv8JuCBjj6muc/4QT/AIKWx/8AHto/hQf9df2g7p/5%2BDq6q0Z06jUMKpLupU1%2BDVwq5RlsZtRwNNrulTX4cqZ6r/wxd%2BzmPueDtST/AK5%2BLdTX%2BVzR/wAMYfs9Dp4b1sfTxtq3/wAlV5V/wiH/AAVGT/Vad4HH%2B/8AHG4b/wB0%2BuY%2BNvi7/gpp8B/gx4u%2BOPinQvBl1pfgzwxf67qVrYfGeVp5re0tpLiRIw/hFVLlYyFDMoyRkgc1lz1f%2BgJ/%2BBU/8yP7Ly7/AKAI/wDlP/M98/4Yv/Z5PDeGdaP%2B9411Y/8At1R/wxb%2Bzifv%2BCb9/wDrp4p1Jv53Bryr/hFf%2BCqJ4ax8A/h8apx/7p9H/CHf8FQn/wBdpvgk/wC58dLhf/dOo56v/QE//Aqf%2BYf2Xl3/AEAR/wDKf%2BbPVf8Ahin9mBv9d8K4Zf8ArvqV1J/6FKaltv2Mf2V7Q7ovgX4fY/8ATa08z/0ImvJf%2BEB/4KTSf8fGieF29k/aIu0H6eDqP%2BFbf8FC3/4%2BPBnhuT/u5zVk/wDQPCa074jpgl850/8A5FgsqwKd1l9P7qX/AMiz26y/Zg/Zv0/BtfgJ4OBHRm8N2zEfiyE1taf8JvhXpOP7K%2BGfh%2B2x0%2Bz6NAmPySvnf/hVH7cUx/4mPwd8I3Y7i4/ar8REH/vnw0K5j4I6X%2B0P8fPgx4R%2BOWifsbfDhtN8Z%2BF9P13TrfXP2m/EbzxQXdtHcRpKo8PsgcLIAwUsMg4JHNWpZh9nDQXrNf8AttM6aeEVP%2BHhKcf/AABf%2Bk0j7GVdG0O3wq21nEOwCxr/AEFZeofFD4aaTn%2B1fiJoVtjr9o1eFMfm1fPFt8Ff2iLWTzR%2BwR8BJW/vXPxz1iYn/vvwwc1s6f4Q/ar0nB0z9gr9naAjo0Xxdv1P5jwpmr5s5ltGnH/t6b/KMTrTzC1lGC%2Bcn%2BSR6jf/ALTXwA05/Lm%2BLeiSt2W0vBOT9PL3Zqv/AMNO/C%2B6%2BXw/D4h1duy6X4Vvpc/Q%2BUAfzrk7DxD%2B3rpS7NM/ZL%2BCNsvpB8cdUQfp4Wqx/wAJx/wUL/6Nf%2BDP/h%2BNW/8AmXo9lm8t6sI%2BkG//AEqf6D5MwlvUivSLf5yOk/4Xp4hv/k8O/s/%2BN7lj91ryyt7ND%2BM0ykflR/wm/wC0Tqn7vS/gXpenZ6S6z4tQ4%2Bq28T/%2BhV5n4B/aO/bt%2BInivxv4Q0f9lD4SQ3HgPxRFoWqyXPx11QJPPJpWn6mHi2%2BGCSnk6jCpLBTvRxjADN1H/Ccf8FC/%2BjX/AIM/%2BH41b/5l6PqWMn8eKl/27GEf/bZP8RfVsRL4q0vkor9GdH/ZX7Uer/JeeL/Beiqf4tP0i5vHX8ZZY1P/AHzW74F8IePPD99PfeM/itc%2BIPNiCR2zaVb2sMJzncojG4nt8zGvP/8AhOP%2BChf/AEa/8Gf/AA/Grf8AzL0f8Jx/wUL/AOjX/gz/AOH41b/5l60pZfSpVFUc5ya/mnJr7vdj%2BDLhhIQmpOUm13k3%2BGi/A7L4i/B2Lx3fSavb%2BL9W0%2B5cWoCWt3sh/cSmRCQgD5BZ8YcYJzVT4teDGvdGk1CO/uW1O6iaw8mz2xpfWzMz/Z5g4kJQL5hLLhsbjkAmuK1XxB/wUU1K/sryH9n34S2iWkpeW3tvjzqYS56YV93hUnA9iOtcrefGX9tD4hfGHWvgNqn7Inwlk1Hwv4b0jxBcXDfHvV0t3h1GfU7aJEKeGgzOp0y43hlC7ZI8FiWC%2BfmGXTxOGxMKFPlnOyUnLRu3xK3NyuN5JXjq9bOLabeEw8nJuPxb76/j5vseu694Qt9SOj/ETwjo95He3LQy3J0%2BWMv5bQBd4SdvJDhcL5hG/aMA1m30uhLNc6zpEsulFNMmuYzHi3eW9t5is/mrHhZpOApyGGDkda5DRo/29dE8PR%2BF7P8AZr%2BEqWkUYREt/wBoDV4CMMWyGi8LKwJzg88gCrkF7%2B3NBp0Glf8ADIvwRlgt5PMhS4%2BOmrSlXznfl/C5JbPO4nPvXi1%2BHszxseaTjCUoxc023FVFGzceTlaTbcm7q7UNNGaxpU4u8Ypddup1umoYfFcJayaLW5tdE5lEJ3S2UkSO%2BXxzGvKAE8FAK7zxBpl/rGkyadpuvT6bNIVxeW0aM6AEEgBwRyMjOOM5ryb/AITj/goV/wBGv/Bn/wAPxq3/AMy9H/Ccf8FC/wDo1/4M/wDh%2BNW/%2BZevcy3I6eAw1ahKblGo9bXi7WaesWnzO7vJOLdo9VcuxW/aI059J%2BLf7Nemyalc3jQ/GO%2BU3V44aWT/AIorxRyxAAJ/AV7fXyv8T/Ev7Vur/tJ/s6Wvxr%2BC/wAPfD%2Bjj4uai0d94W%2BJ19rFyZ/%2BEL8TbUME%2Bi2ShCCxL%2BaSCANhySv1RXtU6cKVNQgtEklu9FotW2/vbfdsYUUUVYBRRRQAUUUUAFFFFABVHxR4hsPCPhrUfFeqh/sumWM13c%2BUuW8uNC7YHc4U1eqO7tLW/tZbG9t0mhmjaOaKVQyupGCpB4II4xQB83/sa/tS/Hz4qeMNG8LfH/TfCSP43%2BE%2BnfEDwuvhPT7m3/su3uJQk%2BmXTT3EwupIRNabbuMQLKXl/cRbBu8m0f8A4KO/HHwX8L9N%2BKWs%2BAvA8%2Bl/FX4X6r46%2BE2i6NptzZPps39raVbW9rqszXEq3TXDa/ZTyzwxQbGjuhsclHPv37P/AOwv4Q/Zz1i11rwn8ZfHWqSaZoun6BoaeILnTrgaZ4fsjMYNGhK2SMbfdMC00he8k8iEPcsIwKwdJ/4JjfAi00bW/Cuu%2BM/GWtaJe%2BEtR8MeFtH1HUrZIvBuk3t1Fdz22lvb20cyfv7azdJLiSeSP7Dbqjqse0gHYfsu/Fz4r%2BMfEvxD%2BEHxyufD194n%2BHniW1sZdb8K6RPp9jqlpdaba30My2s9zcyW7qZ5YWQzyg%2BQJAQJNieu15/8Af2fNI%2BAtn4guT4%2B8Q%2BLte8Wa4NW8TeK/FbWn27UbhbWC0i3LZW9vbxJHb20EapFCi/IWILu7t6BQAV8u/Ab9sb42/EH4xeFpPG2meFl8B/EzWvFumeCrPS9NuY9V0uTRbuWKGS8uHuXiulu7e2uZiscMBt28uPM%2BTIPqKvDPB37BngbwF8S5PiR4X%2BLvjeAWt7q934V0CSfTpNP8MT6rfJe6m9kj2RkJuJFdf8ASHn8mOeVLfyFbAAKd78VPjl4D/ba8NfCrxDqPgHXtM8fWuqyrpnh/wAL3Vrrfh/SLCNpLe%2Bvbx7yWO7gM8y220W9vtmvl2Fwsmcn/gmv%2B1P8Xf2lvhfb6h%2B0X4m0S0%2BIB8KaJq3iP4e2vwn1vwlfeGJry3dpYpYtXu55L2HzklhjuoljiZrWXBc5CdX8P/2MT8Ov2hPGf7Q%2Bl/tMfES8vPHV2Zda0PUotCltI4kgeG1tIJv7MF7DbWu9pIYRc7BI8juJGmmMm38GP2Y7X4U/EHWfi34p%2BMvjDx/4r1rR7TSJNe8Y/wBmxyW2n20s80dtDDptnaQIvm3Ers5jMjkqGcqiKoB6fRRRQB8u/tNftjfG34WfFPxi3w80zws3g34TaL4b1Px3bazptzNqOsR6pfXEU0djNHcxx2jW1rB54aSK4E8koixCFMhm/a4/aW%2BJnwS/aY8J6SuseHvCXgRvClxda78QfEXwi1nX7e0ma/tovscmoWN3b2%2BjxSRjzDNdEx5iQnhMV23xn/Yh%2BHHxu%2BKR%2BJmueOfFWlxaja6Ra%2BL/AA1o11app3imDS72S9sYr5ZbeSYLHNNLn7PLAZY5DFMZYwqCX44fsjT/ALQfg5vhp8Q/2k/iE3hXUtFk0nxf4bsU0WG38T2kjMJoruQab58QkidoX%2ByS2%2BYzjhvmoA8%2B/wCGxvjZ/wANA%2BZ/Znhb/hWP/C5/%2BFafYP7Nuf7b%2B2f2b5/9qfavtPkeV9t/0X7L9n3eX%2B/8/P7mvqKvGf8AhiH4cf8AC/8A/he3/Cc%2BKvs//CV/8JV/wgn2q1/sT%2B3/AOzf7N/tTZ9n%2B0%2Bb9m/5ZfaPs/m/v/J8795Xs1ABXz1%2B15%2B0T%2B0B4D%2BIEPwu/ZwtfCK6np/w113xvrNx4y025uobqCwktYodNhFvcQGCS4e4kzdMZVgEA/cTGTC/QteR/tL/ALHng/8AaZ1Cy1rUfiT4v8I6hb%2BH9T8P32o%2BDby1hm1LRdQ8g3mnzG5tpwscjW0LCWIR3ERQmKaPe%2B4A5P8Aaq%2BPnj2x/Yn/AOGvPhH4m8JaTpdh4LXxdLpXjXwFc67JqGLeO7sra3jt9SsvKuTN5aoSZCZGj2hSATympftV/tRfD79pXwd8Ivj34i8IeDdCuPAHg251/Xv%2BFRa9f6brPijUb7UrTUdLtdYjv1stJCva2K26XfnSM2oRjMpKqfavG/7MPgv4hfDzSPhT4m8Say/h7RPFula5Y6Xbi0hi2abeQ3llpzBLcbrOOW3gO0/vGWIK8jAtuqfGv9lqD49%2BJrO48b/G/wAax%2BFLe%2B069vPh3YHTI9J1GeyukuoXmlNk19jzooWeOO6SNxEFZSrOrgHqlFFFAHi//BQX4u/HD9n79kfxp8evgFe%2BFI9Y8E6Fd65dQeMNFub62u7S1tpZnt0S2urZkldkRRIXKoCxKPwKu/tg/E/xd4E8HeGvAvw90zQbjXviP4ytfCmmy%2BKtNkvdMtVnhnuLma5to5YWuUW0tbnEIlj8xyil1BJGp%2B1j%2BzjZftafAjXv2fda%2BKvinwjpPieylsdcv/CC6d9rubKWJ4prbdf2l1GiOr8siLICo2uvOc7xv%2BytJ8Svh1Z%2BCPHn7QXjrUdT0nU9O1TQPGJi0eDU9J1KzJK3kIg05LZnkDOsiSwSQskjp5YVipAPn29/b8/ar8TeGtQ0D4c6F4Ag8XfD/wANeNNX%2BIEmr6TeyWGrvoGsSaZFa2CJdo9kL4wTT%2BdK9z9kGxDFcklh9i%2BBfF2m/EDwRo3j3Ro5Us9b0q3v7RJlw6xzRLIoYDocMM%2B9eC%2BI/wDgmT8Idc8D6d4M034sfEDRZo9J1/S/E%2BvaRqdkl/4rstbvPt2rQ37yWjoDcXW6XzbVLeWAyOLd4FYrX0Rpmm6fo2m2%2Bj6TZR21raQJDbW8KBUijUBVRQOAAAAB7UAT1zXxik%2BJsPwy1if4Oa1oOneJYrXfpl74m0qa%2BsYirAuZYIJ7eSUeWHwqyx/MVy2M10tYXxM8Hap8QfAep%2BC9G%2BIOs%2BFbjUbfyU8QeH4bOS8swSCzRLe29xbkkAqfMhcYY4AOCADgvgJ8UfjB%2B0N%2BxH8P/jX4fufDWj%2BNfHHw40TXGlvNKuLjS7O8vLKC4lP2ZbhJpIlMj7Y/PViAoMnVq8Bvf2zP2o9B%2BDmnr4C0jwrdQaP8c7vwJqHjzwd8Gtd17R5NCs9Eurl9RtNE029a6jWLUYU0lyLmWJJYJWzgqF9h8JfsNT%2BDP2S0/Y80n9rf4rroNr4ITwrpWvwz6JbaxptjGiRRPBcW2lxqsyQIIVlKE7SXOZcSjR8H/sjeJvh78ENJ%2BBvgH9rz4jaJa6FcIuk6vpeieFYbi1sEt1gj01IV0T7Gtsm0OpFv5wY483ZhAAehfB3xvpvxK%2BE/hr4gaR440jxNb6zodrdp4h8P2jW9jqReJWNxBE8srQxuSWWNpJGQEKzsQSekrl/gr8IfBvwD%2BFOg/Bz4fxXK6R4e09LSza%2BuWmnlAyWllkbl5HYs7N3ZicDpXUUAFeL/ALHPxd%2BOHxKuvil4O%2BP174Uu9Z%2BH/wATG8PW194P0W5sLW4tW0bStSQtFc3Vy5kVtQeMuHCuI1YImSK9orxf4E/seax8CfGni/xraftZfErxHJ448Vw%2BINesfENp4dED3aWtvZkJ9k0iB0je3tLaJgHziEMpV2dmAPDPBH7f/wAVfBnw3%2BMXxE%2BL0Phq28XeG9L8Qaxonwwb4Ua14Zvr%2BOy1B9PsrxtSv7qSLVbeSNdPWS5tYdkX2mLJA2Ifef2ZPi58Y/Efj7x/8C/j/d%2BGdQ8TeBbrTJl1zwho1xp1jqFjf2nmxN9muLm5eGVJYrmJh5zhljjkGzeY0zNc/YI8DfETVfEGq/Hr4weOfiGdc8E6v4StIPEk%2BnWyaLpOpyQPew2n9m2VqfMc2lpieYyzJ9mTa6kuW7H4Afs56V8Bj4h1i4%2BJHibxp4i8V6jDd%2BIPFnjCSzN9d%2BRbR20EW2ytra3jijijAVY4lyzyO255HZgD0SiiigDxf4K/F344a1%2B1x8WfgL8VL3wpdaP4Y0Lw9rnhCfw/otza3MVpqVzrMP2e8ea6mW4lRdMibzI0gXMrjYcA1z/iT4iftLeFf2/PBfwg0zxV8OdV8OeLtI1jWPENnB8Pry31nS9B05Eit9%2Bo/wBqvFLIdQ1G3VVa0VWRroqqlSa6DRf2PNY0D9ovxh%2B0lp37WXxKGoeM9KstMvdCe08OnT7O0s57qa0igH9keePKN7dKGkmkZlmO8uVQr2ml/Avwrpfxw8S/tApq2pza/wCJPDGm6A3nzRmHTrKylu5kW2URgozy3sryMxfeUiHAjUAA8e/4JxftT/F39o/wL5v7RfibRLLx3/wjOkarrPw8t/hPrfhS%2B8ONdRymRZF1e7mfUIDKjxR3UCRxFraXlycJ9K15d8G/2X7b4W/EXVPi/wCLfjT4y%2BIPinUtEt9GTW/GR02N7PT4ZZJhbwxabZWkChpZWd3aNpGIQF9qKo9RoAK8H/a1%2BM37QXwG8SeF/F3gzxB4HvfD2teLtC8O23gW%2B8OXkmua5c3t8sNy1pex3qxQmC1aS62NaTDy7SZneNAXj94rxn4k/scr8RP2ndE/amt/2jviBoWq%2BH9DGlaZoGmQ6JcaXBA83m3LRpfaZcTQy3IEcc0sUqO0cMaKyAcgHC/tsftQ/Gb4W%2BMvEFn8GvDng66T4T/Ci6%2BJXiYeLNKnuptRhVrqGLT7CSK4hFjPLDa6gpu3E6pujXyXV3Iq6R%2B2z8Ytb%2BNlrrtjp3hc/Cq7%2BL6fDqGxbS7ka4bltLFyNUNz9p8gRfbD9m%2ByfZ93l/v/AD8/ua7j46fsI%2BCv2g2im8bfGDxxbTXfhe78MeL59IuNOgbxXoVzMJZNMvh9iKrF99Fkthbzok0oWUeY5NqP9hz4aQ/HtfjhD418UJaJ4pHihfAS3NoNDXXhpv8AZo1MJ9m%2B0%2Bb9m48r7R9n8z995PnfvKAPaKKKKACiiigAooooAKKKKACiiigAooooAKKKKACiiigAooooAKKKKACiiigAooooAKKKKACiiigAooooAKKKKACiiigAooooAKKKKACiiigAooooAKKKKACiiigAooooAKKKKACiiigAooooAKKKKACiiigD/9k%3D\">"
      ]
     },
     "metadata": {},
     "output_type": "display_data"
    }
   ],
   "source": [
    "try:\n",
    "    display_html(HTML(anim.to_html5_video()))\n",
    "# In case the build-in renderers are unaviable, fall back to\n",
    "# a custom one, that doesn't require external libraries\n",
    "except (RuntimeError, KeyError):\n",
    "    anim.save(None, writer=matplotlib_utils.SimpleMovieWriter(0.001))"
   ]
  },
  {
   "cell_type": "markdown",
   "metadata": {},
   "source": [
    "# Logistic regression\n",
    "Your assignment is to implement the logistic regression\n",
    "\n",
    "Plan:\n",
    "* Use a shared variable for weights\n",
    "* Use a matrix placeholder for `X`\n",
    " \n",
    "We shall train on a two-class MNIST dataset\n",
    "* please note that target `y` are `{0,1}` and not `{-1,1}` as in some formulae"
   ]
  },
  {
   "cell_type": "code",
   "execution_count": 34,
   "metadata": {},
   "outputs": [
    {
     "name": "stdout",
     "output_type": "stream",
     "text": [
      "y [shape - (360,)]: [0 1 0 1 0 1 0 0 1 1]\n",
      "X [shape - (360, 64)]:\n"
     ]
    }
   ],
   "source": [
    "from sklearn.datasets import load_digits\n",
    "mnist = load_digits(2)\n",
    "\n",
    "X, y = mnist.data, mnist.target\n",
    "\n",
    "print(\"y [shape - %s]:\" % (str(y.shape)), y[:10])\n",
    "print(\"X [shape - %s]:\" % (str(X.shape)))"
   ]
  },
  {
   "cell_type": "code",
   "execution_count": 35,
   "metadata": {},
   "outputs": [
    {
     "name": "stdout",
     "output_type": "stream",
     "text": [
      "X:\n",
      " [[ 0.  0.  5. 13.  9.  1.  0.  0.  0.  0.]\n",
      " [ 0.  0.  0. 12. 13.  5.  0.  0.  0.  0.]\n",
      " [ 0.  0.  1.  9. 15. 11.  0.  0.  0.  0.]]\n",
      "y:\n",
      " [0 1 0 1 0 1 0 0 1 1]\n"
     ]
    },
    {
     "data": {
      "image/png": "[encoded data removed]",
      "text/plain": [
       "<Figure size 432x288 with 1 Axes>"
      ]
     },
     "metadata": {
      "needs_background": "light"
     },
     "output_type": "display_data"
    }
   ],
   "source": [
    "print('X:\\n',X[:3,:10])\n",
    "print('y:\\n',y[:10])\n",
    "plt.imshow(X[0].reshape([8,8]));"
   ]
  },
  {
   "cell_type": "markdown",
   "metadata": {},
   "source": [
    "It's your turn now!\n",
    "Just a small reminder of the relevant math:\n",
    "\n",
    "$$\n",
    "P(y=1|X) = \\sigma(X \\cdot W + b)\n",
    "$$\n",
    "$$\n",
    "\\text{loss} = -\\log\\left(P\\left(y_\\text{predicted} = 1\\right)\\right)\\cdot y_\\text{true} - \\log\\left(1 - P\\left(y_\\text{predicted} = 1\\right)\\right)\\cdot\\left(1 - y_\\text{true}\\right)\n",
    "$$\n",
    "\n",
    "$\\sigma(x)$ is available via `tf.nn.sigmoid` and matrix multiplication via `tf.matmul`"
   ]
  },
  {
   "cell_type": "code",
   "execution_count": 38,
   "metadata": {},
   "outputs": [],
   "source": [
    "from sklearn.model_selection import train_test_split\n",
    "X_train, X_test, y_train, y_test = train_test_split(\n",
    "    X, y, random_state=42)"
   ]
  },
  {
   "cell_type": "markdown",
   "metadata": {},
   "source": [
    "__Your code goes here.__ For the training and testing scaffolding to work, please stick to the names in comments."
   ]
  },
  {
   "cell_type": "code",
   "execution_count": 2,
   "metadata": {
    "collapsed": true
   },
   "outputs": [],
   "source": [
    "# Model parameters - weights and bias\n",
    "# weights = tf.Variable(...) shape should be (X.shape[1], 1)\n",
    "# b = tf.Variable(...)"
   ]
  },
  {
   "cell_type": "code",
   "execution_count": 3,
   "metadata": {
    "collapsed": true
   },
   "outputs": [],
   "source": [
    "# Placeholders for the input data\n",
    "# input_X = tf.placeholder(...)\n",
    "# input_y = tf.placeholder(...)"
   ]
  },
  {
   "cell_type": "code",
   "execution_count": 2,
   "metadata": {
    "collapsed": true
   },
   "outputs": [],
   "source": [
    "# The model code\n",
    "\n",
    "# Compute a vector of predictions, resulting shape should be [input_X.shape[0],]\n",
    "# This is 1D, if you have extra dimensions, you can  get rid of them with tf.squeeze .\n",
    "# Don't forget the sigmoid.\n",
    "# predicted_y = <predicted probabilities for input_X>\n",
    "\n",
    "# Loss. Should be a scalar number - average loss over all the objects\n",
    "# tf.reduce_mean is your friend here\n",
    "# loss = <logistic loss (scalar, mean over sample)>\n",
    "\n",
    "# See above for an example. tf.train.*Optimizer\n",
    "# optimizer = <optimizer that minimizes loss>"
   ]
  },
  {
   "cell_type": "markdown",
   "metadata": {},
   "source": [
    "A test to help with the debugging"
   ]
  },
  {
   "cell_type": "code",
   "execution_count": null,
   "metadata": {
    "collapsed": true
   },
   "outputs": [],
   "source": [
    "validation_weights = 1e-3 * np.fromiter(map(lambda x:\n",
    "        s.run(weird_psychotic_function, {my_scalar:x, my_vector:[1, 0.1, 2]}),\n",
    "                                   0.15 * np.arange(1, X.shape[1] + 1)),\n",
    "                                   count=X.shape[1], dtype=np.float32)[:, np.newaxis]\n",
    "# Compute predictions for given weights and bias\n",
    "prediction_validation = s.run(\n",
    "    predicted_y, {\n",
    "    input_X: X,\n",
    "    weights: validation_weights,\n",
    "    b: 1e-1})\n",
    "\n",
    "# Load the reference values for the predictions\n",
    "validation_true_values = np.loadtxt(\"validation_predictons.txt\")\n",
    "\n",
    "assert prediction_validation.shape == (X.shape[0],),\\\n",
    "       \"Predictions must be a 1D array with length equal to the number \" \\\n",
    "       \"of examples in input_X\"\n",
    "assert np.allclose(validation_true_values, prediction_validation)\n",
    "loss_validation = s.run(\n",
    "        loss, {\n",
    "            input_X: X[:100],\n",
    "            input_y: y[-100:],\n",
    "            weights: validation_weights+1.21e-3,\n",
    "            b: -1e-1})\n",
    "assert np.allclose(loss_validation, 0.728689)"
   ]
  },
  {
   "cell_type": "code",
   "execution_count": null,
   "metadata": {},
   "outputs": [],
   "source": [
    "from sklearn.metrics import roc_auc_score\n",
    "s.run(tf.global_variables_initializer())\n",
    "for i in range(5):\n",
    "    s.run(optimizer, {input_X: X_train, input_y: y_train})\n",
    "    loss_i = s.run(loss, {input_X: X_train, input_y: y_train})\n",
    "    print(\"loss at iter %i:%.4f\" % (i, loss_i))\n",
    "    print(\"train auc:\", roc_auc_score(y_train, s.run(predicted_y, {input_X:X_train})))\n",
    "    print(\"test auc:\", roc_auc_score(y_test, s.run(predicted_y, {input_X:X_test})))"
   ]
  },
  {
   "cell_type": "markdown",
   "metadata": {},
   "source": [
    "### Coursera submission"
   ]
  },
  {
   "cell_type": "code",
   "execution_count": 37,
   "metadata": {
    "collapsed": true
   },
   "outputs": [],
   "source": [
    "grade_submitter = grading.Grader(\"BJCiiY8sEeeCnhKCj4fcOA\")"
   ]
  },
  {
   "cell_type": "code",
   "execution_count": 38,
   "metadata": {
    "collapsed": true
   },
   "outputs": [],
   "source": [
    "test_weights = 1e-3 * np.fromiter(map(lambda x:\n",
    "    s.run(weird_psychotic_function, {my_scalar:x, my_vector:[1, 2, 3]}),\n",
    "                               0.1 * np.arange(1, X.shape[1] + 1)),\n",
    "                               count=X.shape[1], dtype=np.float32)[:, np.newaxis]"
   ]
  },
  {
   "cell_type": "markdown",
   "metadata": {},
   "source": [
    "First, test prediction and loss computation. This part doesn't require a fitted model."
   ]
  },
  {
   "cell_type": "code",
   "execution_count": 39,
   "metadata": {
    "collapsed": true
   },
   "outputs": [],
   "source": [
    "prediction_test = s.run(\n",
    "    predicted_y, {\n",
    "    input_X: X,\n",
    "    weights: test_weights,\n",
    "    b: 1e-1})"
   ]
  },
  {
   "cell_type": "code",
   "execution_count": 40,
   "metadata": {
    "collapsed": true
   },
   "outputs": [],
   "source": [
    "assert prediction_test.shape == (X.shape[0],),\\\n",
    "       \"Predictions must be a 1D array with length equal to the number \" \\\n",
    "       \"of examples in X_test\""
   ]
  },
  {
   "cell_type": "code",
   "execution_count": 41,
   "metadata": {
    "collapsed": true
   },
   "outputs": [],
   "source": [
    "grade_submitter.set_answer(\"0ENlN\", prediction_test)"
   ]
  },
  {
   "cell_type": "code",
   "execution_count": 42,
   "metadata": {
    "collapsed": true
   },
   "outputs": [],
   "source": [
    "loss_test = s.run(\n",
    "    loss, {\n",
    "        input_X: X[:100],\n",
    "        input_y: y[-100:],\n",
    "        weights: test_weights+1.21e-3,\n",
    "        b: -1e-1})\n",
    "# Yes, the X/y indices mistmach is intentional"
   ]
  },
  {
   "cell_type": "code",
   "execution_count": 43,
   "metadata": {
    "collapsed": true
   },
   "outputs": [],
   "source": [
    "grade_submitter.set_answer(\"mMVpM\", loss_test)"
   ]
  },
  {
   "cell_type": "code",
   "execution_count": 44,
   "metadata": {
    "collapsed": true
   },
   "outputs": [],
   "source": [
    "grade_submitter.set_answer(\"D16Rc\", roc_auc_score(y_test, s.run(predicted_y, {input_X:X_test})))"
   ]
  },
  {
   "cell_type": "markdown",
   "metadata": {},
   "source": [
    "Please use the credentials obtained from the Coursera assignment page."
   ]
  },
  {
   "cell_type": "code",
   "execution_count": 45,
   "metadata": {},
   "outputs": [
    {
     "name": "stdout",
     "output_type": "stream",
     "text": [
      "Submitted to Coursera platform. See results on assignment page!\n"
     ]
    }
   ],
   "source": [
    "grade_submitter.submit(<email>, <token>)"
   ]
  }
 ],
 "metadata": {
  "kernelspec": {
   "display_name": "Python 3",
   "language": "python",
   "name": "python3"
  },
  "language_info": {
   "codemirror_mode": {
    "name": "ipython",
    "version": 3
   },
   "file_extension": ".py",
   "mimetype": "text/x-python",
   "name": "python",
   "nbconvert_exporter": "python",
   "pygments_lexer": "ipython3",
   "version": "3.6.6"
  }
 },
 "nbformat": 4,
 "nbformat_minor": 1
}
